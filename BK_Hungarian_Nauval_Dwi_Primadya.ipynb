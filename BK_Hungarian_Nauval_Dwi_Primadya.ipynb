{
  "cells": [
    {
      "cell_type": "markdown",
      "metadata": {
        "id": "_12KCNFwGA1L"
      },
      "source": [
        "## 1) Pengumpulan Data <a class=\"anchor\" id=\"h1\"></a>"
      ]
    },
    {
      "cell_type": "markdown",
      "metadata": {
        "id": "BESql7bFGA1L"
      },
      "source": [
        "menggunakan dataset yang bersumber dari UCI Machine Learning yaitu Heart Disease. Dataset yang dipakai adalah dataset dengan nama file \"Hungarian.data\". Data bersifat publik\n"
      ]
    },
    {
      "cell_type": "markdown",
      "metadata": {
        "id": "9PYrOT2SGA1L"
      },
      "source": [
        "## 2) Menelaah Data <a class=\"anchor\" id=\"h2\"></a>"
      ]
    },
    {
      "cell_type": "code",
      "execution_count": 187,
      "metadata": {
        "_cell_guid": "b1076dfc-b9ad-4769-8c92-a6c4dae69d19",
        "_uuid": "8f2839f25d086af736a60e9eeb907d3b93b6e0e5",
        "execution": {
          "iopub.execute_input": "2023-12-15T15:09:17.047697Z",
          "iopub.status.busy": "2023-12-15T15:09:17.046726Z",
          "iopub.status.idle": "2023-12-15T15:09:17.054136Z",
          "shell.execute_reply": "2023-12-15T15:09:17.053149Z",
          "shell.execute_reply.started": "2023-12-15T15:09:17.047665Z"
        },
        "id": "5kniTxQ-GA1M",
        "trusted": true
      },
      "outputs": [],
      "source": [
        "import pandas as pd\n",
        "import re\n",
        "import numpy as np\n",
        "import itertools"
      ]
    },
    {
      "cell_type": "markdown",
      "metadata": {
        "id": "OZL8W0PdLtfi"
      },
      "source": [
        "Library yang digunakan untuk proses machine learning"
      ]
    },
    {
      "cell_type": "markdown",
      "metadata": {
        "id": "hTtPI_TEGA1N"
      },
      "source": [
        "### Load Data"
      ]
    },
    {
      "cell_type": "code",
      "execution_count": 188,
      "metadata": {
        "id": "jCoCBImBHURw"
      },
      "outputs": [],
      "source": [
        "# from google.colab import drive\n",
        "# drive.mount('/content/drive')"
      ]
    },
    {
      "cell_type": "markdown",
      "metadata": {
        "id": "e3_j38InLt9R"
      },
      "source": [
        "memasukan lokasi dari file"
      ]
    },
    {
      "cell_type": "code",
      "execution_count": 189,
      "metadata": {
        "execution": {
          "iopub.execute_input": "2023-12-15T15:09:17.066588Z",
          "iopub.status.busy": "2023-12-15T15:09:17.066109Z",
          "iopub.status.idle": "2023-12-15T15:09:17.070654Z",
          "shell.execute_reply": "2023-12-15T15:09:17.069707Z",
          "shell.execute_reply.started": "2023-12-15T15:09:17.066562Z"
        },
        "id": "bXvjpaSwGA1O",
        "trusted": true
      },
      "outputs": [],
      "source": [
        "dir =  'hungarian.data'"
      ]
    },
    {
      "cell_type": "code",
      "execution_count": 190,
      "metadata": {
        "colab": {
          "base_uri": "https://localhost:8080/"
        },
        "execution": {
          "iopub.execute_input": "2023-12-15T15:09:17.089553Z",
          "iopub.status.busy": "2023-12-15T15:09:17.089284Z",
          "iopub.status.idle": "2023-12-15T15:09:17.105522Z",
          "shell.execute_reply": "2023-12-15T15:09:17.104705Z",
          "shell.execute_reply.started": "2023-12-15T15:09:17.089530Z"
        },
        "id": "VlSvkP1zGA1O",
        "outputId": "c0f1d809-90f7-4545-f6e2-b6f8a76d4dec",
        "trusted": true
      },
      "outputs": [
        {
          "data": {
            "text/plain": [
              "['1254 0 40 1 1 0 0',\n",
              " '-9 2 140 0 289 -9 -9 -9',\n",
              " '0 -9 -9 0 12 16 84 0',\n",
              " '0 0 0 0 150 18 -9 7',\n",
              " '172 86 200 110 140 86 0 0',\n",
              " '0 -9 26 20 -9 -9 -9 -9',\n",
              " '-9 -9 -9 -9 -9 -9 -9 12',\n",
              " '20 84 0 -9 -9 -9 -9 -9',\n",
              " '-9 -9 -9 -9 -9 1 1 1',\n",
              " '1 1 -9. -9. name']"
            ]
          },
          "execution_count": 190,
          "metadata": {},
          "output_type": "execute_result"
        }
      ],
      "source": [
        "with open(dir, encoding='Latin1') as file:\n",
        "  lines = [line.strip() for line in file]\n",
        "\n",
        "lines[0:10]"
      ]
    },
    {
      "cell_type": "code",
      "execution_count": 191,
      "metadata": {
        "colab": {
          "base_uri": "https://localhost:8080/",
          "height": 235
        },
        "execution": {
          "iopub.execute_input": "2023-12-15T15:09:17.116393Z",
          "iopub.status.busy": "2023-12-15T15:09:17.116132Z",
          "iopub.status.idle": "2023-12-15T15:09:17.146809Z",
          "shell.execute_reply": "2023-12-15T15:09:17.145741Z",
          "shell.execute_reply.started": "2023-12-15T15:09:17.116370Z"
        },
        "id": "eib-L5ayGA1P",
        "outputId": "7052164d-8be9-4908-9402-cd3a1cd6c039",
        "trusted": true
      },
      "outputs": [
        {
          "data": {
            "text/html": [
              "<div>\n",
              "<style scoped>\n",
              "    .dataframe tbody tr th:only-of-type {\n",
              "        vertical-align: middle;\n",
              "    }\n",
              "\n",
              "    .dataframe tbody tr th {\n",
              "        vertical-align: top;\n",
              "    }\n",
              "\n",
              "    .dataframe thead th {\n",
              "        text-align: right;\n",
              "    }\n",
              "</style>\n",
              "<table border=\"1\" class=\"dataframe\">\n",
              "  <thead>\n",
              "    <tr style=\"text-align: right;\">\n",
              "      <th></th>\n",
              "      <th>0</th>\n",
              "      <th>1</th>\n",
              "      <th>2</th>\n",
              "      <th>3</th>\n",
              "      <th>4</th>\n",
              "      <th>5</th>\n",
              "      <th>6</th>\n",
              "      <th>7</th>\n",
              "      <th>8</th>\n",
              "      <th>9</th>\n",
              "      <th>...</th>\n",
              "      <th>66</th>\n",
              "      <th>67</th>\n",
              "      <th>68</th>\n",
              "      <th>69</th>\n",
              "      <th>70</th>\n",
              "      <th>71</th>\n",
              "      <th>72</th>\n",
              "      <th>73</th>\n",
              "      <th>74</th>\n",
              "      <th>75</th>\n",
              "    </tr>\n",
              "  </thead>\n",
              "  <tbody>\n",
              "    <tr>\n",
              "      <th>0</th>\n",
              "      <td>1254</td>\n",
              "      <td>0</td>\n",
              "      <td>40</td>\n",
              "      <td>1</td>\n",
              "      <td>1</td>\n",
              "      <td>0</td>\n",
              "      <td>0</td>\n",
              "      <td>-9</td>\n",
              "      <td>2</td>\n",
              "      <td>140</td>\n",
              "      <td>...</td>\n",
              "      <td>-9</td>\n",
              "      <td>-9</td>\n",
              "      <td>1</td>\n",
              "      <td>1</td>\n",
              "      <td>1</td>\n",
              "      <td>1</td>\n",
              "      <td>1</td>\n",
              "      <td>-9.</td>\n",
              "      <td>-9.</td>\n",
              "      <td>name</td>\n",
              "    </tr>\n",
              "    <tr>\n",
              "      <th>1</th>\n",
              "      <td>1255</td>\n",
              "      <td>0</td>\n",
              "      <td>49</td>\n",
              "      <td>0</td>\n",
              "      <td>1</td>\n",
              "      <td>0</td>\n",
              "      <td>0</td>\n",
              "      <td>-9</td>\n",
              "      <td>3</td>\n",
              "      <td>160</td>\n",
              "      <td>...</td>\n",
              "      <td>-9</td>\n",
              "      <td>-9</td>\n",
              "      <td>1</td>\n",
              "      <td>1</td>\n",
              "      <td>1</td>\n",
              "      <td>1</td>\n",
              "      <td>1</td>\n",
              "      <td>-9.</td>\n",
              "      <td>-9.</td>\n",
              "      <td>name</td>\n",
              "    </tr>\n",
              "    <tr>\n",
              "      <th>2</th>\n",
              "      <td>1256</td>\n",
              "      <td>0</td>\n",
              "      <td>37</td>\n",
              "      <td>1</td>\n",
              "      <td>1</td>\n",
              "      <td>0</td>\n",
              "      <td>0</td>\n",
              "      <td>-9</td>\n",
              "      <td>2</td>\n",
              "      <td>130</td>\n",
              "      <td>...</td>\n",
              "      <td>-9</td>\n",
              "      <td>-9</td>\n",
              "      <td>1</td>\n",
              "      <td>1</td>\n",
              "      <td>1</td>\n",
              "      <td>1</td>\n",
              "      <td>1</td>\n",
              "      <td>-9.</td>\n",
              "      <td>-9.</td>\n",
              "      <td>name</td>\n",
              "    </tr>\n",
              "    <tr>\n",
              "      <th>3</th>\n",
              "      <td>1257</td>\n",
              "      <td>0</td>\n",
              "      <td>48</td>\n",
              "      <td>0</td>\n",
              "      <td>1</td>\n",
              "      <td>1</td>\n",
              "      <td>1</td>\n",
              "      <td>-9</td>\n",
              "      <td>4</td>\n",
              "      <td>138</td>\n",
              "      <td>...</td>\n",
              "      <td>2</td>\n",
              "      <td>-9</td>\n",
              "      <td>1</td>\n",
              "      <td>1</td>\n",
              "      <td>1</td>\n",
              "      <td>1</td>\n",
              "      <td>1</td>\n",
              "      <td>-9.</td>\n",
              "      <td>-9.</td>\n",
              "      <td>name</td>\n",
              "    </tr>\n",
              "    <tr>\n",
              "      <th>4</th>\n",
              "      <td>1258</td>\n",
              "      <td>0</td>\n",
              "      <td>54</td>\n",
              "      <td>1</td>\n",
              "      <td>1</td>\n",
              "      <td>0</td>\n",
              "      <td>1</td>\n",
              "      <td>-9</td>\n",
              "      <td>3</td>\n",
              "      <td>150</td>\n",
              "      <td>...</td>\n",
              "      <td>1</td>\n",
              "      <td>-9</td>\n",
              "      <td>1</td>\n",
              "      <td>1</td>\n",
              "      <td>1</td>\n",
              "      <td>1</td>\n",
              "      <td>1</td>\n",
              "      <td>-9.</td>\n",
              "      <td>-9.</td>\n",
              "      <td>name</td>\n",
              "    </tr>\n",
              "  </tbody>\n",
              "</table>\n",
              "<p>5 rows × 76 columns</p>\n",
              "</div>"
            ],
            "text/plain": [
              "     0  1   2  3  4  5  6   7  8    9   ...  66  67 68 69 70 71 72   73   74  \\\n",
              "0  1254  0  40  1  1  0  0  -9  2  140  ...  -9  -9  1  1  1  1  1  -9.  -9.   \n",
              "1  1255  0  49  0  1  0  0  -9  3  160  ...  -9  -9  1  1  1  1  1  -9.  -9.   \n",
              "2  1256  0  37  1  1  0  0  -9  2  130  ...  -9  -9  1  1  1  1  1  -9.  -9.   \n",
              "3  1257  0  48  0  1  1  1  -9  4  138  ...   2  -9  1  1  1  1  1  -9.  -9.   \n",
              "4  1258  0  54  1  1  0  1  -9  3  150  ...   1  -9  1  1  1  1  1  -9.  -9.   \n",
              "\n",
              "     75  \n",
              "0  name  \n",
              "1  name  \n",
              "2  name  \n",
              "3  name  \n",
              "4  name  \n",
              "\n",
              "[5 rows x 76 columns]"
            ]
          },
          "execution_count": 191,
          "metadata": {},
          "output_type": "execute_result"
        }
      ],
      "source": [
        "data = itertools.takewhile(\n",
        "  lambda x: len(x) == 76,\n",
        "  (' '.join(lines[i:(i + 10)]).split() for i in range(0, len(lines), 10))\n",
        ")\n",
        "\n",
        "df = pd.DataFrame.from_records(data)\n",
        "\n",
        "df.head()"
      ]
    },
    {
      "cell_type": "markdown",
      "metadata": {
        "id": "U8MDtleYMvEh"
      },
      "source": [
        "menampilan informasi dari file dataset yang sudah dimasukkan kedalam dataframe"
      ]
    },
    {
      "cell_type": "code",
      "execution_count": 192,
      "metadata": {
        "colab": {
          "base_uri": "https://localhost:8080/"
        },
        "execution": {
          "iopub.execute_input": "2023-12-15T15:09:17.148744Z",
          "iopub.status.busy": "2023-12-15T15:09:17.148423Z",
          "iopub.status.idle": "2023-12-15T15:09:17.170801Z",
          "shell.execute_reply": "2023-12-15T15:09:17.169750Z",
          "shell.execute_reply.started": "2023-12-15T15:09:17.148719Z"
        },
        "id": "nKu_Lm6DGA1Q",
        "outputId": "787024a5-5b0c-4201-c775-eaad518e637c",
        "trusted": true
      },
      "outputs": [
        {
          "name": "stdout",
          "output_type": "stream",
          "text": [
            "<class 'pandas.core.frame.DataFrame'>\n",
            "RangeIndex: 294 entries, 0 to 293\n",
            "Data columns (total 76 columns):\n",
            " #   Column  Non-Null Count  Dtype \n",
            "---  ------  --------------  ----- \n",
            " 0   0       294 non-null    object\n",
            " 1   1       294 non-null    object\n",
            " 2   2       294 non-null    object\n",
            " 3   3       294 non-null    object\n",
            " 4   4       294 non-null    object\n",
            " 5   5       294 non-null    object\n",
            " 6   6       294 non-null    object\n",
            " 7   7       294 non-null    object\n",
            " 8   8       294 non-null    object\n",
            " 9   9       294 non-null    object\n",
            " 10  10      294 non-null    object\n",
            " 11  11      294 non-null    object\n",
            " 12  12      294 non-null    object\n",
            " 13  13      294 non-null    object\n",
            " 14  14      294 non-null    object\n",
            " 15  15      294 non-null    object\n",
            " 16  16      294 non-null    object\n",
            " 17  17      294 non-null    object\n",
            " 18  18      294 non-null    object\n",
            " 19  19      294 non-null    object\n",
            " 20  20      294 non-null    object\n",
            " 21  21      294 non-null    object\n",
            " 22  22      294 non-null    object\n",
            " 23  23      294 non-null    object\n",
            " 24  24      294 non-null    object\n",
            " 25  25      294 non-null    object\n",
            " 26  26      294 non-null    object\n",
            " 27  27      294 non-null    object\n",
            " 28  28      294 non-null    object\n",
            " 29  29      294 non-null    object\n",
            " 30  30      294 non-null    object\n",
            " 31  31      294 non-null    object\n",
            " 32  32      294 non-null    object\n",
            " 33  33      294 non-null    object\n",
            " 34  34      294 non-null    object\n",
            " 35  35      294 non-null    object\n",
            " 36  36      294 non-null    object\n",
            " 37  37      294 non-null    object\n",
            " 38  38      294 non-null    object\n",
            " 39  39      294 non-null    object\n",
            " 40  40      294 non-null    object\n",
            " 41  41      294 non-null    object\n",
            " 42  42      294 non-null    object\n",
            " 43  43      294 non-null    object\n",
            " 44  44      294 non-null    object\n",
            " 45  45      294 non-null    object\n",
            " 46  46      294 non-null    object\n",
            " 47  47      294 non-null    object\n",
            " 48  48      294 non-null    object\n",
            " 49  49      294 non-null    object\n",
            " 50  50      294 non-null    object\n",
            " 51  51      294 non-null    object\n",
            " 52  52      294 non-null    object\n",
            " 53  53      294 non-null    object\n",
            " 54  54      294 non-null    object\n",
            " 55  55      294 non-null    object\n",
            " 56  56      294 non-null    object\n",
            " 57  57      294 non-null    object\n",
            " 58  58      294 non-null    object\n",
            " 59  59      294 non-null    object\n",
            " 60  60      294 non-null    object\n",
            " 61  61      294 non-null    object\n",
            " 62  62      294 non-null    object\n",
            " 63  63      294 non-null    object\n",
            " 64  64      294 non-null    object\n",
            " 65  65      294 non-null    object\n",
            " 66  66      294 non-null    object\n",
            " 67  67      294 non-null    object\n",
            " 68  68      294 non-null    object\n",
            " 69  69      294 non-null    object\n",
            " 70  70      294 non-null    object\n",
            " 71  71      294 non-null    object\n",
            " 72  72      294 non-null    object\n",
            " 73  73      294 non-null    object\n",
            " 74  74      294 non-null    object\n",
            " 75  75      294 non-null    object\n",
            "dtypes: object(76)\n",
            "memory usage: 174.7+ KB\n"
          ]
        }
      ],
      "source": [
        "df.info()"
      ]
    },
    {
      "cell_type": "markdown",
      "metadata": {
        "id": "03YynhhuNCN6"
      },
      "source": [
        "Dalam situasi dataset yang kita punya, terdapat kondisi khusus dimana sebelum melanjutkan ke tahap validasi data untuk tipe data object atau string, perlu dilakukan penghapusan fitur. Hal ini disebabkan oleh fakta bahwa dalam dataset ini, nilai null direpresentasikan dengan angka -9.0."
      ]
    },
    {
      "cell_type": "code",
      "execution_count": 193,
      "metadata": {
        "execution": {
          "iopub.execute_input": "2023-12-15T15:09:17.172914Z",
          "iopub.status.busy": "2023-12-15T15:09:17.172537Z",
          "iopub.status.idle": "2023-12-15T15:09:17.184811Z",
          "shell.execute_reply": "2023-12-15T15:09:17.183647Z",
          "shell.execute_reply.started": "2023-12-15T15:09:17.172883Z"
        },
        "id": "L87yXRCSGA1Q",
        "trusted": true
      },
      "outputs": [],
      "source": [
        "df = df.iloc[:,:-1]\n",
        "df = df.drop(df.columns[0], axis=1)"
      ]
    },
    {
      "cell_type": "markdown",
      "metadata": {
        "id": "gllvvql1NNON"
      },
      "source": [
        "- **iloc** berfungsi untuk melakukan pemilihan berdasarkan posisi indeks.\n",
        "- Penggunaan **:,:** dimaksudkan untuk memilih semua baris.\n",
        "- Notasi **:-1** digunakan untuk memilih semua kolom kecuali yang terakhir.\n",
        "- **df.columns[0]** dipergunakan untuk mengenali kolom pertama berdasarkan nama kolom.\n",
        "- Pengaturan **axis=1** menunjukkan bahwa penghapusan dilakukan pada sumbu kolom."
      ]
    },
    {
      "cell_type": "code",
      "execution_count": 194,
      "metadata": {
        "execution": {
          "iopub.execute_input": "2023-12-15T15:09:17.186916Z",
          "iopub.status.busy": "2023-12-15T15:09:17.186553Z",
          "iopub.status.idle": "2023-12-15T15:09:17.202552Z",
          "shell.execute_reply": "2023-12-15T15:09:17.201675Z",
          "shell.execute_reply.started": "2023-12-15T15:09:17.186888Z"
        },
        "id": "5TQQ-KO7GA1Q",
        "trusted": true
      },
      "outputs": [],
      "source": [
        "df = df.astype(float)"
      ]
    },
    {
      "cell_type": "code",
      "execution_count": 195,
      "metadata": {
        "colab": {
          "base_uri": "https://localhost:8080/"
        },
        "execution": {
          "iopub.execute_input": "2023-12-15T15:09:17.204836Z",
          "iopub.status.busy": "2023-12-15T15:09:17.204440Z",
          "iopub.status.idle": "2023-12-15T15:09:17.225973Z",
          "shell.execute_reply": "2023-12-15T15:09:17.224914Z",
          "shell.execute_reply.started": "2023-12-15T15:09:17.204799Z"
        },
        "id": "oez5dIAOGA1R",
        "outputId": "abcf5fd4-492c-4c1a-9e56-dfb15c97860b",
        "trusted": true
      },
      "outputs": [
        {
          "name": "stdout",
          "output_type": "stream",
          "text": [
            "<class 'pandas.core.frame.DataFrame'>\n",
            "RangeIndex: 294 entries, 0 to 293\n",
            "Data columns (total 74 columns):\n",
            " #   Column  Non-Null Count  Dtype  \n",
            "---  ------  --------------  -----  \n",
            " 0   1       294 non-null    float64\n",
            " 1   2       294 non-null    float64\n",
            " 2   3       294 non-null    float64\n",
            " 3   4       294 non-null    float64\n",
            " 4   5       294 non-null    float64\n",
            " 5   6       294 non-null    float64\n",
            " 6   7       294 non-null    float64\n",
            " 7   8       294 non-null    float64\n",
            " 8   9       294 non-null    float64\n",
            " 9   10      294 non-null    float64\n",
            " 10  11      294 non-null    float64\n",
            " 11  12      294 non-null    float64\n",
            " 12  13      294 non-null    float64\n",
            " 13  14      294 non-null    float64\n",
            " 14  15      294 non-null    float64\n",
            " 15  16      294 non-null    float64\n",
            " 16  17      294 non-null    float64\n",
            " 17  18      294 non-null    float64\n",
            " 18  19      294 non-null    float64\n",
            " 19  20      294 non-null    float64\n",
            " 20  21      294 non-null    float64\n",
            " 21  22      294 non-null    float64\n",
            " 22  23      294 non-null    float64\n",
            " 23  24      294 non-null    float64\n",
            " 24  25      294 non-null    float64\n",
            " 25  26      294 non-null    float64\n",
            " 26  27      294 non-null    float64\n",
            " 27  28      294 non-null    float64\n",
            " 28  29      294 non-null    float64\n",
            " 29  30      294 non-null    float64\n",
            " 30  31      294 non-null    float64\n",
            " 31  32      294 non-null    float64\n",
            " 32  33      294 non-null    float64\n",
            " 33  34      294 non-null    float64\n",
            " 34  35      294 non-null    float64\n",
            " 35  36      294 non-null    float64\n",
            " 36  37      294 non-null    float64\n",
            " 37  38      294 non-null    float64\n",
            " 38  39      294 non-null    float64\n",
            " 39  40      294 non-null    float64\n",
            " 40  41      294 non-null    float64\n",
            " 41  42      294 non-null    float64\n",
            " 42  43      294 non-null    float64\n",
            " 43  44      294 non-null    float64\n",
            " 44  45      294 non-null    float64\n",
            " 45  46      294 non-null    float64\n",
            " 46  47      294 non-null    float64\n",
            " 47  48      294 non-null    float64\n",
            " 48  49      294 non-null    float64\n",
            " 49  50      294 non-null    float64\n",
            " 50  51      294 non-null    float64\n",
            " 51  52      294 non-null    float64\n",
            " 52  53      294 non-null    float64\n",
            " 53  54      294 non-null    float64\n",
            " 54  55      294 non-null    float64\n",
            " 55  56      294 non-null    float64\n",
            " 56  57      294 non-null    float64\n",
            " 57  58      294 non-null    float64\n",
            " 58  59      294 non-null    float64\n",
            " 59  60      294 non-null    float64\n",
            " 60  61      294 non-null    float64\n",
            " 61  62      294 non-null    float64\n",
            " 62  63      294 non-null    float64\n",
            " 63  64      294 non-null    float64\n",
            " 64  65      294 non-null    float64\n",
            " 65  66      294 non-null    float64\n",
            " 66  67      294 non-null    float64\n",
            " 67  68      294 non-null    float64\n",
            " 68  69      294 non-null    float64\n",
            " 69  70      294 non-null    float64\n",
            " 70  71      294 non-null    float64\n",
            " 71  72      294 non-null    float64\n",
            " 72  73      294 non-null    float64\n",
            " 73  74      294 non-null    float64\n",
            "dtypes: float64(74)\n",
            "memory usage: 170.1 KB\n"
          ]
        }
      ],
      "source": [
        "df.info()"
      ]
    },
    {
      "cell_type": "markdown",
      "metadata": {
        "id": "AQw2nA3ZGA1R"
      },
      "source": [
        "## 3) Validasi Data <a class=\"anchor\" id=\"h3\"></a>"
      ]
    },
    {
      "cell_type": "markdown",
      "metadata": {
        "id": "baYjv3doPef7"
      },
      "source": [
        "Validasi data bertujuan untuk mengetahui dan memahami isi dari dataset agar dapat dilakukan penanganan sesuai dengan kondisinya."
      ]
    },
    {
      "cell_type": "markdown",
      "metadata": {
        "id": "AiY01m3JRMCn"
      },
      "source": [
        "mengubah nilai -9.0 menjadi nilai null value sesuai dengan deskripsi dataset"
      ]
    },
    {
      "cell_type": "code",
      "execution_count": 196,
      "metadata": {
        "execution": {
          "iopub.execute_input": "2023-12-15T15:09:17.254757Z",
          "iopub.status.busy": "2023-12-15T15:09:17.254471Z",
          "iopub.status.idle": "2023-12-15T15:09:17.279300Z",
          "shell.execute_reply": "2023-12-15T15:09:17.278563Z",
          "shell.execute_reply.started": "2023-12-15T15:09:17.254733Z"
        },
        "id": "6IzHlPrRGA1R",
        "trusted": true
      },
      "outputs": [],
      "source": [
        "df.replace(-9.0, np.nan, inplace=True)"
      ]
    },
    {
      "cell_type": "markdown",
      "metadata": {
        "id": "IEqvB6C6MQVf"
      },
      "source": [
        "- Dengan menggunakan **df.replace()**, kita dapat mengubah nilai-nilai.\n",
        "\n",
        "- Nilai yang ingin diubah adalah **-9.0**.\n",
        "\n",
        "- Sebagai gantinya, kita menetapkan **np.nan** sebagai nilai pengganti.\n",
        "\n",
        "- Pengaturan **inplace=True** digunakan agar perubahan nilai dilakukan langsung di dalam DataFrame df."
      ]
    },
    {
      "cell_type": "markdown",
      "metadata": {
        "id": "RpYquF8bRXv9"
      },
      "source": [
        "menghitung jumlah nilai null value"
      ]
    },
    {
      "cell_type": "code",
      "execution_count": 197,
      "metadata": {
        "colab": {
          "base_uri": "https://localhost:8080/"
        },
        "execution": {
          "iopub.execute_input": "2023-12-15T15:09:17.325188Z",
          "iopub.status.busy": "2023-12-15T15:09:17.324945Z",
          "iopub.status.idle": "2023-12-15T15:09:17.337346Z",
          "shell.execute_reply": "2023-12-15T15:09:17.336534Z",
          "shell.execute_reply.started": "2023-12-15T15:09:17.325167Z"
        },
        "id": "uCZjMZOtGA1R",
        "outputId": "c5116186-8830-4f92-a120-c04e49b0d046",
        "trusted": true
      },
      "outputs": [
        {
          "data": {
            "text/plain": [
              "1       0\n",
              "2       0\n",
              "3       0\n",
              "4       0\n",
              "5       0\n",
              "     ... \n",
              "70      0\n",
              "71      0\n",
              "72      0\n",
              "73    266\n",
              "74    294\n",
              "Length: 74, dtype: int64"
            ]
          },
          "execution_count": 197,
          "metadata": {},
          "output_type": "execute_result"
        }
      ],
      "source": [
        "df.isnull().sum()"
      ]
    },
    {
      "cell_type": "markdown",
      "metadata": {
        "id": "yjfI-JjMMUof"
      },
      "source": [
        "- Penggunaan **df.isnull()** menghasilkan DataFrame boolean dengan nilai True untuk setiap sel yang berisi NaN dan False untuk setiap sel yang berisi nilai valid.\n",
        "\n",
        "- Operasi **.sum()** digunakan untuk menjumlahkan nilai True (yang mewakili nilai NaN) dalam setiap kolom.\n",
        "\n",
        "- Ini bermanfaat untuk membantu pemahaman terhadap data yang hilang atau tidak valid dalam setiap kolom. Setelah mengetahui jumlah nilai NaN, langkah selanjutnya dapat disesuaikan sesuai kebutuhan, seperti mengisi nilai yang hilang, menghapus baris atau kolom dengan banyak nilai NaN, atau melakukan manipulasi data lainnya untuk mengatasi kekosongan data."
      ]
    },
    {
      "cell_type": "code",
      "execution_count": 198,
      "metadata": {
        "colab": {
          "base_uri": "https://localhost:8080/",
          "height": 235
        },
        "execution": {
          "iopub.execute_input": "2023-12-15T15:09:17.391137Z",
          "iopub.status.busy": "2023-12-15T15:09:17.390874Z",
          "iopub.status.idle": "2023-12-15T15:09:17.422183Z",
          "shell.execute_reply": "2023-12-15T15:09:17.421367Z",
          "shell.execute_reply.started": "2023-12-15T15:09:17.391115Z"
        },
        "id": "zaHJz-k2GA1R",
        "outputId": "03c88899-64a6-49ac-dd38-5c104d938dd6",
        "trusted": true
      },
      "outputs": [
        {
          "data": {
            "text/html": [
              "<div>\n",
              "<style scoped>\n",
              "    .dataframe tbody tr th:only-of-type {\n",
              "        vertical-align: middle;\n",
              "    }\n",
              "\n",
              "    .dataframe tbody tr th {\n",
              "        vertical-align: top;\n",
              "    }\n",
              "\n",
              "    .dataframe thead th {\n",
              "        text-align: right;\n",
              "    }\n",
              "</style>\n",
              "<table border=\"1\" class=\"dataframe\">\n",
              "  <thead>\n",
              "    <tr style=\"text-align: right;\">\n",
              "      <th></th>\n",
              "      <th>1</th>\n",
              "      <th>2</th>\n",
              "      <th>3</th>\n",
              "      <th>4</th>\n",
              "      <th>5</th>\n",
              "      <th>6</th>\n",
              "      <th>7</th>\n",
              "      <th>8</th>\n",
              "      <th>9</th>\n",
              "      <th>10</th>\n",
              "      <th>...</th>\n",
              "      <th>65</th>\n",
              "      <th>66</th>\n",
              "      <th>67</th>\n",
              "      <th>68</th>\n",
              "      <th>69</th>\n",
              "      <th>70</th>\n",
              "      <th>71</th>\n",
              "      <th>72</th>\n",
              "      <th>73</th>\n",
              "      <th>74</th>\n",
              "    </tr>\n",
              "  </thead>\n",
              "  <tbody>\n",
              "    <tr>\n",
              "      <th>0</th>\n",
              "      <td>0.0</td>\n",
              "      <td>40.0</td>\n",
              "      <td>1.0</td>\n",
              "      <td>1.0</td>\n",
              "      <td>0.0</td>\n",
              "      <td>0.0</td>\n",
              "      <td>NaN</td>\n",
              "      <td>2.0</td>\n",
              "      <td>140.0</td>\n",
              "      <td>0.0</td>\n",
              "      <td>...</td>\n",
              "      <td>NaN</td>\n",
              "      <td>NaN</td>\n",
              "      <td>NaN</td>\n",
              "      <td>1.0</td>\n",
              "      <td>1.0</td>\n",
              "      <td>1.0</td>\n",
              "      <td>1.0</td>\n",
              "      <td>1.0</td>\n",
              "      <td>NaN</td>\n",
              "      <td>NaN</td>\n",
              "    </tr>\n",
              "    <tr>\n",
              "      <th>1</th>\n",
              "      <td>0.0</td>\n",
              "      <td>49.0</td>\n",
              "      <td>0.0</td>\n",
              "      <td>1.0</td>\n",
              "      <td>0.0</td>\n",
              "      <td>0.0</td>\n",
              "      <td>NaN</td>\n",
              "      <td>3.0</td>\n",
              "      <td>160.0</td>\n",
              "      <td>1.0</td>\n",
              "      <td>...</td>\n",
              "      <td>NaN</td>\n",
              "      <td>NaN</td>\n",
              "      <td>NaN</td>\n",
              "      <td>1.0</td>\n",
              "      <td>1.0</td>\n",
              "      <td>1.0</td>\n",
              "      <td>1.0</td>\n",
              "      <td>1.0</td>\n",
              "      <td>NaN</td>\n",
              "      <td>NaN</td>\n",
              "    </tr>\n",
              "    <tr>\n",
              "      <th>2</th>\n",
              "      <td>0.0</td>\n",
              "      <td>37.0</td>\n",
              "      <td>1.0</td>\n",
              "      <td>1.0</td>\n",
              "      <td>0.0</td>\n",
              "      <td>0.0</td>\n",
              "      <td>NaN</td>\n",
              "      <td>2.0</td>\n",
              "      <td>130.0</td>\n",
              "      <td>0.0</td>\n",
              "      <td>...</td>\n",
              "      <td>NaN</td>\n",
              "      <td>NaN</td>\n",
              "      <td>NaN</td>\n",
              "      <td>1.0</td>\n",
              "      <td>1.0</td>\n",
              "      <td>1.0</td>\n",
              "      <td>1.0</td>\n",
              "      <td>1.0</td>\n",
              "      <td>NaN</td>\n",
              "      <td>NaN</td>\n",
              "    </tr>\n",
              "    <tr>\n",
              "      <th>3</th>\n",
              "      <td>0.0</td>\n",
              "      <td>48.0</td>\n",
              "      <td>0.0</td>\n",
              "      <td>1.0</td>\n",
              "      <td>1.0</td>\n",
              "      <td>1.0</td>\n",
              "      <td>NaN</td>\n",
              "      <td>4.0</td>\n",
              "      <td>138.0</td>\n",
              "      <td>0.0</td>\n",
              "      <td>...</td>\n",
              "      <td>NaN</td>\n",
              "      <td>2.0</td>\n",
              "      <td>NaN</td>\n",
              "      <td>1.0</td>\n",
              "      <td>1.0</td>\n",
              "      <td>1.0</td>\n",
              "      <td>1.0</td>\n",
              "      <td>1.0</td>\n",
              "      <td>NaN</td>\n",
              "      <td>NaN</td>\n",
              "    </tr>\n",
              "    <tr>\n",
              "      <th>4</th>\n",
              "      <td>0.0</td>\n",
              "      <td>54.0</td>\n",
              "      <td>1.0</td>\n",
              "      <td>1.0</td>\n",
              "      <td>0.0</td>\n",
              "      <td>1.0</td>\n",
              "      <td>NaN</td>\n",
              "      <td>3.0</td>\n",
              "      <td>150.0</td>\n",
              "      <td>0.0</td>\n",
              "      <td>...</td>\n",
              "      <td>NaN</td>\n",
              "      <td>1.0</td>\n",
              "      <td>NaN</td>\n",
              "      <td>1.0</td>\n",
              "      <td>1.0</td>\n",
              "      <td>1.0</td>\n",
              "      <td>1.0</td>\n",
              "      <td>1.0</td>\n",
              "      <td>NaN</td>\n",
              "      <td>NaN</td>\n",
              "    </tr>\n",
              "  </tbody>\n",
              "</table>\n",
              "<p>5 rows × 74 columns</p>\n",
              "</div>"
            ],
            "text/plain": [
              "    1     2    3    4    5    6   7    8      9    10  ...  65   66  67   68  \\\n",
              "0  0.0  40.0  1.0  1.0  0.0  0.0 NaN  2.0  140.0  0.0  ... NaN  NaN NaN  1.0   \n",
              "1  0.0  49.0  0.0  1.0  0.0  0.0 NaN  3.0  160.0  1.0  ... NaN  NaN NaN  1.0   \n",
              "2  0.0  37.0  1.0  1.0  0.0  0.0 NaN  2.0  130.0  0.0  ... NaN  NaN NaN  1.0   \n",
              "3  0.0  48.0  0.0  1.0  1.0  1.0 NaN  4.0  138.0  0.0  ... NaN  2.0 NaN  1.0   \n",
              "4  0.0  54.0  1.0  1.0  0.0  1.0 NaN  3.0  150.0  0.0  ... NaN  1.0 NaN  1.0   \n",
              "\n",
              "    69   70   71   72  73  74  \n",
              "0  1.0  1.0  1.0  1.0 NaN NaN  \n",
              "1  1.0  1.0  1.0  1.0 NaN NaN  \n",
              "2  1.0  1.0  1.0  1.0 NaN NaN  \n",
              "3  1.0  1.0  1.0  1.0 NaN NaN  \n",
              "4  1.0  1.0  1.0  1.0 NaN NaN  \n",
              "\n",
              "[5 rows x 74 columns]"
            ]
          },
          "execution_count": 198,
          "metadata": {},
          "output_type": "execute_result"
        }
      ],
      "source": [
        "df.head()"
      ]
    },
    {
      "cell_type": "code",
      "execution_count": 199,
      "metadata": {
        "colab": {
          "base_uri": "https://localhost:8080/"
        },
        "execution": {
          "iopub.execute_input": "2023-12-15T15:09:17.423727Z",
          "iopub.status.busy": "2023-12-15T15:09:17.423465Z",
          "iopub.status.idle": "2023-12-15T15:09:17.443216Z",
          "shell.execute_reply": "2023-12-15T15:09:17.442237Z",
          "shell.execute_reply.started": "2023-12-15T15:09:17.423706Z"
        },
        "id": "pjrhI-YJGA1R",
        "outputId": "e76d7f45-dbae-46a6-be12-bb67e10a8cce",
        "trusted": true
      },
      "outputs": [
        {
          "name": "stdout",
          "output_type": "stream",
          "text": [
            "<class 'pandas.core.frame.DataFrame'>\n",
            "RangeIndex: 294 entries, 0 to 293\n",
            "Data columns (total 74 columns):\n",
            " #   Column  Non-Null Count  Dtype  \n",
            "---  ------  --------------  -----  \n",
            " 0   1       294 non-null    float64\n",
            " 1   2       294 non-null    float64\n",
            " 2   3       294 non-null    float64\n",
            " 3   4       294 non-null    float64\n",
            " 4   5       294 non-null    float64\n",
            " 5   6       294 non-null    float64\n",
            " 6   7       0 non-null      float64\n",
            " 7   8       294 non-null    float64\n",
            " 8   9       293 non-null    float64\n",
            " 9   10      293 non-null    float64\n",
            " 10  11      271 non-null    float64\n",
            " 11  12      12 non-null     float64\n",
            " 12  13      1 non-null      float64\n",
            " 13  14      0 non-null      float64\n",
            " 14  15      286 non-null    float64\n",
            " 15  16      21 non-null     float64\n",
            " 16  17      1 non-null      float64\n",
            " 17  18      293 non-null    float64\n",
            " 18  19      294 non-null    float64\n",
            " 19  20      294 non-null    float64\n",
            " 20  21      294 non-null    float64\n",
            " 21  22      293 non-null    float64\n",
            " 22  23      292 non-null    float64\n",
            " 23  24      293 non-null    float64\n",
            " 24  25      293 non-null    float64\n",
            " 25  26      293 non-null    float64\n",
            " 26  27      285 non-null    float64\n",
            " 27  28      292 non-null    float64\n",
            " 28  29      104 non-null    float64\n",
            " 29  30      292 non-null    float64\n",
            " 30  31      293 non-null    float64\n",
            " 31  32      293 non-null    float64\n",
            " 32  33      293 non-null    float64\n",
            " 33  34      293 non-null    float64\n",
            " 34  35      293 non-null    float64\n",
            " 35  36      293 non-null    float64\n",
            " 36  37      293 non-null    float64\n",
            " 37  38      292 non-null    float64\n",
            " 38  39      294 non-null    float64\n",
            " 39  40      104 non-null    float64\n",
            " 40  41      293 non-null    float64\n",
            " 41  42      294 non-null    float64\n",
            " 42  43      4 non-null      float64\n",
            " 43  44      0 non-null      float64\n",
            " 44  45      0 non-null      float64\n",
            " 45  46      0 non-null      float64\n",
            " 46  47      3 non-null      float64\n",
            " 47  48      0 non-null      float64\n",
            " 48  49      2 non-null      float64\n",
            " 49  50      28 non-null     float64\n",
            " 50  51      27 non-null     float64\n",
            " 51  52      17 non-null     float64\n",
            " 52  53      0 non-null      float64\n",
            " 53  54      294 non-null    float64\n",
            " 54  55      294 non-null    float64\n",
            " 55  56      294 non-null    float64\n",
            " 56  57      294 non-null    float64\n",
            " 57  58      19 non-null     float64\n",
            " 58  59      58 non-null     float64\n",
            " 59  60      48 non-null     float64\n",
            " 60  61      18 non-null     float64\n",
            " 61  62      59 non-null     float64\n",
            " 62  63      9 non-null      float64\n",
            " 63  64      23 non-null     float64\n",
            " 64  65      5 non-null      float64\n",
            " 65  66      50 non-null     float64\n",
            " 66  67      25 non-null     float64\n",
            " 67  68      294 non-null    float64\n",
            " 68  69      294 non-null    float64\n",
            " 69  70      294 non-null    float64\n",
            " 70  71      294 non-null    float64\n",
            " 71  72      294 non-null    float64\n",
            " 72  73      28 non-null     float64\n",
            " 73  74      0 non-null      float64\n",
            "dtypes: float64(74)\n",
            "memory usage: 170.1 KB\n"
          ]
        }
      ],
      "source": [
        "df.info()"
      ]
    },
    {
      "cell_type": "markdown",
      "metadata": {
        "id": "hZidYqXeGA1S"
      },
      "source": [
        "## 4) Menentukan Object Data <a class=\"anchor\" id=\"h4\"></a>"
      ]
    },
    {
      "cell_type": "markdown",
      "metadata": {
        "id": "7bd4eNHiRmZY"
      },
      "source": [
        "Langkah selanjutnya adalah memilih fitur-fitur yang akan digunakan dalam proses analisis. Menurut deskripsi dataset yang tertera dalam website uci-heartdisease, fitur yang digunakan adalah 14 fitur."
      ]
    },
    {
      "cell_type": "code",
      "execution_count": 200,
      "metadata": {
        "execution": {
          "iopub.execute_input": "2023-12-15T15:09:17.447924Z",
          "iopub.status.busy": "2023-12-15T15:09:17.447649Z",
          "iopub.status.idle": "2023-12-15T15:09:17.455517Z",
          "shell.execute_reply": "2023-12-15T15:09:17.454434Z",
          "shell.execute_reply.started": "2023-12-15T15:09:17.447901Z"
        },
        "id": "XYdx_IfRGA1S",
        "trusted": true
      },
      "outputs": [],
      "source": [
        "df_selected = df.iloc[:, [1, 2, 7,8,10,14,17,30,36,38,39,42,49,56]]\n"
      ]
    },
    {
      "cell_type": "code",
      "execution_count": 201,
      "metadata": {
        "colab": {
          "base_uri": "https://localhost:8080/",
          "height": 206
        },
        "execution": {
          "iopub.execute_input": "2023-12-15T15:09:17.466537Z",
          "iopub.status.busy": "2023-12-15T15:09:17.466275Z",
          "iopub.status.idle": "2023-12-15T15:09:17.485219Z",
          "shell.execute_reply": "2023-12-15T15:09:17.484337Z",
          "shell.execute_reply.started": "2023-12-15T15:09:17.466514Z"
        },
        "id": "VW1m_wxUGA1S",
        "outputId": "fab085c1-5521-468b-9398-937cfb2f1b40",
        "trusted": true
      },
      "outputs": [
        {
          "data": {
            "text/html": [
              "<div>\n",
              "<style scoped>\n",
              "    .dataframe tbody tr th:only-of-type {\n",
              "        vertical-align: middle;\n",
              "    }\n",
              "\n",
              "    .dataframe tbody tr th {\n",
              "        vertical-align: top;\n",
              "    }\n",
              "\n",
              "    .dataframe thead th {\n",
              "        text-align: right;\n",
              "    }\n",
              "</style>\n",
              "<table border=\"1\" class=\"dataframe\">\n",
              "  <thead>\n",
              "    <tr style=\"text-align: right;\">\n",
              "      <th></th>\n",
              "      <th>2</th>\n",
              "      <th>3</th>\n",
              "      <th>8</th>\n",
              "      <th>9</th>\n",
              "      <th>11</th>\n",
              "      <th>15</th>\n",
              "      <th>18</th>\n",
              "      <th>31</th>\n",
              "      <th>37</th>\n",
              "      <th>39</th>\n",
              "      <th>40</th>\n",
              "      <th>43</th>\n",
              "      <th>50</th>\n",
              "      <th>57</th>\n",
              "    </tr>\n",
              "  </thead>\n",
              "  <tbody>\n",
              "    <tr>\n",
              "      <th>0</th>\n",
              "      <td>40.0</td>\n",
              "      <td>1.0</td>\n",
              "      <td>2.0</td>\n",
              "      <td>140.0</td>\n",
              "      <td>289.0</td>\n",
              "      <td>0.0</td>\n",
              "      <td>0.0</td>\n",
              "      <td>172.0</td>\n",
              "      <td>0.0</td>\n",
              "      <td>0.0</td>\n",
              "      <td>NaN</td>\n",
              "      <td>NaN</td>\n",
              "      <td>NaN</td>\n",
              "      <td>0.0</td>\n",
              "    </tr>\n",
              "    <tr>\n",
              "      <th>1</th>\n",
              "      <td>49.0</td>\n",
              "      <td>0.0</td>\n",
              "      <td>3.0</td>\n",
              "      <td>160.0</td>\n",
              "      <td>180.0</td>\n",
              "      <td>0.0</td>\n",
              "      <td>0.0</td>\n",
              "      <td>156.0</td>\n",
              "      <td>0.0</td>\n",
              "      <td>1.0</td>\n",
              "      <td>2.0</td>\n",
              "      <td>NaN</td>\n",
              "      <td>NaN</td>\n",
              "      <td>1.0</td>\n",
              "    </tr>\n",
              "    <tr>\n",
              "      <th>2</th>\n",
              "      <td>37.0</td>\n",
              "      <td>1.0</td>\n",
              "      <td>2.0</td>\n",
              "      <td>130.0</td>\n",
              "      <td>283.0</td>\n",
              "      <td>0.0</td>\n",
              "      <td>1.0</td>\n",
              "      <td>98.0</td>\n",
              "      <td>0.0</td>\n",
              "      <td>0.0</td>\n",
              "      <td>NaN</td>\n",
              "      <td>NaN</td>\n",
              "      <td>NaN</td>\n",
              "      <td>0.0</td>\n",
              "    </tr>\n",
              "    <tr>\n",
              "      <th>3</th>\n",
              "      <td>48.0</td>\n",
              "      <td>0.0</td>\n",
              "      <td>4.0</td>\n",
              "      <td>138.0</td>\n",
              "      <td>214.0</td>\n",
              "      <td>0.0</td>\n",
              "      <td>0.0</td>\n",
              "      <td>108.0</td>\n",
              "      <td>1.0</td>\n",
              "      <td>1.5</td>\n",
              "      <td>2.0</td>\n",
              "      <td>NaN</td>\n",
              "      <td>NaN</td>\n",
              "      <td>3.0</td>\n",
              "    </tr>\n",
              "    <tr>\n",
              "      <th>4</th>\n",
              "      <td>54.0</td>\n",
              "      <td>1.0</td>\n",
              "      <td>3.0</td>\n",
              "      <td>150.0</td>\n",
              "      <td>NaN</td>\n",
              "      <td>0.0</td>\n",
              "      <td>0.0</td>\n",
              "      <td>122.0</td>\n",
              "      <td>0.0</td>\n",
              "      <td>0.0</td>\n",
              "      <td>NaN</td>\n",
              "      <td>NaN</td>\n",
              "      <td>NaN</td>\n",
              "      <td>0.0</td>\n",
              "    </tr>\n",
              "  </tbody>\n",
              "</table>\n",
              "</div>"
            ],
            "text/plain": [
              "     2    3    8      9      11   15   18     31   37   39   40  43  50   57\n",
              "0  40.0  1.0  2.0  140.0  289.0  0.0  0.0  172.0  0.0  0.0  NaN NaN NaN  0.0\n",
              "1  49.0  0.0  3.0  160.0  180.0  0.0  0.0  156.0  0.0  1.0  2.0 NaN NaN  1.0\n",
              "2  37.0  1.0  2.0  130.0  283.0  0.0  1.0   98.0  0.0  0.0  NaN NaN NaN  0.0\n",
              "3  48.0  0.0  4.0  138.0  214.0  0.0  0.0  108.0  1.0  1.5  2.0 NaN NaN  3.0\n",
              "4  54.0  1.0  3.0  150.0    NaN  0.0  0.0  122.0  0.0  0.0  NaN NaN NaN  0.0"
            ]
          },
          "execution_count": 201,
          "metadata": {},
          "output_type": "execute_result"
        }
      ],
      "source": [
        "df_selected.head()"
      ]
    },
    {
      "cell_type": "markdown",
      "metadata": {
        "id": "hViRhGBfMalN"
      },
      "source": [
        "- **df_selected** adalah DataFrame baru yang dibuat dan akan terdiri dari kolom-kolom yang telah dipilih.\n",
        "\n",
        "- Penggunaan **df.iloc** dilakukan untuk pemilihan berdasarkan posisi indeks.\n",
        "\n",
        "- Tanda **:** digunakan untuk memilih semua baris.\n",
        "\n",
        "- Untuk memilih kolom-kolom yang diinginkan, kita menggunakan **[:, [1, 2, 7, 8, 10, 14, 17, 30, 36, 38, 39, 42, 49, 56]]** berdasarkan posisi indeks kolom."
      ]
    },
    {
      "cell_type": "code",
      "execution_count": 202,
      "metadata": {
        "colab": {
          "base_uri": "https://localhost:8080/"
        },
        "execution": {
          "iopub.execute_input": "2023-12-15T15:09:17.491746Z",
          "iopub.status.busy": "2023-12-15T15:09:17.491234Z",
          "iopub.status.idle": "2023-12-15T15:09:17.502526Z",
          "shell.execute_reply": "2023-12-15T15:09:17.501679Z",
          "shell.execute_reply.started": "2023-12-15T15:09:17.491720Z"
        },
        "id": "3cqgmccjGA1S",
        "outputId": "3002a6f2-18d4-4b0a-c484-31d4300ff8ab",
        "trusted": true
      },
      "outputs": [
        {
          "name": "stdout",
          "output_type": "stream",
          "text": [
            "<class 'pandas.core.frame.DataFrame'>\n",
            "RangeIndex: 294 entries, 0 to 293\n",
            "Data columns (total 14 columns):\n",
            " #   Column  Non-Null Count  Dtype  \n",
            "---  ------  --------------  -----  \n",
            " 0   2       294 non-null    float64\n",
            " 1   3       294 non-null    float64\n",
            " 2   8       294 non-null    float64\n",
            " 3   9       293 non-null    float64\n",
            " 4   11      271 non-null    float64\n",
            " 5   15      286 non-null    float64\n",
            " 6   18      293 non-null    float64\n",
            " 7   31      293 non-null    float64\n",
            " 8   37      293 non-null    float64\n",
            " 9   39      294 non-null    float64\n",
            " 10  40      104 non-null    float64\n",
            " 11  43      4 non-null      float64\n",
            " 12  50      28 non-null     float64\n",
            " 13  57      294 non-null    float64\n",
            "dtypes: float64(14)\n",
            "memory usage: 32.3 KB\n"
          ]
        }
      ],
      "source": [
        "df_selected.info()"
      ]
    },
    {
      "cell_type": "markdown",
      "metadata": {
        "id": "PH72AWbiR2DI"
      },
      "source": [
        "Tahap berikutnya melibatkan penggantian nama kolom agar sesuai dengan 14 nama kolom yang terdapat dalam deskripsi dataset.\n",
        "\n",
        "Informasi terkait nama dan posisi dapat ditemukan sesuai dengan keterangan yang terdapat pada situs web UCI HeartDisease."
      ]
    },
    {
      "cell_type": "code",
      "execution_count": 203,
      "metadata": {
        "execution": {
          "iopub.execute_input": "2023-12-15T15:09:17.509442Z",
          "iopub.status.busy": "2023-12-15T15:09:17.509174Z",
          "iopub.status.idle": "2023-12-15T15:09:17.516734Z",
          "shell.execute_reply": "2023-12-15T15:09:17.515845Z",
          "shell.execute_reply.started": "2023-12-15T15:09:17.509416Z"
        },
        "id": "pBiKE9phGA1S",
        "trusted": true
      },
      "outputs": [
        {
          "name": "stderr",
          "output_type": "stream",
          "text": [
            "C:\\Users\\MP28E\\AppData\\Local\\Temp\\ipykernel_19620\\3289389815.py:18: SettingWithCopyWarning: \n",
            "A value is trying to be set on a copy of a slice from a DataFrame\n",
            "\n",
            "See the caveats in the documentation: https://pandas.pydata.org/pandas-docs/stable/user_guide/indexing.html#returning-a-view-versus-a-copy\n",
            "  df_selected.rename(columns=column_mapping, inplace=True)\n"
          ]
        }
      ],
      "source": [
        "column_mapping = {\n",
        "    2: 'age',\n",
        "    3: 'sex',\n",
        "    8: 'cp',\n",
        "    9: 'trestbps',\n",
        "    11: 'chol',\n",
        "    15: 'fbs',\n",
        "    18: 'restecg',\n",
        "    31: 'thalach',\n",
        "    37: 'exang',\n",
        "    39: 'oldpeak',\n",
        "    40: 'slope',\n",
        "    43: 'ca',\n",
        "    50: 'thal',\n",
        "    57: 'target'\n",
        "}\n",
        "\n",
        "df_selected.rename(columns=column_mapping, inplace=True)\n"
      ]
    },
    {
      "cell_type": "code",
      "execution_count": 204,
      "metadata": {
        "colab": {
          "base_uri": "https://localhost:8080/"
        },
        "execution": {
          "iopub.execute_input": "2023-12-15T15:09:17.531324Z",
          "iopub.status.busy": "2023-12-15T15:09:17.531063Z",
          "iopub.status.idle": "2023-12-15T15:09:17.540819Z",
          "shell.execute_reply": "2023-12-15T15:09:17.539946Z",
          "shell.execute_reply.started": "2023-12-15T15:09:17.531301Z"
        },
        "id": "O3uvMnJBGA1T",
        "outputId": "619fa69e-0933-40c3-c85e-9315ea989003",
        "trusted": true
      },
      "outputs": [
        {
          "name": "stdout",
          "output_type": "stream",
          "text": [
            "<class 'pandas.core.frame.DataFrame'>\n",
            "RangeIndex: 294 entries, 0 to 293\n",
            "Data columns (total 14 columns):\n",
            " #   Column    Non-Null Count  Dtype  \n",
            "---  ------    --------------  -----  \n",
            " 0   age       294 non-null    float64\n",
            " 1   sex       294 non-null    float64\n",
            " 2   cp        294 non-null    float64\n",
            " 3   trestbps  293 non-null    float64\n",
            " 4   chol      271 non-null    float64\n",
            " 5   fbs       286 non-null    float64\n",
            " 6   restecg   293 non-null    float64\n",
            " 7   thalach   293 non-null    float64\n",
            " 8   exang     293 non-null    float64\n",
            " 9   oldpeak   294 non-null    float64\n",
            " 10  slope     104 non-null    float64\n",
            " 11  ca        4 non-null      float64\n",
            " 12  thal      28 non-null     float64\n",
            " 13  target    294 non-null    float64\n",
            "dtypes: float64(14)\n",
            "memory usage: 32.3 KB\n"
          ]
        }
      ],
      "source": [
        "df_selected.info()"
      ]
    },
    {
      "cell_type": "markdown",
      "metadata": {
        "id": "VC7xHnKIR-Xx"
      },
      "source": [
        "menghitung jumlah fitur pada dataset"
      ]
    },
    {
      "cell_type": "code",
      "execution_count": 205,
      "metadata": {
        "colab": {
          "base_uri": "https://localhost:8080/"
        },
        "execution": {
          "iopub.execute_input": "2023-12-15T15:09:17.555461Z",
          "iopub.status.busy": "2023-12-15T15:09:17.554854Z",
          "iopub.status.idle": "2023-12-15T15:09:17.570351Z",
          "shell.execute_reply": "2023-12-15T15:09:17.569440Z",
          "shell.execute_reply.started": "2023-12-15T15:09:17.555436Z"
        },
        "id": "uU75czzcGA1T",
        "outputId": "d2900168-2d46-4589-9c3c-c3682ef502ec",
        "trusted": true
      },
      "outputs": [
        {
          "data": {
            "text/plain": [
              "age   sex  cp   trestbps  chol   fbs  restecg  thalach  exang  oldpeak  slope  ca   thal  target\n",
              "47.0  1.0  4.0  150.0     226.0  0.0  0.0      98.0     1.0    1.5      2.0    0.0  7.0   1.0       1\n",
              "Name: count, dtype: int64"
            ]
          },
          "execution_count": 205,
          "metadata": {},
          "output_type": "execute_result"
        }
      ],
      "source": [
        "df_selected.value_counts()"
      ]
    },
    {
      "cell_type": "markdown",
      "metadata": {
        "id": "avmPh-B9GA1T"
      },
      "source": [
        "## 5) Membersihkan Data <a class=\"anchor\" id=\"h5\"></a>"
      ]
    },
    {
      "cell_type": "markdown",
      "metadata": {
        "id": "28-A60UdSQFI"
      },
      "source": [
        "Proses pembersihan data dilakukan sebelum menjalankan pemodelan dengan tujuan meningkatkan akurasi model yang dihasilkan."
      ]
    },
    {
      "cell_type": "markdown",
      "metadata": {
        "id": "OrR2EoPRScO8"
      },
      "source": [
        "menghitung jumlah null values yang ada di dalam dataset"
      ]
    },
    {
      "cell_type": "code",
      "execution_count": 206,
      "metadata": {
        "colab": {
          "base_uri": "https://localhost:8080/"
        },
        "execution": {
          "iopub.execute_input": "2023-12-15T15:09:17.576609Z",
          "iopub.status.busy": "2023-12-15T15:09:17.576352Z",
          "iopub.status.idle": "2023-12-15T15:09:17.583928Z",
          "shell.execute_reply": "2023-12-15T15:09:17.583042Z",
          "shell.execute_reply.started": "2023-12-15T15:09:17.576586Z"
        },
        "id": "5e7Mm5N3GA1T",
        "outputId": "bf04bbe7-7975-4afc-be6c-05094637df32",
        "trusted": true
      },
      "outputs": [
        {
          "data": {
            "text/plain": [
              "age           0\n",
              "sex           0\n",
              "cp            0\n",
              "trestbps      1\n",
              "chol         23\n",
              "fbs           8\n",
              "restecg       1\n",
              "thalach       1\n",
              "exang         1\n",
              "oldpeak       0\n",
              "slope       190\n",
              "ca          290\n",
              "thal        266\n",
              "target        0\n",
              "dtype: int64"
            ]
          },
          "execution_count": 206,
          "metadata": {},
          "output_type": "execute_result"
        }
      ],
      "source": [
        "df_selected.isnull().sum()"
      ]
    },
    {
      "cell_type": "markdown",
      "metadata": {
        "id": "nKWPM38_Shnh"
      },
      "source": [
        "Dari hasil keluaran kode program di atas, terdapat beberapa fitur yang hampir mencapai 90% data kosong, sehingga perlu dilakukan penghapusan fitur menggunakan fungsi drop."
      ]
    },
    {
      "cell_type": "code",
      "execution_count": 207,
      "metadata": {
        "execution": {
          "iopub.execute_input": "2023-12-15T15:09:17.600703Z",
          "iopub.status.busy": "2023-12-15T15:09:17.600199Z",
          "iopub.status.idle": "2023-12-15T15:09:17.605127Z",
          "shell.execute_reply": "2023-12-15T15:09:17.604245Z",
          "shell.execute_reply.started": "2023-12-15T15:09:17.600679Z"
        },
        "id": "1wYhdnnhGA1T",
        "trusted": true
      },
      "outputs": [],
      "source": [
        "columns_to_drop = ['ca', 'slope','thal']\n",
        "df_selected = df_selected.drop(columns_to_drop, axis=1)"
      ]
    },
    {
      "cell_type": "code",
      "execution_count": 208,
      "metadata": {
        "colab": {
          "base_uri": "https://localhost:8080/"
        },
        "execution": {
          "iopub.execute_input": "2023-12-15T15:09:17.620421Z",
          "iopub.status.busy": "2023-12-15T15:09:17.619716Z",
          "iopub.status.idle": "2023-12-15T15:09:17.627483Z",
          "shell.execute_reply": "2023-12-15T15:09:17.626674Z",
          "shell.execute_reply.started": "2023-12-15T15:09:17.620388Z"
        },
        "id": "kTlqzeANGA1U",
        "outputId": "0ec8b434-8204-4888-8d3a-17952a5daa40",
        "trusted": true
      },
      "outputs": [
        {
          "data": {
            "text/plain": [
              "age          0\n",
              "sex          0\n",
              "cp           0\n",
              "trestbps     1\n",
              "chol        23\n",
              "fbs          8\n",
              "restecg      1\n",
              "thalach      1\n",
              "exang        1\n",
              "oldpeak      0\n",
              "target       0\n",
              "dtype: int64"
            ]
          },
          "execution_count": 208,
          "metadata": {},
          "output_type": "execute_result"
        }
      ],
      "source": [
        "df_selected.isnull().sum()"
      ]
    },
    {
      "cell_type": "markdown",
      "metadata": {
        "id": "PSApIyfpS57D"
      },
      "source": [
        "Dikarenakan masih ada nilai null dibeberapa kolom fitur maka akan dilakukan pengisian nilai null menggunakan nilai mean di setiap kolomnya"
      ]
    },
    {
      "cell_type": "code",
      "execution_count": 209,
      "metadata": {
        "execution": {
          "iopub.execute_input": "2023-12-15T15:09:17.642310Z",
          "iopub.status.busy": "2023-12-15T15:09:17.642075Z",
          "iopub.status.idle": "2023-12-15T15:09:17.648175Z",
          "shell.execute_reply": "2023-12-15T15:09:17.647284Z",
          "shell.execute_reply.started": "2023-12-15T15:09:17.642289Z"
        },
        "id": "OUi8B-FrGA1U",
        "trusted": true
      },
      "outputs": [],
      "source": [
        "meanTBPS = df_selected['trestbps'].dropna()\n",
        "meanChol = df_selected['chol'].dropna()\n",
        "meanfbs = df_selected['fbs'].dropna()\n",
        "meanRestCG = df_selected['restecg'].dropna()\n",
        "meanthalach = df_selected['thalach'].dropna()\n",
        "meanexang = df_selected['exang'].dropna()\n"
      ]
    },
    {
      "cell_type": "code",
      "execution_count": 210,
      "metadata": {
        "execution": {
          "iopub.execute_input": "2023-12-15T15:09:17.663835Z",
          "iopub.status.busy": "2023-12-15T15:09:17.663283Z",
          "iopub.status.idle": "2023-12-15T15:09:17.668723Z",
          "shell.execute_reply": "2023-12-15T15:09:17.667858Z",
          "shell.execute_reply.started": "2023-12-15T15:09:17.663810Z"
        },
        "id": "rLZEhOFHGA1U",
        "trusted": true
      },
      "outputs": [],
      "source": [
        "meanTBPS = meanTBPS.astype(float)\n",
        "meanChol = meanChol.astype(float)\n",
        "meanfbs = meanfbs.astype(float)\n",
        "meanthalach = meanthalach.astype(float)\n",
        "meanexang = meanexang.astype(float)\n",
        "meanRestCG = meanRestCG.astype(float)"
      ]
    },
    {
      "cell_type": "code",
      "execution_count": 211,
      "metadata": {
        "execution": {
          "iopub.execute_input": "2023-12-15T15:09:17.687654Z",
          "iopub.status.busy": "2023-12-15T15:09:17.687112Z",
          "iopub.status.idle": "2023-12-15T15:09:17.692866Z",
          "shell.execute_reply": "2023-12-15T15:09:17.691915Z",
          "shell.execute_reply.started": "2023-12-15T15:09:17.687630Z"
        },
        "id": "Y2tVWkF7GA1U",
        "trusted": true
      },
      "outputs": [],
      "source": [
        "meanTBPS = round(meanTBPS.mean())\n",
        "meanChol = round(meanChol.mean())\n",
        "meanfbs = round(meanfbs.mean())\n",
        "meanthalach = round(meanthalach.mean())\n",
        "meanexang = round(meanexang.mean())\n",
        "meanRestCG = round(meanRestCG.mean())"
      ]
    },
    {
      "cell_type": "markdown",
      "metadata": {
        "id": "wXnMeCnCTQ1L"
      },
      "source": [
        "mengubah nilai null menjadi nilai mean yang sudah ditentukan sebelumnya"
      ]
    },
    {
      "cell_type": "code",
      "execution_count": 212,
      "metadata": {
        "execution": {
          "iopub.execute_input": "2023-12-15T15:09:17.705272Z",
          "iopub.status.busy": "2023-12-15T15:09:17.705013Z",
          "iopub.status.idle": "2023-12-15T15:09:17.712989Z",
          "shell.execute_reply": "2023-12-15T15:09:17.712161Z",
          "shell.execute_reply.started": "2023-12-15T15:09:17.705249Z"
        },
        "id": "RjQl57o0GA1U",
        "trusted": true
      },
      "outputs": [],
      "source": [
        "fill_values = {'trestbps': meanTBPS, 'chol': meanChol, 'fbs': meanfbs,\n",
        "              'thalach':meanthalach,'exang':meanexang,'restecg':meanRestCG}\n",
        "dfClean = df_selected.fillna(value=fill_values)"
      ]
    },
    {
      "cell_type": "code",
      "execution_count": 213,
      "metadata": {
        "colab": {
          "base_uri": "https://localhost:8080/"
        },
        "execution": {
          "iopub.execute_input": "2023-12-15T15:09:17.729183Z",
          "iopub.status.busy": "2023-12-15T15:09:17.728926Z",
          "iopub.status.idle": "2023-12-15T15:09:17.738946Z",
          "shell.execute_reply": "2023-12-15T15:09:17.737988Z",
          "shell.execute_reply.started": "2023-12-15T15:09:17.729160Z"
        },
        "id": "HhhFhdD3GA1U",
        "outputId": "0c3a2d69-a57c-4c3a-f54c-826d354aa7b9",
        "trusted": true
      },
      "outputs": [
        {
          "name": "stdout",
          "output_type": "stream",
          "text": [
            "<class 'pandas.core.frame.DataFrame'>\n",
            "RangeIndex: 294 entries, 0 to 293\n",
            "Data columns (total 11 columns):\n",
            " #   Column    Non-Null Count  Dtype  \n",
            "---  ------    --------------  -----  \n",
            " 0   age       294 non-null    float64\n",
            " 1   sex       294 non-null    float64\n",
            " 2   cp        294 non-null    float64\n",
            " 3   trestbps  294 non-null    float64\n",
            " 4   chol      294 non-null    float64\n",
            " 5   fbs       294 non-null    float64\n",
            " 6   restecg   294 non-null    float64\n",
            " 7   thalach   294 non-null    float64\n",
            " 8   exang     294 non-null    float64\n",
            " 9   oldpeak   294 non-null    float64\n",
            " 10  target    294 non-null    float64\n",
            "dtypes: float64(11)\n",
            "memory usage: 25.4 KB\n"
          ]
        }
      ],
      "source": [
        "dfClean.info()"
      ]
    },
    {
      "cell_type": "code",
      "execution_count": 214,
      "metadata": {
        "colab": {
          "base_uri": "https://localhost:8080/"
        },
        "execution": {
          "iopub.execute_input": "2023-12-15T15:09:17.752140Z",
          "iopub.status.busy": "2023-12-15T15:09:17.751879Z",
          "iopub.status.idle": "2023-12-15T15:09:17.758724Z",
          "shell.execute_reply": "2023-12-15T15:09:17.757853Z",
          "shell.execute_reply.started": "2023-12-15T15:09:17.752117Z"
        },
        "id": "Jm6fDnWzGA1U",
        "outputId": "e2a55f55-6db9-418d-d62f-8e8ea02647e0",
        "trusted": true
      },
      "outputs": [
        {
          "data": {
            "text/plain": [
              "age         0\n",
              "sex         0\n",
              "cp          0\n",
              "trestbps    0\n",
              "chol        0\n",
              "fbs         0\n",
              "restecg     0\n",
              "thalach     0\n",
              "exang       0\n",
              "oldpeak     0\n",
              "target      0\n",
              "dtype: int64"
            ]
          },
          "execution_count": 214,
          "metadata": {},
          "output_type": "execute_result"
        }
      ],
      "source": [
        "dfClean.isnull().sum()"
      ]
    },
    {
      "cell_type": "markdown",
      "metadata": {
        "id": "Mw_iTtazTt2i"
      },
      "source": [
        "melalukan pengecekan terhadap duplikasi data"
      ]
    },
    {
      "cell_type": "code",
      "execution_count": 215,
      "metadata": {
        "colab": {
          "base_uri": "https://localhost:8080/",
          "height": 81
        },
        "execution": {
          "iopub.execute_input": "2023-12-15T15:09:17.779667Z",
          "iopub.status.busy": "2023-12-15T15:09:17.779397Z",
          "iopub.status.idle": "2023-12-15T15:09:17.795018Z",
          "shell.execute_reply": "2023-12-15T15:09:17.794190Z",
          "shell.execute_reply.started": "2023-12-15T15:09:17.779644Z"
        },
        "id": "l5arPMtJGA1V",
        "outputId": "e99c7133-46fa-4a40-83e3-701d09d4027f",
        "trusted": true
      },
      "outputs": [
        {
          "data": {
            "text/html": [
              "<div>\n",
              "<style scoped>\n",
              "    .dataframe tbody tr th:only-of-type {\n",
              "        vertical-align: middle;\n",
              "    }\n",
              "\n",
              "    .dataframe tbody tr th {\n",
              "        vertical-align: top;\n",
              "    }\n",
              "\n",
              "    .dataframe thead th {\n",
              "        text-align: right;\n",
              "    }\n",
              "</style>\n",
              "<table border=\"1\" class=\"dataframe\">\n",
              "  <thead>\n",
              "    <tr style=\"text-align: right;\">\n",
              "      <th></th>\n",
              "      <th>age</th>\n",
              "      <th>sex</th>\n",
              "      <th>cp</th>\n",
              "      <th>trestbps</th>\n",
              "      <th>chol</th>\n",
              "      <th>fbs</th>\n",
              "      <th>restecg</th>\n",
              "      <th>thalach</th>\n",
              "      <th>exang</th>\n",
              "      <th>oldpeak</th>\n",
              "      <th>target</th>\n",
              "    </tr>\n",
              "  </thead>\n",
              "  <tbody>\n",
              "    <tr>\n",
              "      <th>163</th>\n",
              "      <td>49.0</td>\n",
              "      <td>0.0</td>\n",
              "      <td>2.0</td>\n",
              "      <td>110.0</td>\n",
              "      <td>251.0</td>\n",
              "      <td>0.0</td>\n",
              "      <td>0.0</td>\n",
              "      <td>160.0</td>\n",
              "      <td>0.0</td>\n",
              "      <td>0.0</td>\n",
              "      <td>0.0</td>\n",
              "    </tr>\n",
              "  </tbody>\n",
              "</table>\n",
              "</div>"
            ],
            "text/plain": [
              "      age  sex   cp  trestbps   chol  fbs  restecg  thalach  exang  oldpeak  \\\n",
              "163  49.0  0.0  2.0     110.0  251.0  0.0      0.0    160.0    0.0      0.0   \n",
              "\n",
              "     target  \n",
              "163     0.0  "
            ]
          },
          "execution_count": 215,
          "metadata": {},
          "output_type": "execute_result"
        }
      ],
      "source": [
        "duplicate_rows = dfClean.duplicated()\n",
        "dfClean[duplicate_rows]\n"
      ]
    },
    {
      "cell_type": "code",
      "execution_count": 216,
      "metadata": {
        "colab": {
          "base_uri": "https://localhost:8080/",
          "height": 129
        },
        "execution": {
          "iopub.execute_input": "2023-12-15T15:09:17.804627Z",
          "iopub.status.busy": "2023-12-15T15:09:17.804354Z",
          "iopub.status.idle": "2023-12-15T15:09:17.825576Z",
          "shell.execute_reply": "2023-12-15T15:09:17.824674Z",
          "shell.execute_reply.started": "2023-12-15T15:09:17.804603Z"
        },
        "id": "36bIZOkuGA1V",
        "outputId": "396d0965-4f40-447c-c557-06dec4df5a43",
        "trusted": true
      },
      "outputs": [
        {
          "name": "stdout",
          "output_type": "stream",
          "text": [
            "All Duplicate Rows:\n"
          ]
        },
        {
          "data": {
            "text/html": [
              "<div>\n",
              "<style scoped>\n",
              "    .dataframe tbody tr th:only-of-type {\n",
              "        vertical-align: middle;\n",
              "    }\n",
              "\n",
              "    .dataframe tbody tr th {\n",
              "        vertical-align: top;\n",
              "    }\n",
              "\n",
              "    .dataframe thead th {\n",
              "        text-align: right;\n",
              "    }\n",
              "</style>\n",
              "<table border=\"1\" class=\"dataframe\">\n",
              "  <thead>\n",
              "    <tr style=\"text-align: right;\">\n",
              "      <th></th>\n",
              "      <th>age</th>\n",
              "      <th>sex</th>\n",
              "      <th>cp</th>\n",
              "      <th>trestbps</th>\n",
              "      <th>chol</th>\n",
              "      <th>fbs</th>\n",
              "      <th>restecg</th>\n",
              "      <th>thalach</th>\n",
              "      <th>exang</th>\n",
              "      <th>oldpeak</th>\n",
              "      <th>target</th>\n",
              "    </tr>\n",
              "  </thead>\n",
              "  <tbody>\n",
              "    <tr>\n",
              "      <th>90</th>\n",
              "      <td>49.0</td>\n",
              "      <td>0.0</td>\n",
              "      <td>2.0</td>\n",
              "      <td>110.0</td>\n",
              "      <td>251.0</td>\n",
              "      <td>0.0</td>\n",
              "      <td>0.0</td>\n",
              "      <td>160.0</td>\n",
              "      <td>0.0</td>\n",
              "      <td>0.0</td>\n",
              "      <td>0.0</td>\n",
              "    </tr>\n",
              "    <tr>\n",
              "      <th>163</th>\n",
              "      <td>49.0</td>\n",
              "      <td>0.0</td>\n",
              "      <td>2.0</td>\n",
              "      <td>110.0</td>\n",
              "      <td>251.0</td>\n",
              "      <td>0.0</td>\n",
              "      <td>0.0</td>\n",
              "      <td>160.0</td>\n",
              "      <td>0.0</td>\n",
              "      <td>0.0</td>\n",
              "      <td>0.0</td>\n",
              "    </tr>\n",
              "  </tbody>\n",
              "</table>\n",
              "</div>"
            ],
            "text/plain": [
              "      age  sex   cp  trestbps   chol  fbs  restecg  thalach  exang  oldpeak  \\\n",
              "90   49.0  0.0  2.0     110.0  251.0  0.0      0.0    160.0    0.0      0.0   \n",
              "163  49.0  0.0  2.0     110.0  251.0  0.0      0.0    160.0    0.0      0.0   \n",
              "\n",
              "     target  \n",
              "90      0.0  \n",
              "163     0.0  "
            ]
          },
          "execution_count": 216,
          "metadata": {},
          "output_type": "execute_result"
        }
      ],
      "source": [
        "print(\"All Duplicate Rows:\")\n",
        "dfClean[dfClean.duplicated(keep=False)]"
      ]
    },
    {
      "cell_type": "markdown",
      "metadata": {
        "id": "1Ds-hD9jT3Rg"
      },
      "source": [
        "Menghapus data yang memiliki duplikat"
      ]
    },
    {
      "cell_type": "code",
      "execution_count": 217,
      "metadata": {
        "colab": {
          "base_uri": "https://localhost:8080/",
          "height": 70
        },
        "execution": {
          "iopub.execute_input": "2023-12-15T15:09:17.831774Z",
          "iopub.status.busy": "2023-12-15T15:09:17.831246Z",
          "iopub.status.idle": "2023-12-15T15:09:17.846635Z",
          "shell.execute_reply": "2023-12-15T15:09:17.845740Z",
          "shell.execute_reply.started": "2023-12-15T15:09:17.831746Z"
        },
        "id": "Wv6bTikcGA1V",
        "outputId": "36e81ba0-409e-4d5c-a4c4-cb9887f1cffd",
        "trusted": true
      },
      "outputs": [
        {
          "name": "stdout",
          "output_type": "stream",
          "text": [
            "All Duplicate Rows:\n"
          ]
        },
        {
          "data": {
            "text/html": [
              "<div>\n",
              "<style scoped>\n",
              "    .dataframe tbody tr th:only-of-type {\n",
              "        vertical-align: middle;\n",
              "    }\n",
              "\n",
              "    .dataframe tbody tr th {\n",
              "        vertical-align: top;\n",
              "    }\n",
              "\n",
              "    .dataframe thead th {\n",
              "        text-align: right;\n",
              "    }\n",
              "</style>\n",
              "<table border=\"1\" class=\"dataframe\">\n",
              "  <thead>\n",
              "    <tr style=\"text-align: right;\">\n",
              "      <th></th>\n",
              "      <th>age</th>\n",
              "      <th>sex</th>\n",
              "      <th>cp</th>\n",
              "      <th>trestbps</th>\n",
              "      <th>chol</th>\n",
              "      <th>fbs</th>\n",
              "      <th>restecg</th>\n",
              "      <th>thalach</th>\n",
              "      <th>exang</th>\n",
              "      <th>oldpeak</th>\n",
              "      <th>target</th>\n",
              "    </tr>\n",
              "  </thead>\n",
              "  <tbody>\n",
              "  </tbody>\n",
              "</table>\n",
              "</div>"
            ],
            "text/plain": [
              "Empty DataFrame\n",
              "Columns: [age, sex, cp, trestbps, chol, fbs, restecg, thalach, exang, oldpeak, target]\n",
              "Index: []"
            ]
          },
          "execution_count": 217,
          "metadata": {},
          "output_type": "execute_result"
        }
      ],
      "source": [
        "dfClean = dfClean.drop_duplicates()\n",
        "print(\"All Duplicate Rows:\")\n",
        "dfClean[dfClean.duplicated(keep=False)]"
      ]
    },
    {
      "cell_type": "code",
      "execution_count": 218,
      "metadata": {
        "colab": {
          "base_uri": "https://localhost:8080/",
          "height": 206
        },
        "execution": {
          "iopub.execute_input": "2023-12-15T15:09:17.868426Z",
          "iopub.status.busy": "2023-12-15T15:09:17.868185Z",
          "iopub.status.idle": "2023-12-15T15:09:17.887969Z",
          "shell.execute_reply": "2023-12-15T15:09:17.887020Z",
          "shell.execute_reply.started": "2023-12-15T15:09:17.868405Z"
        },
        "id": "kF7uMxyZGA1V",
        "outputId": "e502df1e-ca22-4db4-bf11-ffb23d1ec3af",
        "trusted": true
      },
      "outputs": [
        {
          "data": {
            "text/html": [
              "<div>\n",
              "<style scoped>\n",
              "    .dataframe tbody tr th:only-of-type {\n",
              "        vertical-align: middle;\n",
              "    }\n",
              "\n",
              "    .dataframe tbody tr th {\n",
              "        vertical-align: top;\n",
              "    }\n",
              "\n",
              "    .dataframe thead th {\n",
              "        text-align: right;\n",
              "    }\n",
              "</style>\n",
              "<table border=\"1\" class=\"dataframe\">\n",
              "  <thead>\n",
              "    <tr style=\"text-align: right;\">\n",
              "      <th></th>\n",
              "      <th>age</th>\n",
              "      <th>sex</th>\n",
              "      <th>cp</th>\n",
              "      <th>trestbps</th>\n",
              "      <th>chol</th>\n",
              "      <th>fbs</th>\n",
              "      <th>restecg</th>\n",
              "      <th>thalach</th>\n",
              "      <th>exang</th>\n",
              "      <th>oldpeak</th>\n",
              "      <th>target</th>\n",
              "    </tr>\n",
              "  </thead>\n",
              "  <tbody>\n",
              "    <tr>\n",
              "      <th>0</th>\n",
              "      <td>40.0</td>\n",
              "      <td>1.0</td>\n",
              "      <td>2.0</td>\n",
              "      <td>140.0</td>\n",
              "      <td>289.0</td>\n",
              "      <td>0.0</td>\n",
              "      <td>0.0</td>\n",
              "      <td>172.0</td>\n",
              "      <td>0.0</td>\n",
              "      <td>0.0</td>\n",
              "      <td>0.0</td>\n",
              "    </tr>\n",
              "    <tr>\n",
              "      <th>1</th>\n",
              "      <td>49.0</td>\n",
              "      <td>0.0</td>\n",
              "      <td>3.0</td>\n",
              "      <td>160.0</td>\n",
              "      <td>180.0</td>\n",
              "      <td>0.0</td>\n",
              "      <td>0.0</td>\n",
              "      <td>156.0</td>\n",
              "      <td>0.0</td>\n",
              "      <td>1.0</td>\n",
              "      <td>1.0</td>\n",
              "    </tr>\n",
              "    <tr>\n",
              "      <th>2</th>\n",
              "      <td>37.0</td>\n",
              "      <td>1.0</td>\n",
              "      <td>2.0</td>\n",
              "      <td>130.0</td>\n",
              "      <td>283.0</td>\n",
              "      <td>0.0</td>\n",
              "      <td>1.0</td>\n",
              "      <td>98.0</td>\n",
              "      <td>0.0</td>\n",
              "      <td>0.0</td>\n",
              "      <td>0.0</td>\n",
              "    </tr>\n",
              "    <tr>\n",
              "      <th>3</th>\n",
              "      <td>48.0</td>\n",
              "      <td>0.0</td>\n",
              "      <td>4.0</td>\n",
              "      <td>138.0</td>\n",
              "      <td>214.0</td>\n",
              "      <td>0.0</td>\n",
              "      <td>0.0</td>\n",
              "      <td>108.0</td>\n",
              "      <td>1.0</td>\n",
              "      <td>1.5</td>\n",
              "      <td>3.0</td>\n",
              "    </tr>\n",
              "    <tr>\n",
              "      <th>4</th>\n",
              "      <td>54.0</td>\n",
              "      <td>1.0</td>\n",
              "      <td>3.0</td>\n",
              "      <td>150.0</td>\n",
              "      <td>251.0</td>\n",
              "      <td>0.0</td>\n",
              "      <td>0.0</td>\n",
              "      <td>122.0</td>\n",
              "      <td>0.0</td>\n",
              "      <td>0.0</td>\n",
              "      <td>0.0</td>\n",
              "    </tr>\n",
              "  </tbody>\n",
              "</table>\n",
              "</div>"
            ],
            "text/plain": [
              "    age  sex   cp  trestbps   chol  fbs  restecg  thalach  exang  oldpeak  \\\n",
              "0  40.0  1.0  2.0     140.0  289.0  0.0      0.0    172.0    0.0      0.0   \n",
              "1  49.0  0.0  3.0     160.0  180.0  0.0      0.0    156.0    0.0      1.0   \n",
              "2  37.0  1.0  2.0     130.0  283.0  0.0      1.0     98.0    0.0      0.0   \n",
              "3  48.0  0.0  4.0     138.0  214.0  0.0      0.0    108.0    1.0      1.5   \n",
              "4  54.0  1.0  3.0     150.0  251.0  0.0      0.0    122.0    0.0      0.0   \n",
              "\n",
              "   target  \n",
              "0     0.0  \n",
              "1     1.0  \n",
              "2     0.0  \n",
              "3     3.0  \n",
              "4     0.0  "
            ]
          },
          "execution_count": 218,
          "metadata": {},
          "output_type": "execute_result"
        }
      ],
      "source": [
        "dfClean.head()"
      ]
    },
    {
      "cell_type": "code",
      "execution_count": 219,
      "metadata": {
        "colab": {
          "base_uri": "https://localhost:8080/"
        },
        "execution": {
          "iopub.execute_input": "2023-12-15T15:09:17.923101Z",
          "iopub.status.busy": "2023-12-15T15:09:17.922798Z",
          "iopub.status.idle": "2023-12-15T15:09:17.930452Z",
          "shell.execute_reply": "2023-12-15T15:09:17.929404Z",
          "shell.execute_reply.started": "2023-12-15T15:09:17.923076Z"
        },
        "id": "xqabzkhFGA1a",
        "outputId": "ca788b9c-4175-4de2-e72f-88425f9081c7",
        "trusted": true
      },
      "outputs": [
        {
          "data": {
            "text/plain": [
              "target\n",
              "0.0    187\n",
              "1.0     37\n",
              "3.0     28\n",
              "2.0     26\n",
              "4.0     15\n",
              "Name: count, dtype: int64"
            ]
          },
          "execution_count": 219,
          "metadata": {},
          "output_type": "execute_result"
        }
      ],
      "source": [
        "dfClean['target'].value_counts()"
      ]
    },
    {
      "cell_type": "code",
      "execution_count": 220,
      "metadata": {
        "id": "J-x9tGDjJux0"
      },
      "outputs": [],
      "source": [
        "import seaborn as sns\n",
        "import matplotlib.pyplot as plt"
      ]
    },
    {
      "cell_type": "markdown",
      "metadata": {
        "id": "RbwPLFZpUxv2"
      },
      "source": [
        "Mencari korelasi antar fitur"
      ]
    },
    {
      "cell_type": "code",
      "execution_count": 221,
      "metadata": {
        "colab": {
          "base_uri": "https://localhost:8080/",
          "height": 394
        },
        "execution": {
          "iopub.execute_input": "2023-12-15T15:09:20.122071Z",
          "iopub.status.busy": "2023-12-15T15:09:20.121682Z",
          "iopub.status.idle": "2023-12-15T15:09:20.143508Z",
          "shell.execute_reply": "2023-12-15T15:09:20.142506Z",
          "shell.execute_reply.started": "2023-12-15T15:09:20.122037Z"
        },
        "id": "6WCbppSjGA1b",
        "outputId": "09dcaa5c-fbb5-406e-eb61-7a6973a70d40",
        "trusted": true
      },
      "outputs": [
        {
          "data": {
            "text/html": [
              "<div>\n",
              "<style scoped>\n",
              "    .dataframe tbody tr th:only-of-type {\n",
              "        vertical-align: middle;\n",
              "    }\n",
              "\n",
              "    .dataframe tbody tr th {\n",
              "        vertical-align: top;\n",
              "    }\n",
              "\n",
              "    .dataframe thead th {\n",
              "        text-align: right;\n",
              "    }\n",
              "</style>\n",
              "<table border=\"1\" class=\"dataframe\">\n",
              "  <thead>\n",
              "    <tr style=\"text-align: right;\">\n",
              "      <th></th>\n",
              "      <th>age</th>\n",
              "      <th>sex</th>\n",
              "      <th>cp</th>\n",
              "      <th>trestbps</th>\n",
              "      <th>chol</th>\n",
              "      <th>fbs</th>\n",
              "      <th>restecg</th>\n",
              "      <th>thalach</th>\n",
              "      <th>exang</th>\n",
              "      <th>oldpeak</th>\n",
              "      <th>target</th>\n",
              "    </tr>\n",
              "  </thead>\n",
              "  <tbody>\n",
              "    <tr>\n",
              "      <th>age</th>\n",
              "      <td>1.000000</td>\n",
              "      <td>0.014516</td>\n",
              "      <td>0.146616</td>\n",
              "      <td>0.246571</td>\n",
              "      <td>0.087101</td>\n",
              "      <td>0.181130</td>\n",
              "      <td>0.050672</td>\n",
              "      <td>-0.460514</td>\n",
              "      <td>0.239223</td>\n",
              "      <td>0.178172</td>\n",
              "      <td>0.210429</td>\n",
              "    </tr>\n",
              "    <tr>\n",
              "      <th>sex</th>\n",
              "      <td>0.014516</td>\n",
              "      <td>1.000000</td>\n",
              "      <td>0.245769</td>\n",
              "      <td>0.082064</td>\n",
              "      <td>0.027695</td>\n",
              "      <td>0.044372</td>\n",
              "      <td>-0.108656</td>\n",
              "      <td>-0.106959</td>\n",
              "      <td>0.154925</td>\n",
              "      <td>0.115959</td>\n",
              "      <td>0.220732</td>\n",
              "    </tr>\n",
              "    <tr>\n",
              "      <th>cp</th>\n",
              "      <td>0.146616</td>\n",
              "      <td>0.245769</td>\n",
              "      <td>1.000000</td>\n",
              "      <td>0.081293</td>\n",
              "      <td>0.134697</td>\n",
              "      <td>0.031930</td>\n",
              "      <td>-0.016372</td>\n",
              "      <td>-0.367819</td>\n",
              "      <td>0.494674</td>\n",
              "      <td>0.351735</td>\n",
              "      <td>0.427536</td>\n",
              "    </tr>\n",
              "    <tr>\n",
              "      <th>trestbps</th>\n",
              "      <td>0.246571</td>\n",
              "      <td>0.082064</td>\n",
              "      <td>0.081293</td>\n",
              "      <td>1.000000</td>\n",
              "      <td>0.080818</td>\n",
              "      <td>0.096222</td>\n",
              "      <td>0.011256</td>\n",
              "      <td>-0.181824</td>\n",
              "      <td>0.211507</td>\n",
              "      <td>0.204000</td>\n",
              "      <td>0.214898</td>\n",
              "    </tr>\n",
              "    <tr>\n",
              "      <th>chol</th>\n",
              "      <td>0.087101</td>\n",
              "      <td>0.027695</td>\n",
              "      <td>0.134697</td>\n",
              "      <td>0.080818</td>\n",
              "      <td>1.000000</td>\n",
              "      <td>0.107686</td>\n",
              "      <td>0.048081</td>\n",
              "      <td>-0.122038</td>\n",
              "      <td>0.161055</td>\n",
              "      <td>0.106743</td>\n",
              "      <td>0.256027</td>\n",
              "    </tr>\n",
              "    <tr>\n",
              "      <th>fbs</th>\n",
              "      <td>0.181130</td>\n",
              "      <td>0.044372</td>\n",
              "      <td>0.031930</td>\n",
              "      <td>0.096222</td>\n",
              "      <td>0.107686</td>\n",
              "      <td>1.000000</td>\n",
              "      <td>0.047988</td>\n",
              "      <td>-0.069722</td>\n",
              "      <td>0.115503</td>\n",
              "      <td>0.063179</td>\n",
              "      <td>0.154319</td>\n",
              "    </tr>\n",
              "    <tr>\n",
              "      <th>restecg</th>\n",
              "      <td>0.050672</td>\n",
              "      <td>-0.108656</td>\n",
              "      <td>-0.016372</td>\n",
              "      <td>0.011256</td>\n",
              "      <td>0.048081</td>\n",
              "      <td>0.047988</td>\n",
              "      <td>1.000000</td>\n",
              "      <td>0.006084</td>\n",
              "      <td>0.041290</td>\n",
              "      <td>0.042193</td>\n",
              "      <td>0.042643</td>\n",
              "    </tr>\n",
              "    <tr>\n",
              "      <th>thalach</th>\n",
              "      <td>-0.460514</td>\n",
              "      <td>-0.106959</td>\n",
              "      <td>-0.367819</td>\n",
              "      <td>-0.181824</td>\n",
              "      <td>-0.122038</td>\n",
              "      <td>-0.069722</td>\n",
              "      <td>0.006084</td>\n",
              "      <td>1.000000</td>\n",
              "      <td>-0.400508</td>\n",
              "      <td>-0.300458</td>\n",
              "      <td>-0.367525</td>\n",
              "    </tr>\n",
              "    <tr>\n",
              "      <th>exang</th>\n",
              "      <td>0.239223</td>\n",
              "      <td>0.154925</td>\n",
              "      <td>0.494674</td>\n",
              "      <td>0.211507</td>\n",
              "      <td>0.161055</td>\n",
              "      <td>0.115503</td>\n",
              "      <td>0.041290</td>\n",
              "      <td>-0.400508</td>\n",
              "      <td>1.000000</td>\n",
              "      <td>0.624965</td>\n",
              "      <td>0.571710</td>\n",
              "    </tr>\n",
              "    <tr>\n",
              "      <th>oldpeak</th>\n",
              "      <td>0.178172</td>\n",
              "      <td>0.115959</td>\n",
              "      <td>0.351735</td>\n",
              "      <td>0.204000</td>\n",
              "      <td>0.106743</td>\n",
              "      <td>0.063179</td>\n",
              "      <td>0.042193</td>\n",
              "      <td>-0.300458</td>\n",
              "      <td>0.624965</td>\n",
              "      <td>1.000000</td>\n",
              "      <td>0.580732</td>\n",
              "    </tr>\n",
              "    <tr>\n",
              "      <th>target</th>\n",
              "      <td>0.210429</td>\n",
              "      <td>0.220732</td>\n",
              "      <td>0.427536</td>\n",
              "      <td>0.214898</td>\n",
              "      <td>0.256027</td>\n",
              "      <td>0.154319</td>\n",
              "      <td>0.042643</td>\n",
              "      <td>-0.367525</td>\n",
              "      <td>0.571710</td>\n",
              "      <td>0.580732</td>\n",
              "      <td>1.000000</td>\n",
              "    </tr>\n",
              "  </tbody>\n",
              "</table>\n",
              "</div>"
            ],
            "text/plain": [
              "               age       sex        cp  trestbps      chol       fbs  \\\n",
              "age       1.000000  0.014516  0.146616  0.246571  0.087101  0.181130   \n",
              "sex       0.014516  1.000000  0.245769  0.082064  0.027695  0.044372   \n",
              "cp        0.146616  0.245769  1.000000  0.081293  0.134697  0.031930   \n",
              "trestbps  0.246571  0.082064  0.081293  1.000000  0.080818  0.096222   \n",
              "chol      0.087101  0.027695  0.134697  0.080818  1.000000  0.107686   \n",
              "fbs       0.181130  0.044372  0.031930  0.096222  0.107686  1.000000   \n",
              "restecg   0.050672 -0.108656 -0.016372  0.011256  0.048081  0.047988   \n",
              "thalach  -0.460514 -0.106959 -0.367819 -0.181824 -0.122038 -0.069722   \n",
              "exang     0.239223  0.154925  0.494674  0.211507  0.161055  0.115503   \n",
              "oldpeak   0.178172  0.115959  0.351735  0.204000  0.106743  0.063179   \n",
              "target    0.210429  0.220732  0.427536  0.214898  0.256027  0.154319   \n",
              "\n",
              "           restecg   thalach     exang   oldpeak    target  \n",
              "age       0.050672 -0.460514  0.239223  0.178172  0.210429  \n",
              "sex      -0.108656 -0.106959  0.154925  0.115959  0.220732  \n",
              "cp       -0.016372 -0.367819  0.494674  0.351735  0.427536  \n",
              "trestbps  0.011256 -0.181824  0.211507  0.204000  0.214898  \n",
              "chol      0.048081 -0.122038  0.161055  0.106743  0.256027  \n",
              "fbs       0.047988 -0.069722  0.115503  0.063179  0.154319  \n",
              "restecg   1.000000  0.006084  0.041290  0.042193  0.042643  \n",
              "thalach   0.006084  1.000000 -0.400508 -0.300458 -0.367525  \n",
              "exang     0.041290 -0.400508  1.000000  0.624965  0.571710  \n",
              "oldpeak   0.042193 -0.300458  0.624965  1.000000  0.580732  \n",
              "target    0.042643 -0.367525  0.571710  0.580732  1.000000  "
            ]
          },
          "execution_count": 221,
          "metadata": {},
          "output_type": "execute_result"
        }
      ],
      "source": [
        "dfClean.corr()"
      ]
    },
    {
      "cell_type": "code",
      "execution_count": 222,
      "metadata": {
        "colab": {
          "base_uri": "https://localhost:8080/",
          "height": 853
        },
        "execution": {
          "iopub.execute_input": "2023-12-15T15:09:20.145288Z",
          "iopub.status.busy": "2023-12-15T15:09:20.144952Z",
          "iopub.status.idle": "2023-12-15T15:09:20.846675Z",
          "shell.execute_reply": "2023-12-15T15:09:20.845730Z",
          "shell.execute_reply.started": "2023-12-15T15:09:20.145259Z"
        },
        "id": "ALT2bTfSGA1b",
        "outputId": "422f8259-5044-46ee-e20d-e38f2769cd5f",
        "trusted": true
      },
      "outputs": [
        {
          "data": {
            "text/plain": [
              "<Axes: >"
            ]
          },
          "execution_count": 222,
          "metadata": {},
          "output_type": "execute_result"
        },
        {
          "data": {
            "image/png": "[encoded data removed]",
            "text/plain": [
              "<Figure size 1500x1000 with 2 Axes>"
            ]
          },
          "metadata": {},
          "output_type": "display_data"
        }
      ],
      "source": [
        "cor_mat=dfClean.corr()\n",
        "fig,ax=plt.subplots(figsize=(15,10))\n",
        "sns.heatmap(cor_mat,annot=True,linewidths=0.5,fmt=\".3f\")"
      ]
    },
    {
      "cell_type": "code",
      "execution_count": null,
      "metadata": {
        "id": "v1rFOynZjEpa"
      },
      "outputs": [],
      "source": []
    },
    {
      "cell_type": "markdown",
      "metadata": {
        "id": "eUPZoVy91O2K"
      },
      "source": [
        "# 6) Konstruksi Data"
      ]
    },
    {
      "cell_type": "markdown",
      "metadata": {
        "id": "v6yev7aQ_QXZ"
      },
      "source": [
        "Pembangunan data bertujuan untuk menyelaraskan berbagai jenis data yang terdapat dalam dataset. Akan tetapi, pada saat ini, dataset sudah memiliki jenis data yang cocok sehingga tidak diperlukan penyesuaian tambahan."
      ]
    },
    {
      "cell_type": "code",
      "execution_count": 223,
      "metadata": {
        "colab": {
          "base_uri": "https://localhost:8080/"
        },
        "id": "3-O4Az4X0_f_",
        "outputId": "84c86282-de74-4a56-e3dc-184d20294fcb"
      },
      "outputs": [
        {
          "name": "stdout",
          "output_type": "stream",
          "text": [
            "<class 'pandas.core.frame.DataFrame'>\n",
            "Index: 293 entries, 0 to 293\n",
            "Data columns (total 11 columns):\n",
            " #   Column    Non-Null Count  Dtype  \n",
            "---  ------    --------------  -----  \n",
            " 0   age       293 non-null    float64\n",
            " 1   sex       293 non-null    float64\n",
            " 2   cp        293 non-null    float64\n",
            " 3   trestbps  293 non-null    float64\n",
            " 4   chol      293 non-null    float64\n",
            " 5   fbs       293 non-null    float64\n",
            " 6   restecg   293 non-null    float64\n",
            " 7   thalach   293 non-null    float64\n",
            " 8   exang     293 non-null    float64\n",
            " 9   oldpeak   293 non-null    float64\n",
            " 10  target    293 non-null    float64\n",
            "dtypes: float64(11)\n",
            "memory usage: 27.5 KB\n"
          ]
        }
      ],
      "source": [
        "dfClean.info()"
      ]
    },
    {
      "cell_type": "code",
      "execution_count": 224,
      "metadata": {
        "colab": {
          "base_uri": "https://localhost:8080/",
          "height": 206
        },
        "id": "FqYQEFWQ1Sfg",
        "outputId": "16a57727-6ab9-4717-b300-9fec7751c2d4"
      },
      "outputs": [
        {
          "data": {
            "text/html": [
              "<div>\n",
              "<style scoped>\n",
              "    .dataframe tbody tr th:only-of-type {\n",
              "        vertical-align: middle;\n",
              "    }\n",
              "\n",
              "    .dataframe tbody tr th {\n",
              "        vertical-align: top;\n",
              "    }\n",
              "\n",
              "    .dataframe thead th {\n",
              "        text-align: right;\n",
              "    }\n",
              "</style>\n",
              "<table border=\"1\" class=\"dataframe\">\n",
              "  <thead>\n",
              "    <tr style=\"text-align: right;\">\n",
              "      <th></th>\n",
              "      <th>age</th>\n",
              "      <th>sex</th>\n",
              "      <th>cp</th>\n",
              "      <th>trestbps</th>\n",
              "      <th>chol</th>\n",
              "      <th>fbs</th>\n",
              "      <th>restecg</th>\n",
              "      <th>thalach</th>\n",
              "      <th>exang</th>\n",
              "      <th>oldpeak</th>\n",
              "      <th>target</th>\n",
              "    </tr>\n",
              "  </thead>\n",
              "  <tbody>\n",
              "    <tr>\n",
              "      <th>0</th>\n",
              "      <td>40.0</td>\n",
              "      <td>1.0</td>\n",
              "      <td>2.0</td>\n",
              "      <td>140.0</td>\n",
              "      <td>289.0</td>\n",
              "      <td>0.0</td>\n",
              "      <td>0.0</td>\n",
              "      <td>172.0</td>\n",
              "      <td>0.0</td>\n",
              "      <td>0.0</td>\n",
              "      <td>0.0</td>\n",
              "    </tr>\n",
              "    <tr>\n",
              "      <th>1</th>\n",
              "      <td>49.0</td>\n",
              "      <td>0.0</td>\n",
              "      <td>3.0</td>\n",
              "      <td>160.0</td>\n",
              "      <td>180.0</td>\n",
              "      <td>0.0</td>\n",
              "      <td>0.0</td>\n",
              "      <td>156.0</td>\n",
              "      <td>0.0</td>\n",
              "      <td>1.0</td>\n",
              "      <td>1.0</td>\n",
              "    </tr>\n",
              "    <tr>\n",
              "      <th>2</th>\n",
              "      <td>37.0</td>\n",
              "      <td>1.0</td>\n",
              "      <td>2.0</td>\n",
              "      <td>130.0</td>\n",
              "      <td>283.0</td>\n",
              "      <td>0.0</td>\n",
              "      <td>1.0</td>\n",
              "      <td>98.0</td>\n",
              "      <td>0.0</td>\n",
              "      <td>0.0</td>\n",
              "      <td>0.0</td>\n",
              "    </tr>\n",
              "    <tr>\n",
              "      <th>3</th>\n",
              "      <td>48.0</td>\n",
              "      <td>0.0</td>\n",
              "      <td>4.0</td>\n",
              "      <td>138.0</td>\n",
              "      <td>214.0</td>\n",
              "      <td>0.0</td>\n",
              "      <td>0.0</td>\n",
              "      <td>108.0</td>\n",
              "      <td>1.0</td>\n",
              "      <td>1.5</td>\n",
              "      <td>3.0</td>\n",
              "    </tr>\n",
              "    <tr>\n",
              "      <th>4</th>\n",
              "      <td>54.0</td>\n",
              "      <td>1.0</td>\n",
              "      <td>3.0</td>\n",
              "      <td>150.0</td>\n",
              "      <td>251.0</td>\n",
              "      <td>0.0</td>\n",
              "      <td>0.0</td>\n",
              "      <td>122.0</td>\n",
              "      <td>0.0</td>\n",
              "      <td>0.0</td>\n",
              "      <td>0.0</td>\n",
              "    </tr>\n",
              "  </tbody>\n",
              "</table>\n",
              "</div>"
            ],
            "text/plain": [
              "    age  sex   cp  trestbps   chol  fbs  restecg  thalach  exang  oldpeak  \\\n",
              "0  40.0  1.0  2.0     140.0  289.0  0.0      0.0    172.0    0.0      0.0   \n",
              "1  49.0  0.0  3.0     160.0  180.0  0.0      0.0    156.0    0.0      1.0   \n",
              "2  37.0  1.0  2.0     130.0  283.0  0.0      1.0     98.0    0.0      0.0   \n",
              "3  48.0  0.0  4.0     138.0  214.0  0.0      0.0    108.0    1.0      1.5   \n",
              "4  54.0  1.0  3.0     150.0  251.0  0.0      0.0    122.0    0.0      0.0   \n",
              "\n",
              "   target  \n",
              "0     0.0  \n",
              "1     1.0  \n",
              "2     0.0  \n",
              "3     3.0  \n",
              "4     0.0  "
            ]
          },
          "execution_count": 224,
          "metadata": {},
          "output_type": "execute_result"
        }
      ],
      "source": [
        "dfClean.head(5)"
      ]
    },
    {
      "cell_type": "markdown",
      "metadata": {
        "id": "FK5EYLjP_ihQ"
      },
      "source": [
        "Setelah menyesuaikan tipe dataset, langkah selanjutnya adalah memisahkan antara fitur dan target, kemudian menyimpannya dalam variabel."
      ]
    },
    {
      "cell_type": "code",
      "execution_count": 225,
      "metadata": {
        "id": "uciTzIQd10Dw"
      },
      "outputs": [],
      "source": [
        "X = dfClean.drop(\"target\", axis=1).values # menghapus kolom 'target'\n",
        "y = dfClean.iloc[:,-1] # mengambil kolom 'target'"
      ]
    },
    {
      "cell_type": "markdown",
      "metadata": {
        "id": "meeW2YKn_8MX"
      },
      "source": [
        "cek sebaran data di setiap target"
      ]
    },
    {
      "cell_type": "code",
      "execution_count": 226,
      "metadata": {
        "colab": {
          "base_uri": "https://localhost:8080/",
          "height": 545
        },
        "id": "pQkUr-5R1-CS",
        "outputId": "91e9cada-2730-476e-b9f3-8427eb93fc73"
      },
      "outputs": [
        {
          "data": {
            "image/png": "[encoded data removed]",
            "text/plain": [
              "<Figure size 1000x600 with 1 Axes>"
            ]
          },
          "metadata": {},
          "output_type": "display_data"
        }
      ],
      "source": [
        "# Membuat Plot Bar pada kolom Target\n",
        "dfClean['target'].value_counts().plot(kind='bar', figsize=(10,6), color=['green','blue'])\n",
        "plt.title(\"Count of the target\") # menambahkan judul\n",
        "plt.xticks(rotation=0); # mengatur rotasi label sumbu x menjadi 0 derajat"
      ]
    },
    {
      "cell_type": "markdown",
      "metadata": {
        "id": "RhtLR2CMAm7_"
      },
      "source": [
        "Grafik di atas mengindikasikan ketidakseimbangan dalam jumlah target. Untuk menanggulanginya, ada dua pendekatan: oversampling dan undersampling. Oversampling diterapkan saat dataset terbatas, sementara undersampling cocok untuk dataset yang berlimpah. Dalam penanganan ketidakseimbangan dataset kami, kami memilih teknik oversampling, khususnya metode SMOTE karena jumlah data terbatas."
      ]
    },
    {
      "cell_type": "code",
      "execution_count": 227,
      "metadata": {
        "id": "HvPwXl9F2S_7"
      },
      "outputs": [],
      "source": [
        "# Mengimpor modul SMOTE\n",
        "from imblearn.over_sampling import SMOTE"
      ]
    },
    {
      "cell_type": "code",
      "execution_count": 228,
      "metadata": {
        "id": "VkbnSNgZ2Z-I"
      },
      "outputs": [],
      "source": [
        "# Oversampling\n",
        "smote = SMOTE(random_state=42)\n",
        "X_smote_resampled, y_smote_resampled = smote.fit_resample(X, y)"
      ]
    },
    {
      "cell_type": "markdown",
      "metadata": {
        "id": "HJmN-6eWBhYX"
      },
      "source": [
        "- Dengan menggunakan **.fit_resample()**, oversampling dilakukan pada dataset fitur X dan target y. Hasilnya adalah dataset yang telah mengalami oversampling, di mana jumlah sampel dari kelas minoritas ditingkatkan untuk mencapai keseimbangan dengan kelas mayoritas.\n",
        "\n",
        "- Variabel **X_smote_resampled** menampung fitur, sedangkan **y_smote_resampled** menampung target dari dataset yang telah mengalami oversampling."
      ]
    },
    {
      "cell_type": "code",
      "execution_count": 229,
      "metadata": {
        "colab": {
          "base_uri": "https://localhost:8080/",
          "height": 607
        },
        "id": "pUtQ7HZ02iZ6",
        "outputId": "23f2f888-e655-4ed2-e567-a97ea3727f8b"
      },
      "outputs": [
        {
          "data": {
            "image/png": "[encoded data removed]",
            "text/plain": [
              "<Figure size 1000x600 with 2 Axes>"
            ]
          },
          "metadata": {},
          "output_type": "display_data"
        }
      ],
      "source": [
        "# Membuat plot perbandingan jumlah kemunculan nilai target sebelum dan sesudah oversampling dengan SMOTe\n",
        "plt.figure(figsize=(12,4)) # Membentuk figure dengan ukuran gambar 12x4\n",
        "\n",
        "new_df1 = pd.DataFrame(data=y) # membentuk DataFrame yang berisi data target y\n",
        "\n",
        "plt.subplot(1, 2, 1) # Pembentukan subplot pertama dengan tata letak 1 baris dan 2 kolom, dan memilih subplot pertama sebagai subplot saat ini\n",
        "new_df1.value_counts().plot(kind='bar', figsize=(10,6), color=['green', 'blue', 'red', 'yellow'])\n",
        "plt.title(\"target before over sampling with SMOTE\") # judul untuk subplot pertama\n",
        "plt.xticks(rotation=0);\n",
        "\n",
        "plt.subplot(1, 2, 2) # pembentukan subplot kedua dengan tata letak 1 baris dan 2 kolom dan memilih subplot kedua sebagai subplot saat ini\n",
        "new_df2 = pd.DataFrame(data=y_smote_resampled) # berisi data target hasil oversampling dengan SMOTe\n",
        "\n",
        "new_df2.value_counts().plot(kind='bar', figsize=(10,6), color=['green', 'blue', 'red', 'yellow'])\n",
        "plt.title(\"target after over sampling with SMOTE\") # judul untuk subplot kedua\n",
        "plt.xticks(rotation=0);\n",
        "\n",
        "plt.tight_layout() # pengaturan tata letak plot agar lebih rapi\n",
        "plt.show() # Menampilkan plot yang telah dibuat"
      ]
    },
    {
      "cell_type": "markdown",
      "metadata": {
        "id": "3FyzeJtOC_za"
      },
      "source": [
        "setalah dilakukan smote, data menjadi seimbang mengikuti kelas mayoritas"
      ]
    },
    {
      "cell_type": "code",
      "execution_count": 230,
      "metadata": {
        "colab": {
          "base_uri": "https://localhost:8080/"
        },
        "id": "-kpRgUwq2pFK",
        "outputId": "52f96afd-1585-41a8-c7b1-d16beb13c55e"
      },
      "outputs": [
        {
          "data": {
            "text/plain": [
              "target\n",
              "0.0       187\n",
              "1.0        37\n",
              "3.0        28\n",
              "2.0        26\n",
              "4.0        15\n",
              "Name: count, dtype: int64"
            ]
          },
          "execution_count": 230,
          "metadata": {},
          "output_type": "execute_result"
        }
      ],
      "source": [
        "# Jumlah data target sebelum dilakukan SMOTe\n",
        "new_df1 = pd.DataFrame(data=y)\n",
        "new_df1.value_counts()"
      ]
    },
    {
      "cell_type": "code",
      "execution_count": 231,
      "metadata": {
        "colab": {
          "base_uri": "https://localhost:8080/"
        },
        "id": "Jg_18EdN4ChK",
        "outputId": "42dd0716-8415-4e3e-a663-1974d01d1abc"
      },
      "outputs": [
        {
          "data": {
            "text/plain": [
              "target\n",
              "0.0       187\n",
              "1.0       187\n",
              "2.0       187\n",
              "3.0       187\n",
              "4.0       187\n",
              "Name: count, dtype: int64"
            ]
          },
          "execution_count": 231,
          "metadata": {},
          "output_type": "execute_result"
        }
      ],
      "source": [
        "# over\n",
        "# Jumlah data target setelah dilakukan SMOTe\n",
        "new_df2 = pd.DataFrame(data=y_smote_resampled)\n",
        "new_df2.value_counts()"
      ]
    },
    {
      "cell_type": "markdown",
      "metadata": {
        "id": "mpdgSL9kDYcm"
      },
      "source": [
        "melakukan normalisasi pada data"
      ]
    },
    {
      "cell_type": "code",
      "execution_count": 232,
      "metadata": {
        "colab": {
          "base_uri": "https://localhost:8080/",
          "height": 300
        },
        "id": "AJNAtC8B4Kc_",
        "outputId": "f5bc52e1-ae73-4c96-ee27-c6d20742e213"
      },
      "outputs": [
        {
          "data": {
            "text/html": [
              "<div>\n",
              "<style scoped>\n",
              "    .dataframe tbody tr th:only-of-type {\n",
              "        vertical-align: middle;\n",
              "    }\n",
              "\n",
              "    .dataframe tbody tr th {\n",
              "        vertical-align: top;\n",
              "    }\n",
              "\n",
              "    .dataframe thead th {\n",
              "        text-align: right;\n",
              "    }\n",
              "</style>\n",
              "<table border=\"1\" class=\"dataframe\">\n",
              "  <thead>\n",
              "    <tr style=\"text-align: right;\">\n",
              "      <th></th>\n",
              "      <th>age</th>\n",
              "      <th>sex</th>\n",
              "      <th>cp</th>\n",
              "      <th>trestbps</th>\n",
              "      <th>chol</th>\n",
              "      <th>fbs</th>\n",
              "      <th>restecg</th>\n",
              "      <th>thalach</th>\n",
              "      <th>exang</th>\n",
              "      <th>oldpeak</th>\n",
              "      <th>target</th>\n",
              "    </tr>\n",
              "  </thead>\n",
              "  <tbody>\n",
              "    <tr>\n",
              "      <th>count</th>\n",
              "      <td>293.000000</td>\n",
              "      <td>293.000000</td>\n",
              "      <td>293.000000</td>\n",
              "      <td>293.000000</td>\n",
              "      <td>293.000000</td>\n",
              "      <td>293.000000</td>\n",
              "      <td>293.000000</td>\n",
              "      <td>293.000000</td>\n",
              "      <td>293.000000</td>\n",
              "      <td>293.000000</td>\n",
              "      <td>293.000000</td>\n",
              "    </tr>\n",
              "    <tr>\n",
              "      <th>mean</th>\n",
              "      <td>47.822526</td>\n",
              "      <td>0.726962</td>\n",
              "      <td>2.986348</td>\n",
              "      <td>132.662116</td>\n",
              "      <td>250.860068</td>\n",
              "      <td>0.068259</td>\n",
              "      <td>0.218430</td>\n",
              "      <td>139.058020</td>\n",
              "      <td>0.303754</td>\n",
              "      <td>0.588055</td>\n",
              "      <td>0.795222</td>\n",
              "    </tr>\n",
              "    <tr>\n",
              "      <th>std</th>\n",
              "      <td>7.824875</td>\n",
              "      <td>0.446282</td>\n",
              "      <td>0.965049</td>\n",
              "      <td>17.576793</td>\n",
              "      <td>65.059069</td>\n",
              "      <td>0.252622</td>\n",
              "      <td>0.460868</td>\n",
              "      <td>23.558003</td>\n",
              "      <td>0.460665</td>\n",
              "      <td>0.909554</td>\n",
              "      <td>1.238251</td>\n",
              "    </tr>\n",
              "    <tr>\n",
              "      <th>min</th>\n",
              "      <td>28.000000</td>\n",
              "      <td>0.000000</td>\n",
              "      <td>1.000000</td>\n",
              "      <td>92.000000</td>\n",
              "      <td>85.000000</td>\n",
              "      <td>0.000000</td>\n",
              "      <td>0.000000</td>\n",
              "      <td>82.000000</td>\n",
              "      <td>0.000000</td>\n",
              "      <td>0.000000</td>\n",
              "      <td>0.000000</td>\n",
              "    </tr>\n",
              "    <tr>\n",
              "      <th>25%</th>\n",
              "      <td>42.000000</td>\n",
              "      <td>0.000000</td>\n",
              "      <td>2.000000</td>\n",
              "      <td>120.000000</td>\n",
              "      <td>211.000000</td>\n",
              "      <td>0.000000</td>\n",
              "      <td>0.000000</td>\n",
              "      <td>122.000000</td>\n",
              "      <td>0.000000</td>\n",
              "      <td>0.000000</td>\n",
              "      <td>0.000000</td>\n",
              "    </tr>\n",
              "    <tr>\n",
              "      <th>50%</th>\n",
              "      <td>49.000000</td>\n",
              "      <td>1.000000</td>\n",
              "      <td>3.000000</td>\n",
              "      <td>130.000000</td>\n",
              "      <td>248.000000</td>\n",
              "      <td>0.000000</td>\n",
              "      <td>0.000000</td>\n",
              "      <td>140.000000</td>\n",
              "      <td>0.000000</td>\n",
              "      <td>0.000000</td>\n",
              "      <td>0.000000</td>\n",
              "    </tr>\n",
              "    <tr>\n",
              "      <th>75%</th>\n",
              "      <td>54.000000</td>\n",
              "      <td>1.000000</td>\n",
              "      <td>4.000000</td>\n",
              "      <td>140.000000</td>\n",
              "      <td>277.000000</td>\n",
              "      <td>0.000000</td>\n",
              "      <td>0.000000</td>\n",
              "      <td>155.000000</td>\n",
              "      <td>1.000000</td>\n",
              "      <td>1.000000</td>\n",
              "      <td>1.000000</td>\n",
              "    </tr>\n",
              "    <tr>\n",
              "      <th>max</th>\n",
              "      <td>66.000000</td>\n",
              "      <td>1.000000</td>\n",
              "      <td>4.000000</td>\n",
              "      <td>200.000000</td>\n",
              "      <td>603.000000</td>\n",
              "      <td>1.000000</td>\n",
              "      <td>2.000000</td>\n",
              "      <td>190.000000</td>\n",
              "      <td>1.000000</td>\n",
              "      <td>5.000000</td>\n",
              "      <td>4.000000</td>\n",
              "    </tr>\n",
              "  </tbody>\n",
              "</table>\n",
              "</div>"
            ],
            "text/plain": [
              "              age         sex          cp    trestbps        chol         fbs  \\\n",
              "count  293.000000  293.000000  293.000000  293.000000  293.000000  293.000000   \n",
              "mean    47.822526    0.726962    2.986348  132.662116  250.860068    0.068259   \n",
              "std      7.824875    0.446282    0.965049   17.576793   65.059069    0.252622   \n",
              "min     28.000000    0.000000    1.000000   92.000000   85.000000    0.000000   \n",
              "25%     42.000000    0.000000    2.000000  120.000000  211.000000    0.000000   \n",
              "50%     49.000000    1.000000    3.000000  130.000000  248.000000    0.000000   \n",
              "75%     54.000000    1.000000    4.000000  140.000000  277.000000    0.000000   \n",
              "max     66.000000    1.000000    4.000000  200.000000  603.000000    1.000000   \n",
              "\n",
              "          restecg     thalach       exang     oldpeak      target  \n",
              "count  293.000000  293.000000  293.000000  293.000000  293.000000  \n",
              "mean     0.218430  139.058020    0.303754    0.588055    0.795222  \n",
              "std      0.460868   23.558003    0.460665    0.909554    1.238251  \n",
              "min      0.000000   82.000000    0.000000    0.000000    0.000000  \n",
              "25%      0.000000  122.000000    0.000000    0.000000    0.000000  \n",
              "50%      0.000000  140.000000    0.000000    0.000000    0.000000  \n",
              "75%      0.000000  155.000000    1.000000    1.000000    1.000000  \n",
              "max      2.000000  190.000000    1.000000    5.000000    4.000000  "
            ]
          },
          "execution_count": 232,
          "metadata": {},
          "output_type": "execute_result"
        }
      ],
      "source": [
        "dfClean.describe()"
      ]
    },
    {
      "cell_type": "code",
      "execution_count": 233,
      "metadata": {
        "id": "lfQimF5x4NMg"
      },
      "outputs": [],
      "source": [
        "# Normalisasi data fitur menggunakan Min-Max Scaler\n",
        "from sklearn.preprocessing import MinMaxScaler\n",
        "\n",
        "scaler = MinMaxScaler()\n",
        "\n",
        "X_smote_resampled_normal = scaler.fit_transform(X_smote_resampled)"
      ]
    },
    {
      "cell_type": "markdown",
      "metadata": {
        "id": "tMyANbTqEI6N"
      },
      "source": [
        "MinMaxScaler merupakan metode normalisasi yang digunakan untuk mengubah rentang nilai fitur menjadi rentang tertentu, umumnya dari 0 hingga 1.\n",
        "\n",
        "- Dengan menggunakan **.fit_transform()**, perhitungan dan transformasi dilakukan pada dataset fitur untuk mengubahnya menjadi skala yang diinginkan.\n",
        "\n",
        "- Variabel **X_smote_resampled_normal** digunakan untuk menyimpan hasil normalisasi dari proses tersebut."
      ]
    },
    {
      "cell_type": "code",
      "execution_count": 234,
      "metadata": {
        "colab": {
          "base_uri": "https://localhost:8080/"
        },
        "id": "l9s8fu8e4XMb",
        "outputId": "9983e519-f5a6-49f4-acc1-b8fcb9e7ca64"
      },
      "outputs": [
        {
          "data": {
            "text/plain": [
              "935"
            ]
          },
          "execution_count": 234,
          "metadata": {},
          "output_type": "execute_result"
        }
      ],
      "source": [
        "# Menghitung jumlah sampel dalam Dataset Fitur setelah dinormalisasi dengan Min-Max Scaler\n",
        "len(X_smote_resampled_normal)"
      ]
    },
    {
      "cell_type": "markdown",
      "metadata": {
        "id": "FTNTSafQFZjq"
      },
      "source": [
        "Menghitung panjang atau jumlah elemen dalam suatu objek, yaitu jumlah sampel dalam dataset fitur yang sudah dinormalisasi."
      ]
    },
    {
      "cell_type": "code",
      "execution_count": 235,
      "metadata": {
        "colab": {
          "base_uri": "https://localhost:8080/",
          "height": 300
        },
        "id": "k5rBgPG-4Zka",
        "outputId": "28ba8a51-1ad6-4c2e-fc5b-b52f455efde8"
      },
      "outputs": [
        {
          "data": {
            "text/html": [
              "<div>\n",
              "<style scoped>\n",
              "    .dataframe tbody tr th:only-of-type {\n",
              "        vertical-align: middle;\n",
              "    }\n",
              "\n",
              "    .dataframe tbody tr th {\n",
              "        vertical-align: top;\n",
              "    }\n",
              "\n",
              "    .dataframe thead th {\n",
              "        text-align: right;\n",
              "    }\n",
              "</style>\n",
              "<table border=\"1\" class=\"dataframe\">\n",
              "  <thead>\n",
              "    <tr style=\"text-align: right;\">\n",
              "      <th></th>\n",
              "      <th>0</th>\n",
              "      <th>1</th>\n",
              "      <th>2</th>\n",
              "      <th>3</th>\n",
              "      <th>4</th>\n",
              "      <th>5</th>\n",
              "      <th>6</th>\n",
              "      <th>7</th>\n",
              "      <th>8</th>\n",
              "      <th>9</th>\n",
              "    </tr>\n",
              "  </thead>\n",
              "  <tbody>\n",
              "    <tr>\n",
              "      <th>count</th>\n",
              "      <td>935.000000</td>\n",
              "      <td>935.000000</td>\n",
              "      <td>935.000000</td>\n",
              "      <td>935.000000</td>\n",
              "      <td>935.000000</td>\n",
              "      <td>935.000000</td>\n",
              "      <td>935.000000</td>\n",
              "      <td>935.000000</td>\n",
              "      <td>935.000000</td>\n",
              "      <td>935.000000</td>\n",
              "    </tr>\n",
              "    <tr>\n",
              "      <th>mean</th>\n",
              "      <td>0.563739</td>\n",
              "      <td>0.842507</td>\n",
              "      <td>0.818224</td>\n",
              "      <td>0.403413</td>\n",
              "      <td>0.341027</td>\n",
              "      <td>0.094277</td>\n",
              "      <td>0.117938</td>\n",
              "      <td>0.453354</td>\n",
              "      <td>0.598398</td>\n",
              "      <td>0.227015</td>\n",
              "    </tr>\n",
              "    <tr>\n",
              "      <th>std</th>\n",
              "      <td>0.174873</td>\n",
              "      <td>0.332492</td>\n",
              "      <td>0.274211</td>\n",
              "      <td>0.147493</td>\n",
              "      <td>0.110990</td>\n",
              "      <td>0.252030</td>\n",
              "      <td>0.199527</td>\n",
              "      <td>0.197232</td>\n",
              "      <td>0.450288</td>\n",
              "      <td>0.201293</td>\n",
              "    </tr>\n",
              "    <tr>\n",
              "      <th>min</th>\n",
              "      <td>0.000000</td>\n",
              "      <td>0.000000</td>\n",
              "      <td>0.000000</td>\n",
              "      <td>0.000000</td>\n",
              "      <td>0.000000</td>\n",
              "      <td>0.000000</td>\n",
              "      <td>0.000000</td>\n",
              "      <td>0.000000</td>\n",
              "      <td>0.000000</td>\n",
              "      <td>0.000000</td>\n",
              "    </tr>\n",
              "    <tr>\n",
              "      <th>25%</th>\n",
              "      <td>0.473283</td>\n",
              "      <td>1.000000</td>\n",
              "      <td>0.666667</td>\n",
              "      <td>0.305556</td>\n",
              "      <td>0.267954</td>\n",
              "      <td>0.000000</td>\n",
              "      <td>0.000000</td>\n",
              "      <td>0.312720</td>\n",
              "      <td>0.000000</td>\n",
              "      <td>0.000000</td>\n",
              "    </tr>\n",
              "    <tr>\n",
              "      <th>50%</th>\n",
              "      <td>0.578947</td>\n",
              "      <td>1.000000</td>\n",
              "      <td>1.000000</td>\n",
              "      <td>0.387952</td>\n",
              "      <td>0.330240</td>\n",
              "      <td>0.000000</td>\n",
              "      <td>0.000000</td>\n",
              "      <td>0.440606</td>\n",
              "      <td>0.962447</td>\n",
              "      <td>0.200000</td>\n",
              "    </tr>\n",
              "    <tr>\n",
              "      <th>75%</th>\n",
              "      <td>0.683363</td>\n",
              "      <td>1.000000</td>\n",
              "      <td>1.000000</td>\n",
              "      <td>0.487481</td>\n",
              "      <td>0.393811</td>\n",
              "      <td>0.000000</td>\n",
              "      <td>0.201473</td>\n",
              "      <td>0.593629</td>\n",
              "      <td>1.000000</td>\n",
              "      <td>0.386166</td>\n",
              "    </tr>\n",
              "    <tr>\n",
              "      <th>max</th>\n",
              "      <td>1.000000</td>\n",
              "      <td>1.000000</td>\n",
              "      <td>1.000000</td>\n",
              "      <td>1.000000</td>\n",
              "      <td>1.000000</td>\n",
              "      <td>1.000000</td>\n",
              "      <td>1.000000</td>\n",
              "      <td>1.000000</td>\n",
              "      <td>1.000000</td>\n",
              "      <td>1.000000</td>\n",
              "    </tr>\n",
              "  </tbody>\n",
              "</table>\n",
              "</div>"
            ],
            "text/plain": [
              "                0           1           2           3           4           5  \\\n",
              "count  935.000000  935.000000  935.000000  935.000000  935.000000  935.000000   \n",
              "mean     0.563739    0.842507    0.818224    0.403413    0.341027    0.094277   \n",
              "std      0.174873    0.332492    0.274211    0.147493    0.110990    0.252030   \n",
              "min      0.000000    0.000000    0.000000    0.000000    0.000000    0.000000   \n",
              "25%      0.473283    1.000000    0.666667    0.305556    0.267954    0.000000   \n",
              "50%      0.578947    1.000000    1.000000    0.387952    0.330240    0.000000   \n",
              "75%      0.683363    1.000000    1.000000    0.487481    0.393811    0.000000   \n",
              "max      1.000000    1.000000    1.000000    1.000000    1.000000    1.000000   \n",
              "\n",
              "                6           7           8           9  \n",
              "count  935.000000  935.000000  935.000000  935.000000  \n",
              "mean     0.117938    0.453354    0.598398    0.227015  \n",
              "std      0.199527    0.197232    0.450288    0.201293  \n",
              "min      0.000000    0.000000    0.000000    0.000000  \n",
              "25%      0.000000    0.312720    0.000000    0.000000  \n",
              "50%      0.000000    0.440606    0.962447    0.200000  \n",
              "75%      0.201473    0.593629    1.000000    0.386166  \n",
              "max      1.000000    1.000000    1.000000    1.000000  "
            ]
          },
          "execution_count": 235,
          "metadata": {},
          "output_type": "execute_result"
        }
      ],
      "source": [
        "# Membuat DataFrame dari dataset fitur yang telah dinormalisasi dan menghasilkan statistik\n",
        "dfcek1 = pd.DataFrame(X_smote_resampled_normal)\n",
        "dfcek1.describe()"
      ]
    },
    {
      "cell_type": "code",
      "execution_count": 236,
      "metadata": {},
      "outputs": [],
      "source": [
        "# Menyimpan DataFrame ke dalam file CSV\n",
        "nama_file = 'dataset_baru.csv'\n",
        "dfcek1.to_csv(nama_file, index=False)"
      ]
    },
    {
      "cell_type": "markdown",
      "metadata": {
        "id": "O10-V2ngF62Q"
      },
      "source": [
        "membagi fitur dan target menjadi data train dan test"
      ]
    },
    {
      "cell_type": "code",
      "execution_count": 237,
      "metadata": {
        "id": "KravStyt4gHa"
      },
      "outputs": [],
      "source": [
        "from sklearn.model_selection import train_test_split"
      ]
    },
    {
      "cell_type": "markdown",
      "metadata": {
        "id": "y629v0qEGHCw"
      },
      "source": [
        "- Fungsi ini bertugas memecah dataset menjadi subset pelatihan (training set) dan subset pengujian (testing set) secara acak.\n",
        "\n",
        "Artinya, subset pelatihan digunakan untuk melatih model, sedangkan subset pengujian digunakan untuk menguji kinerja model."
      ]
    },
    {
      "cell_type": "code",
      "execution_count": 238,
      "metadata": {
        "id": "TwLRu5rD4kPx"
      },
      "outputs": [],
      "source": [
        "# Membagi fitur dan target menjadi data train dan test (Untuk yang oversampling saja)\n",
        "X_train, X_test, y_train, y_test = train_test_split(X_smote_resampled, y_smote_resampled, test_size=0.2, random_state=42, stratify=y_smote_resampled)"
      ]
    },
    {
      "cell_type": "markdown",
      "metadata": {
        "id": "V8AHSeELGnRA"
      },
      "source": [
        "- Parameter **test_size=0.2** digunakan untuk menentukan proporsi subset pengujian, yakni 20% dari total dataset yang telah mengalami oversampling.\n",
        "\n",
        "- Dengan menggunakan **random_state=42**, kita mengontrol pembagian dataset secara acak agar dapat direproduksi dengan hasil yang konsisten.\n",
        "\n",
        "- Penggunaan **stratify=y_smote_resampled** memastikan bahwa distribusi kelas pada subset pelatihan dan pengujian tetap seimbang."
      ]
    },
    {
      "cell_type": "code",
      "execution_count": 239,
      "metadata": {
        "id": "U7oxOlwo42yK"
      },
      "outputs": [],
      "source": [
        "# Membagi fitur dan target menjadi data train dan test (untuk yang oversampling + normalization)\n",
        "X_train_normal, X_test_normal, y_train_normal, y_test_normal = train_test_split(X_smote_resampled, y_smote_resampled, test_size=0.2, random_state=42, stratify=y_smote_resampled)"
      ]
    },
    {
      "cell_type": "markdown",
      "metadata": {
        "id": "5XUgByvz5XXZ"
      },
      "source": [
        "# 7) Model"
      ]
    },
    {
      "cell_type": "markdown",
      "metadata": {
        "id": "b7VutDsIQLCD"
      },
      "source": [
        "Setelah melakukan langkah 1 - 6, langkah selanjutnya adalah membangun model."
      ]
    },
    {
      "cell_type": "code",
      "execution_count": 240,
      "metadata": {
        "id": "3onfWUKZ5WSR"
      },
      "outputs": [],
      "source": [
        "# Fungsi yang akan dipanggil di setiap model\n",
        "\n",
        "# Mengimpor modul yang diperlukan dari library scikit-learn\n",
        "from sklearn.metrics import accuracy_score, recall_score, f1_score, precision_score, roc_auc_score, confusion_matrix, precision_score\n",
        "\n",
        "# Fungsi evaluation digunakan untuk melakukan evaluasi model dengan menggunakan beberapa metrik evaluasi yang umum digunakan\n",
        "def evaluation(Y_test, Y_pred):\n",
        "  acc = accuracy_score(Y_test, Y_pred)\n",
        "  rcl = recall_score(Y_test, Y_pred, average='weighted')\n",
        "  f1 = f1_score(Y_test, Y_pred, average='weighted')\n",
        "  ps = precision_score(Y_test, Y_pred, average='weighted')\n",
        "\n",
        "  metric_dict={'accuracy': round(acc, 3),\n",
        "               'recall': round(rcl, 3),\n",
        "               'F1 score': round(f1, 3),\n",
        "               'Precision score': round(ps, 3)\n",
        "               }\n",
        "\n",
        "  return print(metric_dict)"
      ]
    },
    {
      "cell_type": "markdown",
      "metadata": {
        "id": "AN05vopmQ9do"
      },
      "source": [
        "- Beberapa metrik evaluasi yang dihitung meliputi:\n",
        "  1. **accuracy_score** -> Mengukur akurasi model.\n",
        "  2. **recall_score** -> Mengukur recall (sensitivitas) model dengan opsi **average='weighted'** untuk menghitung rata-rata berdasarkan jumlah sampel dalam setiap kelas.\n",
        "  3. **f1_score** -> Mengukur F1 score (rata-rata harmonik presisi dan recall).\n",
        "  4. **precision_score** -> Mengukur presisi model.\n",
        "\n",
        "- Hasil dari metrik evaluasi disimpan dalam variabel **metric_dict**."
      ]
    },
    {
      "cell_type": "markdown",
      "metadata": {
        "id": "sagvveX7SBVN"
      },
      "source": [
        "membangun model KNN, Random Forest, dan XGBoost menggunakan SMOTE"
      ]
    },
    {
      "cell_type": "markdown",
      "metadata": {
        "id": "HqDZ7yDvDNHH"
      },
      "source": [
        "# KNN"
      ]
    },
    {
      "cell_type": "markdown",
      "metadata": {
        "id": "_5eAc3aSSHxQ"
      },
      "source": [
        "KNN akan dibangun dengan nilai neighbors yaitu 3."
      ]
    },
    {
      "cell_type": "code",
      "execution_count": 241,
      "metadata": {
        "id": "GG8pe2pmDPav"
      },
      "outputs": [],
      "source": [
        "# Mengimport modul dari library scikit-learn dan XGBoost\n",
        "from sklearn.neighbors import KNeighborsClassifier #Implementasi dari algoritma KNN untuk klasifikasi\n",
        "from sklearn.ensemble import RandomForestClassifier #Implementasi dari algoritma RF untuk klasifikasi\n",
        "from xgboost import XGBClassifier  #Implementasi dari algoritma XGBoost untuk klasifikasi\n",
        "from sklearn.metrics import accuracy_score, classification_report #Untuk menghitung akurasi dan menghasilkan laporan klasifikasi"
      ]
    },
    {
      "cell_type": "code",
      "execution_count": 242,
      "metadata": {
        "colab": {
          "base_uri": "https://localhost:8080/",
          "height": 74
        },
        "id": "nu-FtQvbDcuM",
        "outputId": "365361a1-5cb4-410c-e2ab-8a381fc72a7e"
      },
      "outputs": [
        {
          "data": {
            "text/html": [
              "<style>#sk-container-id-13 {color: black;background-color: white;}#sk-container-id-13 pre{padding: 0;}#sk-container-id-13 div.sk-toggleable {background-color: white;}#sk-container-id-13 label.sk-toggleable__label {cursor: pointer;display: block;width: 100%;margin-bottom: 0;padding: 0.3em;box-sizing: border-box;text-align: center;}#sk-container-id-13 label.sk-toggleable__label-arrow:before {content: \"▸\";float: left;margin-right: 0.25em;color: #696969;}#sk-container-id-13 label.sk-toggleable__label-arrow:hover:before {color: black;}#sk-container-id-13 div.sk-estimator:hover label.sk-toggleable__label-arrow:before {color: black;}#sk-container-id-13 div.sk-toggleable__content {max-height: 0;max-width: 0;overflow: hidden;text-align: left;background-color: #f0f8ff;}#sk-container-id-13 div.sk-toggleable__content pre {margin: 0.2em;color: black;border-radius: 0.25em;background-color: #f0f8ff;}#sk-container-id-13 input.sk-toggleable__control:checked~div.sk-toggleable__content {max-height: 200px;max-width: 100%;overflow: auto;}#sk-container-id-13 input.sk-toggleable__control:checked~label.sk-toggleable__label-arrow:before {content: \"▾\";}#sk-container-id-13 div.sk-estimator input.sk-toggleable__control:checked~label.sk-toggleable__label {background-color: #d4ebff;}#sk-container-id-13 div.sk-label input.sk-toggleable__control:checked~label.sk-toggleable__label {background-color: #d4ebff;}#sk-container-id-13 input.sk-hidden--visually {border: 0;clip: rect(1px 1px 1px 1px);clip: rect(1px, 1px, 1px, 1px);height: 1px;margin: -1px;overflow: hidden;padding: 0;position: absolute;width: 1px;}#sk-container-id-13 div.sk-estimator {font-family: monospace;background-color: #f0f8ff;border: 1px dotted black;border-radius: 0.25em;box-sizing: border-box;margin-bottom: 0.5em;}#sk-container-id-13 div.sk-estimator:hover {background-color: #d4ebff;}#sk-container-id-13 div.sk-parallel-item::after {content: \"\";width: 100%;border-bottom: 1px solid gray;flex-grow: 1;}#sk-container-id-13 div.sk-label:hover label.sk-toggleable__label {background-color: #d4ebff;}#sk-container-id-13 div.sk-serial::before {content: \"\";position: absolute;border-left: 1px solid gray;box-sizing: border-box;top: 0;bottom: 0;left: 50%;z-index: 0;}#sk-container-id-13 div.sk-serial {display: flex;flex-direction: column;align-items: center;background-color: white;padding-right: 0.2em;padding-left: 0.2em;position: relative;}#sk-container-id-13 div.sk-item {position: relative;z-index: 1;}#sk-container-id-13 div.sk-parallel {display: flex;align-items: stretch;justify-content: center;background-color: white;position: relative;}#sk-container-id-13 div.sk-item::before, #sk-container-id-13 div.sk-parallel-item::before {content: \"\";position: absolute;border-left: 1px solid gray;box-sizing: border-box;top: 0;bottom: 0;left: 50%;z-index: -1;}#sk-container-id-13 div.sk-parallel-item {display: flex;flex-direction: column;z-index: 1;position: relative;background-color: white;}#sk-container-id-13 div.sk-parallel-item:first-child::after {align-self: flex-end;width: 50%;}#sk-container-id-13 div.sk-parallel-item:last-child::after {align-self: flex-start;width: 50%;}#sk-container-id-13 div.sk-parallel-item:only-child::after {width: 0;}#sk-container-id-13 div.sk-dashed-wrapped {border: 1px dashed gray;margin: 0 0.4em 0.5em 0.4em;box-sizing: border-box;padding-bottom: 0.4em;background-color: white;}#sk-container-id-13 div.sk-label label {font-family: monospace;font-weight: bold;display: inline-block;line-height: 1.2em;}#sk-container-id-13 div.sk-label-container {text-align: center;}#sk-container-id-13 div.sk-container {/* jupyter's `normalize.less` sets `[hidden] { display: none; }` but bootstrap.min.css set `[hidden] { display: none !important; }` so we also need the `!important` here to be able to override the default hidden behavior on the sphinx rendered scikit-learn.org. See: https://github.com/scikit-learn/scikit-learn/issues/21755 */display: inline-block !important;position: relative;}#sk-container-id-13 div.sk-text-repr-fallback {display: none;}</style><div id=\"sk-container-id-13\" class=\"sk-top-container\"><div class=\"sk-text-repr-fallback\"><pre>KNeighborsClassifier(n_neighbors=3)</pre><b>In a Jupyter environment, please rerun this cell to show the HTML representation or trust the notebook. <br />On GitHub, the HTML representation is unable to render, please try loading this page with nbviewer.org.</b></div><div class=\"sk-container\" hidden><div class=\"sk-item\"><div class=\"sk-estimator sk-toggleable\"><input class=\"sk-toggleable__control sk-hidden--visually\" id=\"sk-estimator-id-13\" type=\"checkbox\" checked><label for=\"sk-estimator-id-13\" class=\"sk-toggleable__label sk-toggleable__label-arrow\">KNeighborsClassifier</label><div class=\"sk-toggleable__content\"><pre>KNeighborsClassifier(n_neighbors=3)</pre></div></div></div></div></div>"
            ],
            "text/plain": [
              "KNeighborsClassifier(n_neighbors=3)"
            ]
          },
          "execution_count": 242,
          "metadata": {},
          "output_type": "execute_result"
        }
      ],
      "source": [
        "# Membuat objek model KNN\n",
        "knn_model = KNeighborsClassifier(n_neighbors=3)\n",
        "knn_model.fit(X_train, y_train)"
      ]
    },
    {
      "cell_type": "markdown",
      "metadata": {
        "id": "4KC7Z27pS1nO"
      },
      "source": [
        "- **knn_model** merupakan objek model.\n",
        "\n",
        "- Parameter **n_neighbors=3** digunakan untuk menentukan jumlah tetangga terdekat yang akan digunakan dalam langkah klasifikasi.\n",
        "\n",
        "- Dengan menggunakan metode **fit()** dari objek model **knn_model**, model dilatih menggunakan data latih (X_train) dan target latih (y_train)."
      ]
    },
    {
      "cell_type": "code",
      "execution_count": 243,
      "metadata": {
        "colab": {
          "base_uri": "https://localhost:8080/"
        },
        "id": "BRRkclh8DkOY",
        "outputId": "5fb1e938-c77a-4a98-eced-de273777485d"
      },
      "outputs": [
        {
          "name": "stdout",
          "output_type": "stream",
          "text": [
            "K-Nearest Neighbors (KNN) model:\n",
            "Accuracy: 0.754\n",
            "Classification Report:\n",
            "              precision    recall  f1-score   support\n",
            "\n",
            "         0.0       0.65      0.39      0.49        38\n",
            "         1.0       0.73      0.81      0.77        37\n",
            "         2.0       0.80      0.86      0.83        37\n",
            "         3.0       0.77      0.87      0.81        38\n",
            "         4.0       0.78      0.84      0.81        37\n",
            "\n",
            "    accuracy                           0.75       187\n",
            "   macro avg       0.75      0.76      0.74       187\n",
            "weighted avg       0.74      0.75      0.74       187\n",
            "\n"
          ]
        }
      ],
      "source": [
        "# Melakukan prediksi menggunakan KNN\n",
        "y_pred_knn=knn_model.predict(X_test)\n",
        "\n",
        "# Evaluate the KNN model\n",
        "print(\"K-Nearest Neighbors (KNN) model:\")\n",
        "accuracy_knn_smote=round(accuracy_score(y_test, y_pred_knn), 3)\n",
        "print(\"Accuracy:\", accuracy_knn_smote)\n",
        "print(\"Classification Report:\")\n",
        "print(classification_report(y_test, y_pred_knn))"
      ]
    },
    {
      "cell_type": "markdown",
      "metadata": {
        "id": "42NpHReUTmSg"
      },
      "source": [
        "- Dengan menggunakan **metode predict()**, dilakukan prediksi pada data uji (X_test) dan hasilnya disimpan dalam variabel y_pred_knn.\n",
        "\n",
        "- Dengan menggunakan **accuracy_score()**, diukur akurasi model KNN. Hasil akurasi tersebut dibulatkan menjadi 3 desimal dan disimpan dalam variabel accuracy_knn_smote.\n",
        "\n",
        "- Hasilnya menunjukkan bahwa akurasi saat melakukan prediksi dengan menggunakan algoritma KNN adalah 0.754."
      ]
    },
    {
      "cell_type": "code",
      "execution_count": 244,
      "metadata": {
        "colab": {
          "base_uri": "https://localhost:8080/"
        },
        "id": "ZnA56bEoD_TW",
        "outputId": "2c972100-b922-4d6e-95c0-3e17aa74abff"
      },
      "outputs": [
        {
          "name": "stdout",
          "output_type": "stream",
          "text": [
            "{'accuracy': 0.754, 'recall': 0.754, 'F1 score': 0.741, 'Precision score': 0.745}\n"
          ]
        }
      ],
      "source": [
        "# Memanggil fungsi evaluation\n",
        "evaluation(y_test, y_pred_knn)"
      ]
    },
    {
      "cell_type": "code",
      "execution_count": 245,
      "metadata": {
        "colab": {
          "base_uri": "https://localhost:8080/",
          "height": 564
        },
        "id": "hntjEgUsEDo9",
        "outputId": "d3e608c2-92ee-42e2-9899-aea66f4fc83f"
      },
      "outputs": [
        {
          "data": {
            "image/png": "[encoded data removed]",
            "text/plain": [
              "<Figure size 800x600 with 2 Axes>"
            ]
          },
          "metadata": {},
          "output_type": "display_data"
        }
      ],
      "source": [
        "# Membuat confusion matrik model KNN\n",
        "cm=confusion_matrix(y_test, y_pred_knn)\n",
        "\n",
        "plt.figure(figsize=(8, 6))\n",
        "sns.heatmap(cm, annot=True, fmt=\"d\", cmap='Reds')\n",
        "plt.title('Confusion Matrix')\n",
        "plt.xlabel(\"True\")\n",
        "plt.ylabel('Predict')\n",
        "plt.show()"
      ]
    },
    {
      "cell_type": "markdown",
      "metadata": {
        "id": "3uXZMtOeSYib"
      },
      "source": [
        "# Random Forest"
      ]
    },
    {
      "cell_type": "markdown",
      "metadata": {
        "id": "95fQ78dDVKSY"
      },
      "source": [
        "Model kedua yang akan dibuat adalah Random Forest dengan jumlah estimator sebanyak 100. Ini berfungsi untuk mengontrol jumlah pohon keputusan yang akan dibangun."
      ]
    },
    {
      "cell_type": "code",
      "execution_count": 246,
      "metadata": {
        "colab": {
          "base_uri": "https://localhost:8080/",
          "height": 74
        },
        "id": "tUcT5Vt7FiHB",
        "outputId": "e0bfa727-18ab-413e-890d-b95e1f12f8e2"
      },
      "outputs": [
        {
          "data": {
            "text/html": [
              "<style>#sk-container-id-14 {color: black;background-color: white;}#sk-container-id-14 pre{padding: 0;}#sk-container-id-14 div.sk-toggleable {background-color: white;}#sk-container-id-14 label.sk-toggleable__label {cursor: pointer;display: block;width: 100%;margin-bottom: 0;padding: 0.3em;box-sizing: border-box;text-align: center;}#sk-container-id-14 label.sk-toggleable__label-arrow:before {content: \"▸\";float: left;margin-right: 0.25em;color: #696969;}#sk-container-id-14 label.sk-toggleable__label-arrow:hover:before {color: black;}#sk-container-id-14 div.sk-estimator:hover label.sk-toggleable__label-arrow:before {color: black;}#sk-container-id-14 div.sk-toggleable__content {max-height: 0;max-width: 0;overflow: hidden;text-align: left;background-color: #f0f8ff;}#sk-container-id-14 div.sk-toggleable__content pre {margin: 0.2em;color: black;border-radius: 0.25em;background-color: #f0f8ff;}#sk-container-id-14 input.sk-toggleable__control:checked~div.sk-toggleable__content {max-height: 200px;max-width: 100%;overflow: auto;}#sk-container-id-14 input.sk-toggleable__control:checked~label.sk-toggleable__label-arrow:before {content: \"▾\";}#sk-container-id-14 div.sk-estimator input.sk-toggleable__control:checked~label.sk-toggleable__label {background-color: #d4ebff;}#sk-container-id-14 div.sk-label input.sk-toggleable__control:checked~label.sk-toggleable__label {background-color: #d4ebff;}#sk-container-id-14 input.sk-hidden--visually {border: 0;clip: rect(1px 1px 1px 1px);clip: rect(1px, 1px, 1px, 1px);height: 1px;margin: -1px;overflow: hidden;padding: 0;position: absolute;width: 1px;}#sk-container-id-14 div.sk-estimator {font-family: monospace;background-color: #f0f8ff;border: 1px dotted black;border-radius: 0.25em;box-sizing: border-box;margin-bottom: 0.5em;}#sk-container-id-14 div.sk-estimator:hover {background-color: #d4ebff;}#sk-container-id-14 div.sk-parallel-item::after {content: \"\";width: 100%;border-bottom: 1px solid gray;flex-grow: 1;}#sk-container-id-14 div.sk-label:hover label.sk-toggleable__label {background-color: #d4ebff;}#sk-container-id-14 div.sk-serial::before {content: \"\";position: absolute;border-left: 1px solid gray;box-sizing: border-box;top: 0;bottom: 0;left: 50%;z-index: 0;}#sk-container-id-14 div.sk-serial {display: flex;flex-direction: column;align-items: center;background-color: white;padding-right: 0.2em;padding-left: 0.2em;position: relative;}#sk-container-id-14 div.sk-item {position: relative;z-index: 1;}#sk-container-id-14 div.sk-parallel {display: flex;align-items: stretch;justify-content: center;background-color: white;position: relative;}#sk-container-id-14 div.sk-item::before, #sk-container-id-14 div.sk-parallel-item::before {content: \"\";position: absolute;border-left: 1px solid gray;box-sizing: border-box;top: 0;bottom: 0;left: 50%;z-index: -1;}#sk-container-id-14 div.sk-parallel-item {display: flex;flex-direction: column;z-index: 1;position: relative;background-color: white;}#sk-container-id-14 div.sk-parallel-item:first-child::after {align-self: flex-end;width: 50%;}#sk-container-id-14 div.sk-parallel-item:last-child::after {align-self: flex-start;width: 50%;}#sk-container-id-14 div.sk-parallel-item:only-child::after {width: 0;}#sk-container-id-14 div.sk-dashed-wrapped {border: 1px dashed gray;margin: 0 0.4em 0.5em 0.4em;box-sizing: border-box;padding-bottom: 0.4em;background-color: white;}#sk-container-id-14 div.sk-label label {font-family: monospace;font-weight: bold;display: inline-block;line-height: 1.2em;}#sk-container-id-14 div.sk-label-container {text-align: center;}#sk-container-id-14 div.sk-container {/* jupyter's `normalize.less` sets `[hidden] { display: none; }` but bootstrap.min.css set `[hidden] { display: none !important; }` so we also need the `!important` here to be able to override the default hidden behavior on the sphinx rendered scikit-learn.org. See: https://github.com/scikit-learn/scikit-learn/issues/21755 */display: inline-block !important;position: relative;}#sk-container-id-14 div.sk-text-repr-fallback {display: none;}</style><div id=\"sk-container-id-14\" class=\"sk-top-container\"><div class=\"sk-text-repr-fallback\"><pre>RandomForestClassifier(random_state=42)</pre><b>In a Jupyter environment, please rerun this cell to show the HTML representation or trust the notebook. <br />On GitHub, the HTML representation is unable to render, please try loading this page with nbviewer.org.</b></div><div class=\"sk-container\" hidden><div class=\"sk-item\"><div class=\"sk-estimator sk-toggleable\"><input class=\"sk-toggleable__control sk-hidden--visually\" id=\"sk-estimator-id-14\" type=\"checkbox\" checked><label for=\"sk-estimator-id-14\" class=\"sk-toggleable__label sk-toggleable__label-arrow\">RandomForestClassifier</label><div class=\"sk-toggleable__content\"><pre>RandomForestClassifier(random_state=42)</pre></div></div></div></div></div>"
            ],
            "text/plain": [
              "RandomForestClassifier(random_state=42)"
            ]
          },
          "execution_count": 246,
          "metadata": {},
          "output_type": "execute_result"
        }
      ],
      "source": [
        "rf_model_fix = RandomForestClassifier(n_estimators=100, random_state=42)\n",
        "rf_model_fix.fit(X_train, y_train)"
      ]
    },
    {
      "cell_type": "code",
      "execution_count": 247,
      "metadata": {
        "colab": {
          "base_uri": "https://localhost:8080/"
        },
        "id": "DKP2LdviSmbR",
        "outputId": "8a63e16f-d7a5-4f54-9b96-d63e8f72aa53"
      },
      "outputs": [
        {
          "name": "stdout",
          "output_type": "stream",
          "text": [
            "\n",
            "Random Forest Model: \n",
            "Accuracy: 0.92\n",
            "Classification Report: \n",
            "              precision    recall  f1-score   support\n",
            "\n",
            "         0.0       0.94      0.89      0.92        38\n",
            "         1.0       0.85      0.92      0.88        37\n",
            "         2.0       0.89      0.89      0.89        37\n",
            "         3.0       0.95      0.97      0.96        38\n",
            "         4.0       0.97      0.92      0.94        37\n",
            "\n",
            "    accuracy                           0.92       187\n",
            "   macro avg       0.92      0.92      0.92       187\n",
            "weighted avg       0.92      0.92      0.92       187\n",
            "\n"
          ]
        }
      ],
      "source": [
        "# Melakukan prediksi dengan RF\n",
        "y_pred_rf = rf_model_fix.predict(X_test)\n",
        "\n",
        "#Evaluasi Model Random Forest\n",
        "print(\"\\nRandom Forest Model: \")\n",
        "accuracy_rf_smote = round(accuracy_score(y_test, y_pred_rf), 3)\n",
        "print(\"Accuracy:\", accuracy_rf_smote)\n",
        "print(\"Classification Report: \")\n",
        "print(classification_report(y_test, y_pred_rf))"
      ]
    },
    {
      "cell_type": "code",
      "execution_count": 248,
      "metadata": {
        "colab": {
          "base_uri": "https://localhost:8080/"
        },
        "id": "udnHsgoCTAi3",
        "outputId": "6c1f6578-7202-4f70-d30d-45dec47eab17"
      },
      "outputs": [
        {
          "name": "stdout",
          "output_type": "stream",
          "text": [
            "{'accuracy': 0.92, 'recall': 0.92, 'F1 score': 0.92, 'Precision score': 0.922}\n"
          ]
        }
      ],
      "source": [
        "evaluation(y_test, y_pred_rf)"
      ]
    },
    {
      "cell_type": "code",
      "execution_count": 249,
      "metadata": {
        "colab": {
          "base_uri": "https://localhost:8080/",
          "height": 564
        },
        "id": "YD7UbrttTJGM",
        "outputId": "08a1ec4e-b741-4c45-aebe-4e7c55756a84"
      },
      "outputs": [
        {
          "data": {
            "image/png": "[encoded data removed]",
            "text/plain": [
              "<Figure size 800x600 with 2 Axes>"
            ]
          },
          "metadata": {},
          "output_type": "display_data"
        }
      ],
      "source": [
        "# Membuat Confusion Matrix Random Forest\n",
        "cm = confusion_matrix(y_test, y_pred_rf)\n",
        "\n",
        "plt.figure(figsize=(8, 6))\n",
        "sns.heatmap(cm, annot=True, fmt='d', cmap=\"Greens\")\n",
        "plt.title('Confusion Matrix')\n",
        "plt.xlabel('True')\n",
        "plt.ylabel('Predict')\n",
        "plt.show()"
      ]
    },
    {
      "cell_type": "markdown",
      "metadata": {
        "id": "pxax4DAdT9lF"
      },
      "source": [
        "# XGBoost"
      ]
    },
    {
      "cell_type": "markdown",
      "metadata": {
        "id": "MYcpp2eiWz53"
      },
      "source": [
        "Berikutnya, kita akan mengembangkan model menggunakan XGBoost, sebuah algoritma Machine Learning yang terkenal dan kuat, digunakan untuk tugas regresi dan klasifikasi. XGBoost adalah implementasi yang dioptimalkan dari algoritma Gradient Boosting, mengadopsi ensemble learning dengan pohon keputusan sebagai model dasarnya. Learning rate yang akan digunakan adalah 0.1, dan jumlah estimator (n_estimators) diatur sebanyak 100."
      ]
    },
    {
      "cell_type": "code",
      "execution_count": 250,
      "metadata": {
        "colab": {
          "base_uri": "https://localhost:8080/",
          "height": 248
        },
        "id": "k2ZAKGiWT6Xh",
        "outputId": "41124c15-e444-468e-a761-680896a5ced7"
      },
      "outputs": [
        {
          "data": {
            "text/html": [
              "<style>#sk-container-id-15 {color: black;background-color: white;}#sk-container-id-15 pre{padding: 0;}#sk-container-id-15 div.sk-toggleable {background-color: white;}#sk-container-id-15 label.sk-toggleable__label {cursor: pointer;display: block;width: 100%;margin-bottom: 0;padding: 0.3em;box-sizing: border-box;text-align: center;}#sk-container-id-15 label.sk-toggleable__label-arrow:before {content: \"▸\";float: left;margin-right: 0.25em;color: #696969;}#sk-container-id-15 label.sk-toggleable__label-arrow:hover:before {color: black;}#sk-container-id-15 div.sk-estimator:hover label.sk-toggleable__label-arrow:before {color: black;}#sk-container-id-15 div.sk-toggleable__content {max-height: 0;max-width: 0;overflow: hidden;text-align: left;background-color: #f0f8ff;}#sk-container-id-15 div.sk-toggleable__content pre {margin: 0.2em;color: black;border-radius: 0.25em;background-color: #f0f8ff;}#sk-container-id-15 input.sk-toggleable__control:checked~div.sk-toggleable__content {max-height: 200px;max-width: 100%;overflow: auto;}#sk-container-id-15 input.sk-toggleable__control:checked~label.sk-toggleable__label-arrow:before {content: \"▾\";}#sk-container-id-15 div.sk-estimator input.sk-toggleable__control:checked~label.sk-toggleable__label {background-color: #d4ebff;}#sk-container-id-15 div.sk-label input.sk-toggleable__control:checked~label.sk-toggleable__label {background-color: #d4ebff;}#sk-container-id-15 input.sk-hidden--visually {border: 0;clip: rect(1px 1px 1px 1px);clip: rect(1px, 1px, 1px, 1px);height: 1px;margin: -1px;overflow: hidden;padding: 0;position: absolute;width: 1px;}#sk-container-id-15 div.sk-estimator {font-family: monospace;background-color: #f0f8ff;border: 1px dotted black;border-radius: 0.25em;box-sizing: border-box;margin-bottom: 0.5em;}#sk-container-id-15 div.sk-estimator:hover {background-color: #d4ebff;}#sk-container-id-15 div.sk-parallel-item::after {content: \"\";width: 100%;border-bottom: 1px solid gray;flex-grow: 1;}#sk-container-id-15 div.sk-label:hover label.sk-toggleable__label {background-color: #d4ebff;}#sk-container-id-15 div.sk-serial::before {content: \"\";position: absolute;border-left: 1px solid gray;box-sizing: border-box;top: 0;bottom: 0;left: 50%;z-index: 0;}#sk-container-id-15 div.sk-serial {display: flex;flex-direction: column;align-items: center;background-color: white;padding-right: 0.2em;padding-left: 0.2em;position: relative;}#sk-container-id-15 div.sk-item {position: relative;z-index: 1;}#sk-container-id-15 div.sk-parallel {display: flex;align-items: stretch;justify-content: center;background-color: white;position: relative;}#sk-container-id-15 div.sk-item::before, #sk-container-id-15 div.sk-parallel-item::before {content: \"\";position: absolute;border-left: 1px solid gray;box-sizing: border-box;top: 0;bottom: 0;left: 50%;z-index: -1;}#sk-container-id-15 div.sk-parallel-item {display: flex;flex-direction: column;z-index: 1;position: relative;background-color: white;}#sk-container-id-15 div.sk-parallel-item:first-child::after {align-self: flex-end;width: 50%;}#sk-container-id-15 div.sk-parallel-item:last-child::after {align-self: flex-start;width: 50%;}#sk-container-id-15 div.sk-parallel-item:only-child::after {width: 0;}#sk-container-id-15 div.sk-dashed-wrapped {border: 1px dashed gray;margin: 0 0.4em 0.5em 0.4em;box-sizing: border-box;padding-bottom: 0.4em;background-color: white;}#sk-container-id-15 div.sk-label label {font-family: monospace;font-weight: bold;display: inline-block;line-height: 1.2em;}#sk-container-id-15 div.sk-label-container {text-align: center;}#sk-container-id-15 div.sk-container {/* jupyter's `normalize.less` sets `[hidden] { display: none; }` but bootstrap.min.css set `[hidden] { display: none !important; }` so we also need the `!important` here to be able to override the default hidden behavior on the sphinx rendered scikit-learn.org. See: https://github.com/scikit-learn/scikit-learn/issues/21755 */display: inline-block !important;position: relative;}#sk-container-id-15 div.sk-text-repr-fallback {display: none;}</style><div id=\"sk-container-id-15\" class=\"sk-top-container\"><div class=\"sk-text-repr-fallback\"><pre>XGBClassifier(base_score=None, booster=None, callbacks=None,\n",
              "              colsample_bylevel=None, colsample_bynode=None,\n",
              "              colsample_bytree=None, device=None, early_stopping_rounds=None,\n",
              "              enable_categorical=False, eval_metric=None, feature_types=None,\n",
              "              gamma=None, grow_policy=None, importance_type=None,\n",
              "              interaction_constraints=None, learning_rate=0.1, max_bin=None,\n",
              "              max_cat_threshold=None, max_cat_to_onehot=None,\n",
              "              max_delta_step=None, max_depth=None, max_leaves=None,\n",
              "              min_child_weight=None, missing=nan, monotone_constraints=None,\n",
              "              multi_strategy=None, n_estimators=100, n_jobs=None,\n",
              "              num_parallel_tree=None, objective=&#x27;multi:softprob&#x27;, ...)</pre><b>In a Jupyter environment, please rerun this cell to show the HTML representation or trust the notebook. <br />On GitHub, the HTML representation is unable to render, please try loading this page with nbviewer.org.</b></div><div class=\"sk-container\" hidden><div class=\"sk-item\"><div class=\"sk-estimator sk-toggleable\"><input class=\"sk-toggleable__control sk-hidden--visually\" id=\"sk-estimator-id-15\" type=\"checkbox\" checked><label for=\"sk-estimator-id-15\" class=\"sk-toggleable__label sk-toggleable__label-arrow\">XGBClassifier</label><div class=\"sk-toggleable__content\"><pre>XGBClassifier(base_score=None, booster=None, callbacks=None,\n",
              "              colsample_bylevel=None, colsample_bynode=None,\n",
              "              colsample_bytree=None, device=None, early_stopping_rounds=None,\n",
              "              enable_categorical=False, eval_metric=None, feature_types=None,\n",
              "              gamma=None, grow_policy=None, importance_type=None,\n",
              "              interaction_constraints=None, learning_rate=0.1, max_bin=None,\n",
              "              max_cat_threshold=None, max_cat_to_onehot=None,\n",
              "              max_delta_step=None, max_depth=None, max_leaves=None,\n",
              "              min_child_weight=None, missing=nan, monotone_constraints=None,\n",
              "              multi_strategy=None, n_estimators=100, n_jobs=None,\n",
              "              num_parallel_tree=None, objective=&#x27;multi:softprob&#x27;, ...)</pre></div></div></div></div></div>"
            ],
            "text/plain": [
              "XGBClassifier(base_score=None, booster=None, callbacks=None,\n",
              "              colsample_bylevel=None, colsample_bynode=None,\n",
              "              colsample_bytree=None, device=None, early_stopping_rounds=None,\n",
              "              enable_categorical=False, eval_metric=None, feature_types=None,\n",
              "              gamma=None, grow_policy=None, importance_type=None,\n",
              "              interaction_constraints=None, learning_rate=0.1, max_bin=None,\n",
              "              max_cat_threshold=None, max_cat_to_onehot=None,\n",
              "              max_delta_step=None, max_depth=None, max_leaves=None,\n",
              "              min_child_weight=None, missing=nan, monotone_constraints=None,\n",
              "              multi_strategy=None, n_estimators=100, n_jobs=None,\n",
              "              num_parallel_tree=None, objective='multi:softprob', ...)"
            ]
          },
          "execution_count": 250,
          "metadata": {},
          "output_type": "execute_result"
        }
      ],
      "source": [
        "xgb_model = XGBClassifier(learning_rate=0.1, n_estimators=100, random_state=42)\n",
        "xgb_model.fit(X_train, y_train)"
      ]
    },
    {
      "cell_type": "code",
      "execution_count": 251,
      "metadata": {
        "colab": {
          "base_uri": "https://localhost:8080/"
        },
        "id": "_EJvVWlpUei-",
        "outputId": "54401a47-5aeb-429c-e202-7d87d8d37047"
      },
      "outputs": [
        {
          "name": "stdout",
          "output_type": "stream",
          "text": [
            "\n",
            "XGBoost Model: \n",
            "Accuracy:  0.904\n",
            "Classification Report: \n",
            "              precision    recall  f1-score   support\n",
            "\n",
            "         0.0       0.92      0.89      0.91        38\n",
            "         1.0       0.94      0.84      0.89        37\n",
            "         2.0       0.85      0.89      0.87        37\n",
            "         3.0       0.88      0.97      0.93        38\n",
            "         4.0       0.94      0.92      0.93        37\n",
            "\n",
            "    accuracy                           0.90       187\n",
            "   macro avg       0.91      0.90      0.90       187\n",
            "weighted avg       0.91      0.90      0.90       187\n",
            "\n"
          ]
        }
      ],
      "source": [
        "# melakukan prediksi dengan XGBoost\n",
        "y_pred_xgb = xgb_model.predict(X_test)\n",
        "\n",
        "# Evaluasi Model XGBoost\n",
        "print(\"\\nXGBoost Model: \")\n",
        "accuracy_xgb_smote = round(accuracy_score(y_test, y_pred_xgb), 3)\n",
        "print(\"Accuracy: \", accuracy_xgb_smote)\n",
        "print(\"Classification Report: \")\n",
        "print(classification_report(y_test, y_pred_xgb))"
      ]
    },
    {
      "cell_type": "code",
      "execution_count": 252,
      "metadata": {
        "colab": {
          "base_uri": "https://localhost:8080/"
        },
        "id": "UdEYPVLxU01a",
        "outputId": "16388b8f-9121-4a6f-bde9-a30bf5ca1082"
      },
      "outputs": [
        {
          "name": "stdout",
          "output_type": "stream",
          "text": [
            "{'accuracy': 0.904, 'recall': 0.904, 'F1 score': 0.904, 'Precision score': 0.906}\n"
          ]
        }
      ],
      "source": [
        "evaluation(y_test, y_pred_xgb)"
      ]
    },
    {
      "cell_type": "code",
      "execution_count": 253,
      "metadata": {
        "colab": {
          "base_uri": "https://localhost:8080/",
          "height": 564
        },
        "id": "EtxG2a1kU5I3",
        "outputId": "1562ad86-f6d9-4a67-9ef4-b48a1f9caee3"
      },
      "outputs": [
        {
          "data": {
            "image/png": "[encoded data removed]",
            "text/plain": [
              "<Figure size 800x600 with 2 Axes>"
            ]
          },
          "metadata": {},
          "output_type": "display_data"
        }
      ],
      "source": [
        "# membuat confusion matriks XGBoost\n",
        "cm = confusion_matrix(y_test, y_pred_xgb)\n",
        "\n",
        "plt.figure(figsize=(8, 6))\n",
        "sns.heatmap(cm, annot=True, fmt=\"d\", cmap=\"Oranges\")\n",
        "plt.title('Confusion Matrix')\n",
        "plt.xlabel(\"True\")\n",
        "plt.ylabel('Predict')\n",
        "plt.show()"
      ]
    },
    {
      "cell_type": "markdown",
      "metadata": {
        "id": "xGvbgqNzVTmI"
      },
      "source": [
        "# Oversample + Normalisasi"
      ]
    },
    {
      "cell_type": "markdown",
      "metadata": {
        "id": "fQlvO8XJXf8e"
      },
      "source": [
        "Setelah membangun model KNN, Random Forest, dan XGBoost menggunakan data yang telah mengalami oversampling, langkah berikutnya adalah membangun model KNN, Random Forest, dan XGBoost dengan data yang telah mengalami oversampling dan normalisasi."
      ]
    },
    {
      "cell_type": "markdown",
      "metadata": {
        "id": "qWxcGpQ9VZxR"
      },
      "source": [
        "# KNN"
      ]
    },
    {
      "cell_type": "code",
      "execution_count": 254,
      "metadata": {
        "id": "PDPKYdCrVK_S"
      },
      "outputs": [],
      "source": [
        "from sklearn.neighbors import KNeighborsClassifier\n",
        "from sklearn.ensemble import RandomForestClassifier\n",
        "from xgboost import XGBClassifier\n",
        "from sklearn.metrics import accuracy_score, classification_report"
      ]
    },
    {
      "cell_type": "code",
      "execution_count": 255,
      "metadata": {
        "colab": {
          "base_uri": "https://localhost:8080/",
          "height": 74
        },
        "id": "j9Vo6mhYVnhB",
        "outputId": "c87ab594-7d85-4f91-c1b5-80d4cc9c2679"
      },
      "outputs": [
        {
          "data": {
            "text/html": [
              "<style>#sk-container-id-16 {color: black;background-color: white;}#sk-container-id-16 pre{padding: 0;}#sk-container-id-16 div.sk-toggleable {background-color: white;}#sk-container-id-16 label.sk-toggleable__label {cursor: pointer;display: block;width: 100%;margin-bottom: 0;padding: 0.3em;box-sizing: border-box;text-align: center;}#sk-container-id-16 label.sk-toggleable__label-arrow:before {content: \"▸\";float: left;margin-right: 0.25em;color: #696969;}#sk-container-id-16 label.sk-toggleable__label-arrow:hover:before {color: black;}#sk-container-id-16 div.sk-estimator:hover label.sk-toggleable__label-arrow:before {color: black;}#sk-container-id-16 div.sk-toggleable__content {max-height: 0;max-width: 0;overflow: hidden;text-align: left;background-color: #f0f8ff;}#sk-container-id-16 div.sk-toggleable__content pre {margin: 0.2em;color: black;border-radius: 0.25em;background-color: #f0f8ff;}#sk-container-id-16 input.sk-toggleable__control:checked~div.sk-toggleable__content {max-height: 200px;max-width: 100%;overflow: auto;}#sk-container-id-16 input.sk-toggleable__control:checked~label.sk-toggleable__label-arrow:before {content: \"▾\";}#sk-container-id-16 div.sk-estimator input.sk-toggleable__control:checked~label.sk-toggleable__label {background-color: #d4ebff;}#sk-container-id-16 div.sk-label input.sk-toggleable__control:checked~label.sk-toggleable__label {background-color: #d4ebff;}#sk-container-id-16 input.sk-hidden--visually {border: 0;clip: rect(1px 1px 1px 1px);clip: rect(1px, 1px, 1px, 1px);height: 1px;margin: -1px;overflow: hidden;padding: 0;position: absolute;width: 1px;}#sk-container-id-16 div.sk-estimator {font-family: monospace;background-color: #f0f8ff;border: 1px dotted black;border-radius: 0.25em;box-sizing: border-box;margin-bottom: 0.5em;}#sk-container-id-16 div.sk-estimator:hover {background-color: #d4ebff;}#sk-container-id-16 div.sk-parallel-item::after {content: \"\";width: 100%;border-bottom: 1px solid gray;flex-grow: 1;}#sk-container-id-16 div.sk-label:hover label.sk-toggleable__label {background-color: #d4ebff;}#sk-container-id-16 div.sk-serial::before {content: \"\";position: absolute;border-left: 1px solid gray;box-sizing: border-box;top: 0;bottom: 0;left: 50%;z-index: 0;}#sk-container-id-16 div.sk-serial {display: flex;flex-direction: column;align-items: center;background-color: white;padding-right: 0.2em;padding-left: 0.2em;position: relative;}#sk-container-id-16 div.sk-item {position: relative;z-index: 1;}#sk-container-id-16 div.sk-parallel {display: flex;align-items: stretch;justify-content: center;background-color: white;position: relative;}#sk-container-id-16 div.sk-item::before, #sk-container-id-16 div.sk-parallel-item::before {content: \"\";position: absolute;border-left: 1px solid gray;box-sizing: border-box;top: 0;bottom: 0;left: 50%;z-index: -1;}#sk-container-id-16 div.sk-parallel-item {display: flex;flex-direction: column;z-index: 1;position: relative;background-color: white;}#sk-container-id-16 div.sk-parallel-item:first-child::after {align-self: flex-end;width: 50%;}#sk-container-id-16 div.sk-parallel-item:last-child::after {align-self: flex-start;width: 50%;}#sk-container-id-16 div.sk-parallel-item:only-child::after {width: 0;}#sk-container-id-16 div.sk-dashed-wrapped {border: 1px dashed gray;margin: 0 0.4em 0.5em 0.4em;box-sizing: border-box;padding-bottom: 0.4em;background-color: white;}#sk-container-id-16 div.sk-label label {font-family: monospace;font-weight: bold;display: inline-block;line-height: 1.2em;}#sk-container-id-16 div.sk-label-container {text-align: center;}#sk-container-id-16 div.sk-container {/* jupyter's `normalize.less` sets `[hidden] { display: none; }` but bootstrap.min.css set `[hidden] { display: none !important; }` so we also need the `!important` here to be able to override the default hidden behavior on the sphinx rendered scikit-learn.org. See: https://github.com/scikit-learn/scikit-learn/issues/21755 */display: inline-block !important;position: relative;}#sk-container-id-16 div.sk-text-repr-fallback {display: none;}</style><div id=\"sk-container-id-16\" class=\"sk-top-container\"><div class=\"sk-text-repr-fallback\"><pre>KNeighborsClassifier(n_neighbors=3)</pre><b>In a Jupyter environment, please rerun this cell to show the HTML representation or trust the notebook. <br />On GitHub, the HTML representation is unable to render, please try loading this page with nbviewer.org.</b></div><div class=\"sk-container\" hidden><div class=\"sk-item\"><div class=\"sk-estimator sk-toggleable\"><input class=\"sk-toggleable__control sk-hidden--visually\" id=\"sk-estimator-id-16\" type=\"checkbox\" checked><label for=\"sk-estimator-id-16\" class=\"sk-toggleable__label sk-toggleable__label-arrow\">KNeighborsClassifier</label><div class=\"sk-toggleable__content\"><pre>KNeighborsClassifier(n_neighbors=3)</pre></div></div></div></div></div>"
            ],
            "text/plain": [
              "KNeighborsClassifier(n_neighbors=3)"
            ]
          },
          "execution_count": 255,
          "metadata": {},
          "output_type": "execute_result"
        }
      ],
      "source": [
        "knn_model = KNeighborsClassifier(n_neighbors=3)\n",
        "knn_model.fit(X_train_normal, y_train_normal)"
      ]
    },
    {
      "cell_type": "code",
      "execution_count": 256,
      "metadata": {
        "colab": {
          "base_uri": "https://localhost:8080/"
        },
        "id": "gn5WihpeVvKJ",
        "outputId": "ad2fc3f4-3c2a-41e8-9e46-79b3088c3c39"
      },
      "outputs": [
        {
          "name": "stdout",
          "output_type": "stream",
          "text": [
            "K-Nearest Neighbors (KNN) Model: \n",
            "Accuracy:  0.754\n",
            "Classification Report: \n",
            "              precision    recall  f1-score   support\n",
            "\n",
            "         0.0       0.65      0.39      0.49        38\n",
            "         1.0       0.73      0.81      0.77        37\n",
            "         2.0       0.80      0.86      0.83        37\n",
            "         3.0       0.77      0.87      0.81        38\n",
            "         4.0       0.78      0.84      0.81        37\n",
            "\n",
            "    accuracy                           0.75       187\n",
            "   macro avg       0.75      0.76      0.74       187\n",
            "weighted avg       0.74      0.75      0.74       187\n",
            "\n"
          ]
        }
      ],
      "source": [
        "y_pred_knn = knn_model.predict(X_test_normal)\n",
        "\n",
        "# Evaluasi Model KNN\n",
        "print(\"K-Nearest Neighbors (KNN) Model: \")\n",
        "accuracy_knn_smote_normal = round(accuracy_score(y_test_normal, y_pred_knn), 3)\n",
        "print(\"Accuracy: \", accuracy_knn_smote_normal)\n",
        "print(\"Classification Report: \")\n",
        "print(classification_report(y_test_normal, y_pred_knn))"
      ]
    },
    {
      "cell_type": "markdown",
      "metadata": {
        "id": "w7USQLhxXyNT"
      },
      "source": [
        "Dibagian sini tidak terjadi perubahan:("
      ]
    },
    {
      "cell_type": "code",
      "execution_count": 257,
      "metadata": {
        "colab": {
          "base_uri": "https://localhost:8080/"
        },
        "id": "p1SlmkVIWE5O",
        "outputId": "c7f99eec-f8e7-4255-eae5-ad056be4c684"
      },
      "outputs": [
        {
          "name": "stdout",
          "output_type": "stream",
          "text": [
            "{'accuracy': 0.754, 'recall': 0.754, 'F1 score': 0.741, 'Precision score': 0.745}\n"
          ]
        }
      ],
      "source": [
        "evaluation(y_test_normal, y_pred_knn)"
      ]
    },
    {
      "cell_type": "code",
      "execution_count": 258,
      "metadata": {
        "colab": {
          "base_uri": "https://localhost:8080/",
          "height": 564
        },
        "id": "UzworMXcYS1T",
        "outputId": "cedd7d20-19f8-4ed4-8c6c-fd86750cf487"
      },
      "outputs": [
        {
          "data": {
            "image/png": "[encoded data removed]",
            "text/plain": [
              "<Figure size 800x600 with 2 Axes>"
            ]
          },
          "metadata": {},
          "output_type": "display_data"
        }
      ],
      "source": [
        "cm = confusion_matrix(y_test_normal, y_pred_knn)\n",
        "\n",
        "plt.figure(figsize=(8, 6))\n",
        "sns.heatmap(cm, annot=True, fmt=\"d\", cmap=\"Blues\")\n",
        "plt.title('Confusion Matrix')\n",
        "plt.xlabel(\"True\")\n",
        "plt.ylabel('Predict')\n",
        "plt.show()"
      ]
    },
    {
      "cell_type": "markdown",
      "metadata": {
        "id": "60M-WasdYu3f"
      },
      "source": [
        "# Random Forest"
      ]
    },
    {
      "cell_type": "code",
      "execution_count": 259,
      "metadata": {
        "colab": {
          "base_uri": "https://localhost:8080/",
          "height": 74
        },
        "id": "BVKs7kGxYnPo",
        "outputId": "174a3567-2697-4c2e-cdad-51816b7f70df"
      },
      "outputs": [
        {
          "data": {
            "text/html": [
              "<style>#sk-container-id-17 {color: black;background-color: white;}#sk-container-id-17 pre{padding: 0;}#sk-container-id-17 div.sk-toggleable {background-color: white;}#sk-container-id-17 label.sk-toggleable__label {cursor: pointer;display: block;width: 100%;margin-bottom: 0;padding: 0.3em;box-sizing: border-box;text-align: center;}#sk-container-id-17 label.sk-toggleable__label-arrow:before {content: \"▸\";float: left;margin-right: 0.25em;color: #696969;}#sk-container-id-17 label.sk-toggleable__label-arrow:hover:before {color: black;}#sk-container-id-17 div.sk-estimator:hover label.sk-toggleable__label-arrow:before {color: black;}#sk-container-id-17 div.sk-toggleable__content {max-height: 0;max-width: 0;overflow: hidden;text-align: left;background-color: #f0f8ff;}#sk-container-id-17 div.sk-toggleable__content pre {margin: 0.2em;color: black;border-radius: 0.25em;background-color: #f0f8ff;}#sk-container-id-17 input.sk-toggleable__control:checked~div.sk-toggleable__content {max-height: 200px;max-width: 100%;overflow: auto;}#sk-container-id-17 input.sk-toggleable__control:checked~label.sk-toggleable__label-arrow:before {content: \"▾\";}#sk-container-id-17 div.sk-estimator input.sk-toggleable__control:checked~label.sk-toggleable__label {background-color: #d4ebff;}#sk-container-id-17 div.sk-label input.sk-toggleable__control:checked~label.sk-toggleable__label {background-color: #d4ebff;}#sk-container-id-17 input.sk-hidden--visually {border: 0;clip: rect(1px 1px 1px 1px);clip: rect(1px, 1px, 1px, 1px);height: 1px;margin: -1px;overflow: hidden;padding: 0;position: absolute;width: 1px;}#sk-container-id-17 div.sk-estimator {font-family: monospace;background-color: #f0f8ff;border: 1px dotted black;border-radius: 0.25em;box-sizing: border-box;margin-bottom: 0.5em;}#sk-container-id-17 div.sk-estimator:hover {background-color: #d4ebff;}#sk-container-id-17 div.sk-parallel-item::after {content: \"\";width: 100%;border-bottom: 1px solid gray;flex-grow: 1;}#sk-container-id-17 div.sk-label:hover label.sk-toggleable__label {background-color: #d4ebff;}#sk-container-id-17 div.sk-serial::before {content: \"\";position: absolute;border-left: 1px solid gray;box-sizing: border-box;top: 0;bottom: 0;left: 50%;z-index: 0;}#sk-container-id-17 div.sk-serial {display: flex;flex-direction: column;align-items: center;background-color: white;padding-right: 0.2em;padding-left: 0.2em;position: relative;}#sk-container-id-17 div.sk-item {position: relative;z-index: 1;}#sk-container-id-17 div.sk-parallel {display: flex;align-items: stretch;justify-content: center;background-color: white;position: relative;}#sk-container-id-17 div.sk-item::before, #sk-container-id-17 div.sk-parallel-item::before {content: \"\";position: absolute;border-left: 1px solid gray;box-sizing: border-box;top: 0;bottom: 0;left: 50%;z-index: -1;}#sk-container-id-17 div.sk-parallel-item {display: flex;flex-direction: column;z-index: 1;position: relative;background-color: white;}#sk-container-id-17 div.sk-parallel-item:first-child::after {align-self: flex-end;width: 50%;}#sk-container-id-17 div.sk-parallel-item:last-child::after {align-self: flex-start;width: 50%;}#sk-container-id-17 div.sk-parallel-item:only-child::after {width: 0;}#sk-container-id-17 div.sk-dashed-wrapped {border: 1px dashed gray;margin: 0 0.4em 0.5em 0.4em;box-sizing: border-box;padding-bottom: 0.4em;background-color: white;}#sk-container-id-17 div.sk-label label {font-family: monospace;font-weight: bold;display: inline-block;line-height: 1.2em;}#sk-container-id-17 div.sk-label-container {text-align: center;}#sk-container-id-17 div.sk-container {/* jupyter's `normalize.less` sets `[hidden] { display: none; }` but bootstrap.min.css set `[hidden] { display: none !important; }` so we also need the `!important` here to be able to override the default hidden behavior on the sphinx rendered scikit-learn.org. See: https://github.com/scikit-learn/scikit-learn/issues/21755 */display: inline-block !important;position: relative;}#sk-container-id-17 div.sk-text-repr-fallback {display: none;}</style><div id=\"sk-container-id-17\" class=\"sk-top-container\"><div class=\"sk-text-repr-fallback\"><pre>RandomForestClassifier(random_state=42)</pre><b>In a Jupyter environment, please rerun this cell to show the HTML representation or trust the notebook. <br />On GitHub, the HTML representation is unable to render, please try loading this page with nbviewer.org.</b></div><div class=\"sk-container\" hidden><div class=\"sk-item\"><div class=\"sk-estimator sk-toggleable\"><input class=\"sk-toggleable__control sk-hidden--visually\" id=\"sk-estimator-id-17\" type=\"checkbox\" checked><label for=\"sk-estimator-id-17\" class=\"sk-toggleable__label sk-toggleable__label-arrow\">RandomForestClassifier</label><div class=\"sk-toggleable__content\"><pre>RandomForestClassifier(random_state=42)</pre></div></div></div></div></div>"
            ],
            "text/plain": [
              "RandomForestClassifier(random_state=42)"
            ]
          },
          "execution_count": 259,
          "metadata": {},
          "output_type": "execute_result"
        }
      ],
      "source": [
        "rf_model = RandomForestClassifier(n_estimators=100, random_state=42)\n",
        "rf_model.fit(X_train_normal, y_train_normal)"
      ]
    },
    {
      "cell_type": "code",
      "execution_count": 260,
      "metadata": {
        "colab": {
          "base_uri": "https://localhost:8080/"
        },
        "id": "csTrwb3-Y5OA",
        "outputId": "14796cec-9366-44a4-cf85-3cb01673c138"
      },
      "outputs": [
        {
          "name": "stdout",
          "output_type": "stream",
          "text": [
            "\n",
            "Random Forest Model: \n",
            "Accuracy:  0.92\n",
            "Classification Report: \n",
            "              precision    recall  f1-score   support\n",
            "\n",
            "         0.0       0.94      0.89      0.92        38\n",
            "         1.0       0.85      0.92      0.88        37\n",
            "         2.0       0.89      0.89      0.89        37\n",
            "         3.0       0.95      0.97      0.96        38\n",
            "         4.0       0.97      0.92      0.94        37\n",
            "\n",
            "    accuracy                           0.92       187\n",
            "   macro avg       0.92      0.92      0.92       187\n",
            "weighted avg       0.92      0.92      0.92       187\n",
            "\n"
          ]
        }
      ],
      "source": [
        "y_pred_rf = rf_model.predict(X_test_normal)\n",
        "\n",
        "#Evaluasi Model Random Forest\n",
        "print(\"\\nRandom Forest Model: \")\n",
        "accuracy_rf_smote_normal = round(accuracy_score(y_test_normal, y_pred_rf), 3)\n",
        "print(\"Accuracy: \", accuracy_rf_smote_normal)\n",
        "print(\"Classification Report: \")\n",
        "print(classification_report(y_test_normal, y_pred_rf))"
      ]
    },
    {
      "cell_type": "code",
      "execution_count": 261,
      "metadata": {
        "colab": {
          "base_uri": "https://localhost:8080/"
        },
        "id": "vH9pXHuwYAMP",
        "outputId": "23546abf-627e-4b65-8a44-fed119628f71"
      },
      "outputs": [
        {
          "name": "stdout",
          "output_type": "stream",
          "text": [
            "{'accuracy': 0.92, 'recall': 0.92, 'F1 score': 0.92, 'Precision score': 0.922}\n"
          ]
        }
      ],
      "source": [
        "evaluation(y_test_normal, y_pred_rf)"
      ]
    },
    {
      "cell_type": "code",
      "execution_count": 262,
      "metadata": {
        "colab": {
          "base_uri": "https://localhost:8080/",
          "height": 564
        },
        "id": "98RNJn39YD6v",
        "outputId": "b5a98ae7-248c-4884-f27a-c7787276c58d"
      },
      "outputs": [
        {
          "data": {
            "image/png": "[encoded data removed]",
            "text/plain": [
              "<Figure size 800x600 with 2 Axes>"
            ]
          },
          "metadata": {},
          "output_type": "display_data"
        }
      ],
      "source": [
        "cm = confusion_matrix(y_test_normal, y_pred_rf)\n",
        "\n",
        "plt.figure(figsize=(8, 6))\n",
        "sns.heatmap(cm, annot=True, fmt=\"d\", cmap=\"Blues\")\n",
        "plt.title('Confusion Matrix')\n",
        "plt.xlabel('True')\n",
        "plt.ylabel('Predict')\n",
        "plt.show()"
      ]
    },
    {
      "cell_type": "markdown",
      "metadata": {
        "id": "vUII__wZaTpN"
      },
      "source": [
        "# XGBoost"
      ]
    },
    {
      "cell_type": "code",
      "execution_count": 263,
      "metadata": {
        "colab": {
          "base_uri": "https://localhost:8080/",
          "height": 248
        },
        "id": "d7Hvfq6kZTFx",
        "outputId": "e6d40dc5-5159-4d4b-d040-98734d321dc2"
      },
      "outputs": [
        {
          "data": {
            "text/html": [
              "<style>#sk-container-id-18 {color: black;background-color: white;}#sk-container-id-18 pre{padding: 0;}#sk-container-id-18 div.sk-toggleable {background-color: white;}#sk-container-id-18 label.sk-toggleable__label {cursor: pointer;display: block;width: 100%;margin-bottom: 0;padding: 0.3em;box-sizing: border-box;text-align: center;}#sk-container-id-18 label.sk-toggleable__label-arrow:before {content: \"▸\";float: left;margin-right: 0.25em;color: #696969;}#sk-container-id-18 label.sk-toggleable__label-arrow:hover:before {color: black;}#sk-container-id-18 div.sk-estimator:hover label.sk-toggleable__label-arrow:before {color: black;}#sk-container-id-18 div.sk-toggleable__content {max-height: 0;max-width: 0;overflow: hidden;text-align: left;background-color: #f0f8ff;}#sk-container-id-18 div.sk-toggleable__content pre {margin: 0.2em;color: black;border-radius: 0.25em;background-color: #f0f8ff;}#sk-container-id-18 input.sk-toggleable__control:checked~div.sk-toggleable__content {max-height: 200px;max-width: 100%;overflow: auto;}#sk-container-id-18 input.sk-toggleable__control:checked~label.sk-toggleable__label-arrow:before {content: \"▾\";}#sk-container-id-18 div.sk-estimator input.sk-toggleable__control:checked~label.sk-toggleable__label {background-color: #d4ebff;}#sk-container-id-18 div.sk-label input.sk-toggleable__control:checked~label.sk-toggleable__label {background-color: #d4ebff;}#sk-container-id-18 input.sk-hidden--visually {border: 0;clip: rect(1px 1px 1px 1px);clip: rect(1px, 1px, 1px, 1px);height: 1px;margin: -1px;overflow: hidden;padding: 0;position: absolute;width: 1px;}#sk-container-id-18 div.sk-estimator {font-family: monospace;background-color: #f0f8ff;border: 1px dotted black;border-radius: 0.25em;box-sizing: border-box;margin-bottom: 0.5em;}#sk-container-id-18 div.sk-estimator:hover {background-color: #d4ebff;}#sk-container-id-18 div.sk-parallel-item::after {content: \"\";width: 100%;border-bottom: 1px solid gray;flex-grow: 1;}#sk-container-id-18 div.sk-label:hover label.sk-toggleable__label {background-color: #d4ebff;}#sk-container-id-18 div.sk-serial::before {content: \"\";position: absolute;border-left: 1px solid gray;box-sizing: border-box;top: 0;bottom: 0;left: 50%;z-index: 0;}#sk-container-id-18 div.sk-serial {display: flex;flex-direction: column;align-items: center;background-color: white;padding-right: 0.2em;padding-left: 0.2em;position: relative;}#sk-container-id-18 div.sk-item {position: relative;z-index: 1;}#sk-container-id-18 div.sk-parallel {display: flex;align-items: stretch;justify-content: center;background-color: white;position: relative;}#sk-container-id-18 div.sk-item::before, #sk-container-id-18 div.sk-parallel-item::before {content: \"\";position: absolute;border-left: 1px solid gray;box-sizing: border-box;top: 0;bottom: 0;left: 50%;z-index: -1;}#sk-container-id-18 div.sk-parallel-item {display: flex;flex-direction: column;z-index: 1;position: relative;background-color: white;}#sk-container-id-18 div.sk-parallel-item:first-child::after {align-self: flex-end;width: 50%;}#sk-container-id-18 div.sk-parallel-item:last-child::after {align-self: flex-start;width: 50%;}#sk-container-id-18 div.sk-parallel-item:only-child::after {width: 0;}#sk-container-id-18 div.sk-dashed-wrapped {border: 1px dashed gray;margin: 0 0.4em 0.5em 0.4em;box-sizing: border-box;padding-bottom: 0.4em;background-color: white;}#sk-container-id-18 div.sk-label label {font-family: monospace;font-weight: bold;display: inline-block;line-height: 1.2em;}#sk-container-id-18 div.sk-label-container {text-align: center;}#sk-container-id-18 div.sk-container {/* jupyter's `normalize.less` sets `[hidden] { display: none; }` but bootstrap.min.css set `[hidden] { display: none !important; }` so we also need the `!important` here to be able to override the default hidden behavior on the sphinx rendered scikit-learn.org. See: https://github.com/scikit-learn/scikit-learn/issues/21755 */display: inline-block !important;position: relative;}#sk-container-id-18 div.sk-text-repr-fallback {display: none;}</style><div id=\"sk-container-id-18\" class=\"sk-top-container\"><div class=\"sk-text-repr-fallback\"><pre>XGBClassifier(base_score=None, booster=None, callbacks=None,\n",
              "              colsample_bylevel=None, colsample_bynode=None,\n",
              "              colsample_bytree=None, device=None, early_stopping_rounds=None,\n",
              "              enable_categorical=False, eval_metric=None, feature_types=None,\n",
              "              gamma=None, grow_policy=None, importance_type=None,\n",
              "              interaction_constraints=None, learning_rate=0.1, max_bin=None,\n",
              "              max_cat_threshold=None, max_cat_to_onehot=None,\n",
              "              max_delta_step=None, max_depth=None, max_leaves=None,\n",
              "              min_child_weight=None, missing=nan, monotone_constraints=None,\n",
              "              multi_strategy=None, n_estimators=100, n_jobs=None,\n",
              "              num_parallel_tree=None, objective=&#x27;multi:softprob&#x27;, ...)</pre><b>In a Jupyter environment, please rerun this cell to show the HTML representation or trust the notebook. <br />On GitHub, the HTML representation is unable to render, please try loading this page with nbviewer.org.</b></div><div class=\"sk-container\" hidden><div class=\"sk-item\"><div class=\"sk-estimator sk-toggleable\"><input class=\"sk-toggleable__control sk-hidden--visually\" id=\"sk-estimator-id-18\" type=\"checkbox\" checked><label for=\"sk-estimator-id-18\" class=\"sk-toggleable__label sk-toggleable__label-arrow\">XGBClassifier</label><div class=\"sk-toggleable__content\"><pre>XGBClassifier(base_score=None, booster=None, callbacks=None,\n",
              "              colsample_bylevel=None, colsample_bynode=None,\n",
              "              colsample_bytree=None, device=None, early_stopping_rounds=None,\n",
              "              enable_categorical=False, eval_metric=None, feature_types=None,\n",
              "              gamma=None, grow_policy=None, importance_type=None,\n",
              "              interaction_constraints=None, learning_rate=0.1, max_bin=None,\n",
              "              max_cat_threshold=None, max_cat_to_onehot=None,\n",
              "              max_delta_step=None, max_depth=None, max_leaves=None,\n",
              "              min_child_weight=None, missing=nan, monotone_constraints=None,\n",
              "              multi_strategy=None, n_estimators=100, n_jobs=None,\n",
              "              num_parallel_tree=None, objective=&#x27;multi:softprob&#x27;, ...)</pre></div></div></div></div></div>"
            ],
            "text/plain": [
              "XGBClassifier(base_score=None, booster=None, callbacks=None,\n",
              "              colsample_bylevel=None, colsample_bynode=None,\n",
              "              colsample_bytree=None, device=None, early_stopping_rounds=None,\n",
              "              enable_categorical=False, eval_metric=None, feature_types=None,\n",
              "              gamma=None, grow_policy=None, importance_type=None,\n",
              "              interaction_constraints=None, learning_rate=0.1, max_bin=None,\n",
              "              max_cat_threshold=None, max_cat_to_onehot=None,\n",
              "              max_delta_step=None, max_depth=None, max_leaves=None,\n",
              "              min_child_weight=None, missing=nan, monotone_constraints=None,\n",
              "              multi_strategy=None, n_estimators=100, n_jobs=None,\n",
              "              num_parallel_tree=None, objective='multi:softprob', ...)"
            ]
          },
          "execution_count": 263,
          "metadata": {},
          "output_type": "execute_result"
        }
      ],
      "source": [
        "xgb_model = XGBClassifier(learning_rate=0.1, n_estimators=100, random_state=42)\n",
        "xgb_model.fit(X_train_normal, y_train_normal)"
      ]
    },
    {
      "cell_type": "code",
      "execution_count": 264,
      "metadata": {
        "colab": {
          "base_uri": "https://localhost:8080/"
        },
        "id": "vnLq417raezF",
        "outputId": "e3adcae2-fe4f-4fb5-be64-becce5b4c0ed"
      },
      "outputs": [
        {
          "name": "stdout",
          "output_type": "stream",
          "text": [
            "\n",
            "XGBoost Model: \n",
            "Accuracy:  0.904\n",
            "Classification Report: \n",
            "              precision    recall  f1-score   support\n",
            "\n",
            "         0.0       0.92      0.89      0.91        38\n",
            "         1.0       0.94      0.84      0.89        37\n",
            "         2.0       0.85      0.89      0.87        37\n",
            "         3.0       0.88      0.97      0.93        38\n",
            "         4.0       0.94      0.92      0.93        37\n",
            "\n",
            "    accuracy                           0.90       187\n",
            "   macro avg       0.91      0.90      0.90       187\n",
            "weighted avg       0.91      0.90      0.90       187\n",
            "\n"
          ]
        }
      ],
      "source": [
        "y_pred_xgb = xgb_model.predict(X_test_normal)\n",
        "\n",
        "#Evaluasi Model XGBoost\n",
        "print(\"\\nXGBoost Model: \")\n",
        "accuracy_xgb_smote_normal = round(accuracy_score(y_test_normal, y_pred_xgb),3)\n",
        "print(\"Accuracy: \", accuracy_xgb_smote_normal)\n",
        "print(\"Classification Report: \")\n",
        "print(classification_report(y_test_normal, y_pred_xgb))"
      ]
    },
    {
      "cell_type": "code",
      "execution_count": 265,
      "metadata": {
        "colab": {
          "base_uri": "https://localhost:8080/"
        },
        "id": "ttb5iSgnamTH",
        "outputId": "45773eb5-fb12-4dcd-d7bc-f0f1dd05972d"
      },
      "outputs": [
        {
          "name": "stdout",
          "output_type": "stream",
          "text": [
            "{'accuracy': 0.904, 'recall': 0.904, 'F1 score': 0.904, 'Precision score': 0.906}\n"
          ]
        }
      ],
      "source": [
        "evaluation(y_test_normal, y_pred_xgb)"
      ]
    },
    {
      "cell_type": "code",
      "execution_count": 266,
      "metadata": {
        "colab": {
          "base_uri": "https://localhost:8080/",
          "height": 564
        },
        "id": "dFn_joJua-V6",
        "outputId": "5abf38b6-d6af-48ac-b300-d7c91296be19"
      },
      "outputs": [
        {
          "data": {
            "image/png": "[encoded data removed]",
            "text/plain": [
              "<Figure size 800x600 with 2 Axes>"
            ]
          },
          "metadata": {},
          "output_type": "display_data"
        }
      ],
      "source": [
        "cm = confusion_matrix(y_test_normal, y_pred_xgb)\n",
        "\n",
        "plt.figure(figsize=(8, 6))\n",
        "sns.heatmap(cm, annot=True, fmt=\"d\", cmap=\"Blues\")\n",
        "plt.title('Confusion Matrix')\n",
        "plt.xlabel(\"True\")\n",
        "plt.ylabel('Predict')\n",
        "plt.show()"
      ]
    },
    {
      "cell_type": "markdown",
      "metadata": {
        "id": "-Dg57ieebTBR"
      },
      "source": [
        "# Tunning + Normalization + Oversample"
      ]
    },
    {
      "cell_type": "markdown",
      "metadata": {
        "id": "kONE0WUZYK1Z"
      },
      "source": [
        "Berikutnya, akan dibuat model KNN, Random Forest, dan XGBoost dengan menggunakan data yang telah di-oversample, dinormalisasi, dan disesuaikan. Tuning, atau penyesuaian, adalah langkah mengoptimalkan parameter atau hiperparameter dalam model machine learning untuk mencapai performa yang lebih baik. Tujuan dari tuning adalah meningkatkan kualitas model dengan mengatur parameter-parameter yang memengaruhi kinerja model."
      ]
    },
    {
      "cell_type": "markdown",
      "metadata": {
        "id": "RetMk0A7ZGML"
      },
      "source": [
        "# KNN"
      ]
    },
    {
      "cell_type": "code",
      "execution_count": 267,
      "metadata": {
        "id": "dZ3VYhUnbQnk"
      },
      "outputs": [],
      "source": [
        "from sklearn.neighbors import KNeighborsClassifier\n",
        "from sklearn.ensemble import RandomForestClassifier\n",
        "from xgboost import XGBClassifier\n",
        "from sklearn.metrics import accuracy_score, classification_report\n",
        "from sklearn.model_selection import RandomizedSearchCV"
      ]
    },
    {
      "cell_type": "markdown",
      "metadata": {
        "id": "baSgNXvvZP-6"
      },
      "source": [
        "Untuk proses tuning pada KNN menggunakan **RandomizedSearchCV**"
      ]
    },
    {
      "cell_type": "code",
      "execution_count": 268,
      "metadata": {
        "colab": {
          "base_uri": "https://localhost:8080/"
        },
        "id": "N1_XDQr8bn5-",
        "outputId": "15e57d60-a6ff-44db-c8b5-03b8d7254a77"
      },
      "outputs": [
        {
          "name": "stdout",
          "output_type": "stream",
          "text": [
            "Best parameters: {'weights': 'distance', 'n_neighbors': 3, 'metric': 'manhattan', 'leaf_size': 19, 'algorithm': 'ball_tree'}\n"
          ]
        }
      ],
      "source": [
        "# Membuat objek model KNN\n",
        "knn_model = KNeighborsClassifier()\n",
        "\n",
        "# Menentukan ruang parameter\n",
        "param_grid={\n",
        "    \"n_neighbors\": range(3, 21),\n",
        "    \"metric\": [\"euclidean\", \"manhattan\", \"chebyshev\"],\n",
        "    \"weights\": [\"uniform\", \"distance\"],\n",
        "    \"algorithm\": [\"auto\", \"ball_tree\", \"kd_tree\"],\n",
        "    \"leaf_size\": range(10, 61),\n",
        "}\n",
        "\n",
        "# Membuat objek RandomizedSearchCV\n",
        "knn_model = RandomizedSearchCV(estimator = knn_model, param_distributions=param_grid, n_iter=100, scoring=\"accuracy\", cv=5)\n",
        "\n",
        "# Melakukan tuning\n",
        "knn_model.fit(X_train_normal, y_train_normal)\n",
        "\n",
        "# Mendapatkan parameter terbaik\n",
        "best_params = knn_model.best_params_\n",
        "print(f\"Best parameters: {best_params}\")"
      ]
    },
    {
      "cell_type": "markdown",
      "metadata": {
        "id": "BNl1wWT_ZxAV"
      },
      "source": [
        "- **n_neighbors** -> jumlah tetangga\n",
        "- **metric** -> metrik jarak\n",
        "- **leaf_size** -> ukuran leaf dalam pohon\n",
        "- **n_iter** -> jumlah iterasi pencarian acak\n",
        "- **scoring** -> metrik evaluasi untuk memilih model terbaik\n",
        "- **cv** -> jumlah lipatan dalam validasi silang\n",
        "\n",
        "Dari hasil tersebut, ditemukan parameter optimal sebagai berikut:\n",
        "1. Bobot -> distance\n",
        "2. Jumlah tetangga -> 6\n",
        "3. Metrik jarak -> manhattan\n",
        "4. Ukuran leaf -> 28\n",
        "5. Algoritma -> ball_tree"
      ]
    },
    {
      "cell_type": "code",
      "execution_count": 269,
      "metadata": {
        "colab": {
          "base_uri": "https://localhost:8080/"
        },
        "id": "lhx6aOYBcd9a",
        "outputId": "b8320632-fbca-4047-9dea-e2b1bbb4fe3d"
      },
      "outputs": [
        {
          "name": "stdout",
          "output_type": "stream",
          "text": [
            "K-Nearest Neighbors (KNN) Model: \n",
            "Accuracy:  0.807\n",
            "Classification Report: \n",
            "              precision    recall  f1-score   support\n",
            "\n",
            "         0.0       0.78      0.47      0.59        38\n",
            "         1.0       0.76      0.78      0.77        37\n",
            "         2.0       0.92      0.89      0.90        37\n",
            "         3.0       0.76      1.00      0.86        38\n",
            "         4.0       0.82      0.89      0.86        37\n",
            "\n",
            "    accuracy                           0.81       187\n",
            "   macro avg       0.81      0.81      0.80       187\n",
            "weighted avg       0.81      0.81      0.80       187\n",
            "\n"
          ]
        }
      ],
      "source": [
        "y_pred_knn = knn_model.predict(X_test_normal)\n",
        "\n",
        "#Evaluasi Model KNN\n",
        "print(\"K-Nearest Neighbors (KNN) Model: \")\n",
        "accuracy_knn_smote_normal_Tun = round(accuracy_score(y_test_normal, y_pred_knn),3)\n",
        "print(\"Accuracy: \", accuracy_knn_smote_normal_Tun)\n",
        "print(\"Classification Report: \")\n",
        "print(classification_report(y_test_normal, y_pred_knn))"
      ]
    },
    {
      "cell_type": "code",
      "execution_count": 270,
      "metadata": {
        "colab": {
          "base_uri": "https://localhost:8080/"
        },
        "id": "lxS-FIHudAWS",
        "outputId": "f9b6888f-fbb2-418d-f38e-4bed960942a2"
      },
      "outputs": [
        {
          "name": "stdout",
          "output_type": "stream",
          "text": [
            "{'accuracy': 0.807, 'recall': 0.807, 'F1 score': 0.797, 'Precision score': 0.809}\n"
          ]
        }
      ],
      "source": [
        "evaluation(y_test_normal, y_pred_knn)"
      ]
    },
    {
      "cell_type": "code",
      "execution_count": 271,
      "metadata": {
        "colab": {
          "base_uri": "https://localhost:8080/",
          "height": 564
        },
        "id": "sZoGaUmEdEqK",
        "outputId": "a5e8b636-092b-4d45-8c4d-fba58aabe051"
      },
      "outputs": [
        {
          "data": {
            "image/png": "[encoded data removed]",
            "text/plain": [
              "<Figure size 800x600 with 2 Axes>"
            ]
          },
          "metadata": {},
          "output_type": "display_data"
        }
      ],
      "source": [
        "cm=confusion_matrix(y_test_normal, y_pred_knn)\n",
        "\n",
        "plt.figure(figsize=(8, 6))\n",
        "sns.heatmap(cm, annot=True, fmt=\"d\", cmap=\"Reds\")\n",
        "plt.title('Confusion Matrix')\n",
        "plt.xlabel(\"True\")\n",
        "plt.ylabel('Predict')\n",
        "plt.show()"
      ]
    },
    {
      "cell_type": "markdown",
      "metadata": {
        "id": "uHPJC-Z_dYXc"
      },
      "source": [
        "# Random Forest"
      ]
    },
    {
      "cell_type": "code",
      "execution_count": 272,
      "metadata": {
        "colab": {
          "base_uri": "https://localhost:8080/"
        },
        "id": "jGrKd2avdUMH",
        "outputId": "576b0e7d-31d6-4b5a-975c-487ba6956379"
      },
      "outputs": [
        {
          "name": "stderr",
          "output_type": "stream",
          "text": [
            "d:\\Aplikasi\\miniconda3\\envs\\envq\\lib\\site-packages\\sklearn\\model_selection\\_search.py:305: UserWarning: The total space of parameters 32 is smaller than n_iter=100. Running 32 iterations. For exhaustive searches, use GridSearchCV.\n",
            "  warnings.warn(\n"
          ]
        },
        {
          "name": "stdout",
          "output_type": "stream",
          "text": [
            "Best parameters: {'n_estimators': 200, 'min_samples_split': 2, 'min_samples_leaf': 1, 'max_features': 'log2', 'max_depth': 15}\n"
          ]
        }
      ],
      "source": [
        "# Membuat objek model Random Forest\n",
        "rf_model = RandomForestClassifier()\n",
        "\n",
        "# Menentukan ruang parameter\n",
        "param_grid = {\n",
        "    \"n_estimators\": [100, 200], # Jumlah estimators\n",
        "    \"max_depth\": [ 10, 15], # Kedalaman maksimum pohon\n",
        "    \"min_samples_leaf\": [1, 2], # Jumlah minimum sampel pada daun\n",
        "    \"min_samples_split\": [2, 5], # Jumlah minimum sampel untuk membagi simpul internal\n",
        "    \"max_features\": [\"sqrt\", \"log2\"], # jumlah fitur maksimum yang dipertimbangkan saat mencari pemisahan terbaik\n",
        "    # \"random_state\": [42, 100, 200]\n",
        "}\n",
        "\n",
        "# Membuat objek RandomizedSearchCV\n",
        "rf_model = RandomizedSearchCV(rf_model, param_grid, n_iter=100, cv=5, n_jobs=-1)\n",
        "\n",
        "# Melakukan tuning\n",
        "rf_model.fit(X_train_normal, y_train_normal)\n",
        "\n",
        "# Mendapatkan parameter terbaik\n",
        "best_params = rf_model.best_params_\n",
        "print(f\"Best parameters: {best_params}\")\n"
      ]
    },
    {
      "cell_type": "markdown",
      "metadata": {
        "id": "2tR42t3kb-2g"
      },
      "source": [
        "Dari hasil di atas didapatkan parameter terbaik, yaitu:\n",
        "1. n_estimators -> 100\n",
        "2. min_samples_split -> 2\n",
        "3. min_samples_leaf -> 2\n",
        "4. max_features -> sqrt\n",
        "5. max_depth -> 15"
      ]
    },
    {
      "cell_type": "code",
      "execution_count": 273,
      "metadata": {
        "colab": {
          "base_uri": "https://localhost:8080/"
        },
        "id": "i_L_APq9datx",
        "outputId": "1a65faab-cf94-4ecb-e5db-00924570060e"
      },
      "outputs": [
        {
          "name": "stdout",
          "output_type": "stream",
          "text": [
            "\n",
            "Random Forest Model:\n",
            "Accuracy: 0.909\n",
            "Classification Report:\n",
            "              precision    recall  f1-score   support\n",
            "\n",
            "         0.0       0.95      0.92      0.93        38\n",
            "         1.0       0.86      0.86      0.86        37\n",
            "         2.0       0.85      0.89      0.87        37\n",
            "         3.0       0.92      0.95      0.94        38\n",
            "         4.0       0.97      0.92      0.94        37\n",
            "\n",
            "    accuracy                           0.91       187\n",
            "   macro avg       0.91      0.91      0.91       187\n",
            "weighted avg       0.91      0.91      0.91       187\n",
            "\n"
          ]
        }
      ],
      "source": [
        "y_pred_rf = rf_model.predict(X_test_normal)\n",
        "\n",
        "# Evaluate the Random Forest model\n",
        "print(\"\\nRandom Forest Model:\")\n",
        "accuracy_rf_smote_normal_Tun = round(accuracy_score(y_test_normal, y_pred_rf),3)\n",
        "print(\"Accuracy:\",accuracy_rf_smote_normal_Tun)\n",
        "print(\"Classification Report:\")\n",
        "print(classification_report(y_test_normal, y_pred_rf))"
      ]
    },
    {
      "cell_type": "code",
      "execution_count": 274,
      "metadata": {
        "colab": {
          "base_uri": "https://localhost:8080/"
        },
        "id": "wsvuWsaUdtSp",
        "outputId": "6f5e4dba-acf3-4382-d6cc-2c3b0604fa18"
      },
      "outputs": [
        {
          "name": "stdout",
          "output_type": "stream",
          "text": [
            "{'accuracy': 0.909, 'recall': 0.909, 'F1 score': 0.909, 'Precision score': 0.911}\n"
          ]
        }
      ],
      "source": [
        "evaluation(y_test_normal,y_pred_rf)\n"
      ]
    },
    {
      "cell_type": "code",
      "execution_count": 275,
      "metadata": {
        "colab": {
          "base_uri": "https://localhost:8080/",
          "height": 564
        },
        "id": "_Z9WPZ1Rdvld",
        "outputId": "2d856020-b66f-45c3-832d-0ea1c19fcaf6"
      },
      "outputs": [
        {
          "data": {
            "image/png": "[encoded data removed]",
            "text/plain": [
              "<Figure size 800x600 with 2 Axes>"
            ]
          },
          "metadata": {},
          "output_type": "display_data"
        }
      ],
      "source": [
        "cm = confusion_matrix(y_test_normal, y_pred_knn)\n",
        "\n",
        "\n",
        "plt.figure(figsize=(8, 6))\n",
        "sns.heatmap(cm, annot=True, fmt=\"d\", cmap=\"Blues\")\n",
        "plt.title('Confusion Matrix')\n",
        "plt.xlabel('True')\n",
        "plt.ylabel('Predict')\n",
        "plt.show()"
      ]
    },
    {
      "cell_type": "markdown",
      "metadata": {
        "id": "pfz6hqf-dy7a"
      },
      "source": [
        "# XGBoost"
      ]
    },
    {
      "cell_type": "code",
      "execution_count": 276,
      "metadata": {
        "colab": {
          "base_uri": "https://localhost:8080/"
        },
        "id": "rptMUmwzdxTe",
        "outputId": "c06b733d-b820-4e20-84bb-bbaac27ba312"
      },
      "outputs": [
        {
          "name": "stdout",
          "output_type": "stream",
          "text": [
            "Best parameters: {'n_estimators': 200, 'max_depth': 5, 'learning_rate': 0.1, 'gamma': 0, 'colsample_bytree': 0.8}\n"
          ]
        }
      ],
      "source": [
        "# Membuat objek model XGBoost\n",
        "xgb_model = XGBClassifier()\n",
        "\n",
        "# Menentukan ruang parameter\n",
        "param_grid = {\n",
        "    \"max_depth\": [3, 5, 7],\n",
        "    \"learning_rate\": [0.01, 0.1], # tingkat pembelajaran\n",
        "    \"n_estimators\": [100, 200],\n",
        "    \"gamma\": [0, 0.1], # faktor pengurangan pemisahan simpul\n",
        "    \"colsample_bytree\": [0.7, 0.8], # fraksi fitur yang dipertimbangkan pemisahan sampul\n",
        "}\n",
        "\n",
        "# Membuat objek RandomizedSearchCV\n",
        "xgb_model = RandomizedSearchCV(xgb_model, param_grid, n_iter=10, cv=5, n_jobs=-1)\n",
        "\n",
        "#Melakukan Tuning\n",
        "xgb_model.fit(X_train_normal, y_train_normal)\n",
        "\n",
        "# Mendapatkan parameter terbaik\n",
        "best_params = xgb_model.best_params_\n",
        "print(f\"Best parameters: {best_params}\")"
      ]
    },
    {
      "cell_type": "markdown",
      "metadata": {
        "id": "dSmpvwEncu06"
      },
      "source": [
        "Dari hasil diatas didapatkan parameter terbaik, yaitu:\n",
        "1. n_estimators -> 100\n",
        "2. max_depth -> 5\n",
        "3. learning_rate -> 0.1\n",
        "4. gamma -> 0.1\n",
        "5. colsample_bytree -> 0.8"
      ]
    },
    {
      "cell_type": "code",
      "execution_count": 277,
      "metadata": {
        "colab": {
          "base_uri": "https://localhost:8080/"
        },
        "id": "fOYMH1kid1hb",
        "outputId": "fe4c01f6-ab94-4235-c676-949a8353fdd9"
      },
      "outputs": [
        {
          "name": "stdout",
          "output_type": "stream",
          "text": [
            "\n",
            "XGBoost Model:\n",
            "Accuracy: 0.904\n",
            "Classification Report:\n",
            "              precision    recall  f1-score   support\n",
            "\n",
            "         0.0       0.88      0.92      0.90        38\n",
            "         1.0       0.89      0.84      0.86        37\n",
            "         2.0       0.89      0.84      0.86        37\n",
            "         3.0       0.90      1.00      0.95        38\n",
            "         4.0       0.97      0.92      0.94        37\n",
            "\n",
            "    accuracy                           0.90       187\n",
            "   macro avg       0.90      0.90      0.90       187\n",
            "weighted avg       0.90      0.90      0.90       187\n",
            "\n"
          ]
        }
      ],
      "source": [
        "y_pred_xgb = xgb_model.predict(X_test_normal)\n",
        "\n",
        "# Evaluate the XGBoost model\n",
        "print(\"\\nXGBoost Model:\")\n",
        "accuracy_xgb_smote_normal_Tun = round(accuracy_score(y_test_normal, y_pred_xgb),3)\n",
        "print(\"Accuracy:\",accuracy_xgb_smote_normal_Tun)\n",
        "print(\"Classification Report:\")\n",
        "print(classification_report(y_test_normal, y_pred_xgb))"
      ]
    },
    {
      "cell_type": "code",
      "execution_count": 278,
      "metadata": {
        "colab": {
          "base_uri": "https://localhost:8080/"
        },
        "id": "zTAnJCv_eHKE",
        "outputId": "6547c096-77b2-455d-9857-5000287a71a1"
      },
      "outputs": [
        {
          "name": "stdout",
          "output_type": "stream",
          "text": [
            "{'accuracy': 0.904, 'recall': 0.904, 'F1 score': 0.903, 'Precision score': 0.904}\n"
          ]
        }
      ],
      "source": [
        "evaluation(y_test_normal,y_pred_xgb)\n"
      ]
    },
    {
      "cell_type": "code",
      "execution_count": 279,
      "metadata": {
        "colab": {
          "base_uri": "https://localhost:8080/",
          "height": 564
        },
        "id": "so1FdXjUeJAG",
        "outputId": "f56354d2-b2f4-4a28-fbb1-44dd1baeaf44"
      },
      "outputs": [
        {
          "data": {
            "image/png": "[encoded data removed]",
            "text/plain": [
              "<Figure size 800x600 with 2 Axes>"
            ]
          },
          "metadata": {},
          "output_type": "display_data"
        }
      ],
      "source": [
        "cm = confusion_matrix(y_test_normal, y_pred_xgb)\n",
        "\n",
        "plt.figure(figsize=(8, 6))\n",
        "sns.heatmap(cm, annot=True, fmt=\"d\", cmap=\"Blues\")\n",
        "plt.title('Confusion Matrix')\n",
        "plt.xlabel('True')\n",
        "plt.ylabel('Predict')\n",
        "plt.show()"
      ]
    },
    {
      "cell_type": "markdown",
      "metadata": {
        "id": "2POWdbgJeNts"
      },
      "source": [
        "# 8) Evaluasi"
      ]
    },
    {
      "cell_type": "markdown",
      "metadata": {
        "id": "l9Nakb2ndC1_"
      },
      "source": [
        "Setelah melalui fase pembangunan model, langkah berikutnya adalah evaluasi. Pada tahap ini, evaluasi data dilakukan untuk membandingkan kinerja antar algoritma dengan tujuan menentukan jenis model algoritma yang memberikan akurasi terbaik."
      ]
    },
    {
      "cell_type": "code",
      "execution_count": 280,
      "metadata": {
        "id": "I8JeK3zTeMN6"
      },
      "outputs": [],
      "source": [
        "import matplotlib.pyplot as plt"
      ]
    },
    {
      "cell_type": "markdown",
      "metadata": {
        "id": "l_JmV_OFdVn8"
      },
      "source": [
        "Menampilkan hasil evaluasi dari data yang dilakukan SMOTE"
      ]
    },
    {
      "cell_type": "code",
      "execution_count": 281,
      "metadata": {
        "colab": {
          "base_uri": "https://localhost:8080/",
          "height": 143
        },
        "id": "WnpZobLPeTpP",
        "outputId": "0c6b0cb2-325b-4d80-cff8-9127ba2b23c4"
      },
      "outputs": [
        {
          "data": {
            "text/html": [
              "<div>\n",
              "<style scoped>\n",
              "    .dataframe tbody tr th:only-of-type {\n",
              "        vertical-align: middle;\n",
              "    }\n",
              "\n",
              "    .dataframe tbody tr th {\n",
              "        vertical-align: top;\n",
              "    }\n",
              "\n",
              "    .dataframe thead th {\n",
              "        text-align: right;\n",
              "    }\n",
              "</style>\n",
              "<table border=\"1\" class=\"dataframe\">\n",
              "  <thead>\n",
              "    <tr style=\"text-align: right;\">\n",
              "      <th></th>\n",
              "      <th>Model</th>\n",
              "      <th>Accuracy</th>\n",
              "    </tr>\n",
              "  </thead>\n",
              "  <tbody>\n",
              "    <tr>\n",
              "      <th>0</th>\n",
              "      <td>K-Nearest Neighbour</td>\n",
              "      <td>75.4</td>\n",
              "    </tr>\n",
              "    <tr>\n",
              "      <th>1</th>\n",
              "      <td>Random Forest</td>\n",
              "      <td>92.0</td>\n",
              "    </tr>\n",
              "    <tr>\n",
              "      <th>2</th>\n",
              "      <td>XGBoost</td>\n",
              "      <td>90.4</td>\n",
              "    </tr>\n",
              "  </tbody>\n",
              "</table>\n",
              "</div>"
            ],
            "text/plain": [
              "                 Model  Accuracy\n",
              "0  K-Nearest Neighbour      75.4\n",
              "1        Random Forest      92.0\n",
              "2              XGBoost      90.4"
            ]
          },
          "execution_count": 281,
          "metadata": {},
          "output_type": "execute_result"
        }
      ],
      "source": [
        "# Membuat DataFrame\n",
        "model_compl = pd.DataFrame({'Model': ['K-Nearest Neighbour', 'Random Forest', 'XGBoost'], 'Accuracy':[accuracy_knn_smote*100, accuracy_rf_smote*100, accuracy_xgb_smote*100]})\n",
        "model_compl.head()"
      ]
    },
    {
      "cell_type": "code",
      "execution_count": 282,
      "metadata": {
        "colab": {
          "base_uri": "https://localhost:8080/",
          "height": 569
        },
        "id": "uvAaJR7herIm",
        "outputId": "88d932e7-b946-43f4-89f2-6aef7f79dfa0"
      },
      "outputs": [
        {
          "data": {
            "image/png": "[encoded data removed]",
            "text/plain": [
              "<Figure size 640x480 with 1 Axes>"
            ]
          },
          "metadata": {},
          "output_type": "display_data"
        }
      ],
      "source": [
        "# Membuat bar plot dengan keterangan jumlah\n",
        "fig, ax = plt.subplots()\n",
        "bars = plt.bar(model_compl['Model'], model_compl['Accuracy'], color=['red', 'green', 'blue'])\n",
        "plt.xlabel('Model')\n",
        "plt.ylabel('Accuracy (%)')\n",
        "plt.title('Oversample')\n",
        "plt.xticks(rotation=45, ha='right') # Untuk memutar label sumbu x agar lebih mudah dibaca\n",
        "\n",
        "#Menambahkan keterangan jumlah di atas setiap bar\n",
        "for bar in bars:\n",
        "  yval = bar.get_height()\n",
        "  plt.text(bar.get_x()+bar.get_width()/2, yval, round(yval,2), ha='center', va='bottom')\n",
        "\n",
        "plt.show()"
      ]
    },
    {
      "cell_type": "markdown",
      "metadata": {
        "id": "q6gER5aNdmSe"
      },
      "source": [
        "Dari diagram batang tersebut, terlihat bahwa penggunaan SMOTE pada algoritma Random Forest menghasilkan akurasi terbaik, mencapai 92.0%."
      ]
    },
    {
      "cell_type": "markdown",
      "metadata": {
        "id": "577ujnnod07Z"
      },
      "source": [
        "Menampilkan evaluasi hasil dari data yang telah mengalami Oversampling (SMOTE) dan Normalisasi."
      ]
    },
    {
      "cell_type": "code",
      "execution_count": 283,
      "metadata": {
        "colab": {
          "base_uri": "https://localhost:8080/",
          "height": 143
        },
        "id": "AJbhVP_5feQJ",
        "outputId": "bbb1a8ab-f954-49d9-a4fd-c9c0a67f8304"
      },
      "outputs": [
        {
          "data": {
            "text/html": [
              "<div>\n",
              "<style scoped>\n",
              "    .dataframe tbody tr th:only-of-type {\n",
              "        vertical-align: middle;\n",
              "    }\n",
              "\n",
              "    .dataframe tbody tr th {\n",
              "        vertical-align: top;\n",
              "    }\n",
              "\n",
              "    .dataframe thead th {\n",
              "        text-align: right;\n",
              "    }\n",
              "</style>\n",
              "<table border=\"1\" class=\"dataframe\">\n",
              "  <thead>\n",
              "    <tr style=\"text-align: right;\">\n",
              "      <th></th>\n",
              "      <th>Model</th>\n",
              "      <th>Accuracy</th>\n",
              "    </tr>\n",
              "  </thead>\n",
              "  <tbody>\n",
              "    <tr>\n",
              "      <th>0</th>\n",
              "      <td>K-Nearest Neighbour</td>\n",
              "      <td>75.4</td>\n",
              "    </tr>\n",
              "    <tr>\n",
              "      <th>1</th>\n",
              "      <td>Random Forest</td>\n",
              "      <td>92.0</td>\n",
              "    </tr>\n",
              "    <tr>\n",
              "      <th>2</th>\n",
              "      <td>XGBoost</td>\n",
              "      <td>90.4</td>\n",
              "    </tr>\n",
              "  </tbody>\n",
              "</table>\n",
              "</div>"
            ],
            "text/plain": [
              "                 Model  Accuracy\n",
              "0  K-Nearest Neighbour      75.4\n",
              "1        Random Forest      92.0\n",
              "2              XGBoost      90.4"
            ]
          },
          "execution_count": 283,
          "metadata": {},
          "output_type": "execute_result"
        }
      ],
      "source": [
        "model_comp2 = pd.DataFrame({'Model': ['K-Nearest Neighbour','Random Forest',\n",
        "                    'XGBoost'], 'Accuracy': [accuracy_knn_smote_normal*100,\n",
        "                    accuracy_rf_smote_normal*100,accuracy_xgb_smote_normal*100]})\n",
        "model_comp2.head()"
      ]
    },
    {
      "cell_type": "code",
      "execution_count": 284,
      "metadata": {
        "colab": {
          "base_uri": "https://localhost:8080/",
          "height": 569
        },
        "id": "3yfvpeE8fiLb",
        "outputId": "a6d65ed5-c171-444e-c4e3-207178339a3b"
      },
      "outputs": [
        {
          "data": {
            "image/png": "[encoded data removed]",
            "text/plain": [
              "<Figure size 640x480 with 1 Axes>"
            ]
          },
          "metadata": {},
          "output_type": "display_data"
        }
      ],
      "source": [
        "# Membuat bar plot dengan keterangan jumlah\n",
        "fig, ax = plt.subplots()\n",
        "bars = plt.bar(model_comp2['Model'], model_comp2['Accuracy'], color=['red', 'green', 'blue'])\n",
        "plt.xlabel('Model')\n",
        "plt.ylabel('Accuracy (%)')\n",
        "plt.title('Normalization + Oversampling')\n",
        "plt.xticks(rotation=45, ha='right')  # Untuk memutar label sumbu x agar lebih mudah dibaca\n",
        "\n",
        "# Menambahkan keterangan jumlah di atas setiap bar\n",
        "for bar in bars:\n",
        "    yval = bar.get_height()\n",
        "    plt.text(bar.get_x() + bar.get_width()/2, yval, round(yval, 2), ha='center', va='bottom')\n",
        "\n",
        "plt.show()"
      ]
    },
    {
      "cell_type": "markdown",
      "metadata": {
        "id": "1BZgtrXxd_RJ"
      },
      "source": [
        "Dari bar plot tersebut, dapat disimpulkan bahwa penggunaan SMOTE dan Normalisasi pada Random Forest menghasilkan akurasi terbaik, mencapai 92.0%."
      ]
    },
    {
      "cell_type": "markdown",
      "metadata": {
        "id": "MQkwmxRReN02"
      },
      "source": [
        "Menampilkan evaluasi hasil dari data yang telah mengalami Tuning dengan Oversampling (SMOTE) dan Normalisasi."
      ]
    },
    {
      "cell_type": "code",
      "execution_count": 285,
      "metadata": {
        "colab": {
          "base_uri": "https://localhost:8080/",
          "height": 143
        },
        "id": "QIv_TLigfkgO",
        "outputId": "48d734f4-b856-4967-82df-e4e57e0c3f03"
      },
      "outputs": [
        {
          "data": {
            "text/html": [
              "<div>\n",
              "<style scoped>\n",
              "    .dataframe tbody tr th:only-of-type {\n",
              "        vertical-align: middle;\n",
              "    }\n",
              "\n",
              "    .dataframe tbody tr th {\n",
              "        vertical-align: top;\n",
              "    }\n",
              "\n",
              "    .dataframe thead th {\n",
              "        text-align: right;\n",
              "    }\n",
              "</style>\n",
              "<table border=\"1\" class=\"dataframe\">\n",
              "  <thead>\n",
              "    <tr style=\"text-align: right;\">\n",
              "      <th></th>\n",
              "      <th>Model</th>\n",
              "      <th>Accuracy</th>\n",
              "    </tr>\n",
              "  </thead>\n",
              "  <tbody>\n",
              "    <tr>\n",
              "      <th>0</th>\n",
              "      <td>K-Nearest Neighbour</td>\n",
              "      <td>80.7</td>\n",
              "    </tr>\n",
              "    <tr>\n",
              "      <th>1</th>\n",
              "      <td>Random Forest</td>\n",
              "      <td>90.9</td>\n",
              "    </tr>\n",
              "    <tr>\n",
              "      <th>2</th>\n",
              "      <td>XGBoost</td>\n",
              "      <td>90.4</td>\n",
              "    </tr>\n",
              "  </tbody>\n",
              "</table>\n",
              "</div>"
            ],
            "text/plain": [
              "                 Model  Accuracy\n",
              "0  K-Nearest Neighbour      80.7\n",
              "1        Random Forest      90.9\n",
              "2              XGBoost      90.4"
            ]
          },
          "execution_count": 285,
          "metadata": {},
          "output_type": "execute_result"
        }
      ],
      "source": [
        "model_comp3 = pd.DataFrame({'Model': ['K-Nearest Neighbour','Random Forest',\n",
        "                    'XGBoost'], 'Accuracy': [accuracy_knn_smote_normal_Tun*100,\n",
        "                    accuracy_rf_smote_normal_Tun*100,accuracy_xgb_smote_normal_Tun*100]})\n",
        "model_comp3.head()"
      ]
    },
    {
      "cell_type": "code",
      "execution_count": 286,
      "metadata": {
        "colab": {
          "base_uri": "https://localhost:8080/",
          "height": 569
        },
        "id": "UWKyUm2CfoAM",
        "outputId": "ca54c146-7d03-4262-b2af-49a69285b28c"
      },
      "outputs": [
        {
          "data": {
            "image/png": "[encoded data removed]",
            "text/plain": [
              "<Figure size 640x480 with 1 Axes>"
            ]
          },
          "metadata": {},
          "output_type": "display_data"
        }
      ],
      "source": [
        "# Membuat bar plot dengan keterangan jumlah\n",
        "fig, ax = plt.subplots()\n",
        "bars = plt.bar(model_comp3['Model'], model_comp3['Accuracy'], color=['red', 'green', 'blue'])\n",
        "plt.xlabel('Model')\n",
        "plt.ylabel('Accuracy (%)')\n",
        "plt.title('Normalization + Oversampling + Tunning')\n",
        "plt.xticks(rotation=45, ha='right')  # Untuk memutar label sumbu x agar lebih mudah dibaca\n",
        "\n",
        "# Menambahkan keterangan jumlah di atas setiap bar\n",
        "for bar in bars:\n",
        "    yval = bar.get_height()\n",
        "    plt.text(bar.get_x() + bar.get_width()/2, yval, round(yval, 2), ha='center', va='bottom')\n",
        "\n",
        "plt.show()"
      ]
    },
    {
      "cell_type": "markdown",
      "metadata": {
        "id": "WabN-oh9ehWd"
      },
      "source": [
        "Dari diagram batang tersebut, disimpulkan bahwa algoritma Random Forest memperoleh keunggulan dengan akurasi sebesar 89.3% saat menggunakan data yang telah melalui proses Tuning, Oversampling, dan Normalisasi."
      ]
    },
    {
      "cell_type": "markdown",
      "metadata": {
        "id": "FOL6CcPCe_DP"
      },
      "source": [
        "Selanjutnya, model terbaik akan dikompilasi."
      ]
    },
    {
      "cell_type": "code",
      "execution_count": 287,
      "metadata": {
        "id": "zRhyKp0dfqpx"
      },
      "outputs": [],
      "source": [
        "# Data frame\n",
        "model_compBest = pd.DataFrame({\n",
        "    'Model': ['Random Forest OverSample Standarization', 'Random Forest OverSample',\n",
        "              'Random Forest OverSample Standarization Tunning'],\n",
        "    'Accuracy': [accuracy_rf_smote_normal*100, accuracy_rf_smote*100,\n",
        "                 accuracy_rf_smote_normal_Tun*100]\n",
        "})"
      ]
    },
    {
      "cell_type": "code",
      "execution_count": 288,
      "metadata": {
        "colab": {
          "base_uri": "https://localhost:8080/",
          "height": 721
        },
        "id": "DY1X0CO8fukg",
        "outputId": "65a3a600-93ed-4e9e-9c5a-5ed7b5488d7a"
      },
      "outputs": [
        {
          "data": {
            "image/png": "[encoded data removed]",
            "text/plain": [
              "<Figure size 640x480 with 1 Axes>"
            ]
          },
          "metadata": {},
          "output_type": "display_data"
        }
      ],
      "source": [
        "# Membuat bar plot dengan keterangan jumlah\n",
        "fig, ax = plt.subplots()\n",
        "bars = plt.bar(model_compBest['Model'], model_compBest['Accuracy'], color=['red', 'green', 'blue'])\n",
        "plt.xlabel('Model')\n",
        "plt.ylabel('Accuracy (%)')\n",
        "plt.title('Best Model Comparison')\n",
        "plt.xticks(rotation=45, ha='right')  # Untuk memutar label sumbu x agar lebih mudah dibaca\n",
        "\n",
        "# Menambahkan keterangan jumlah di atas setiap bar\n",
        "for bar in bars:\n",
        "    yval = bar.get_height()\n",
        "    plt.text(bar.get_x() + bar.get_width()/2, yval, round(yval, 2), ha='center', va='bottom')\n",
        "\n",
        "plt.show()"
      ]
    },
    {
      "cell_type": "markdown",
      "metadata": {
        "id": "FUXkJrCvf3ni"
      },
      "source": [
        "# 9) Kesimpulan"
      ]
    },
    {
      "cell_type": "markdown",
      "metadata": {
        "id": "SkFv4roxgIST"
      },
      "source": [
        "Dari penelitian tersebut, setelah memodelkan menggunakan algoritma KNN, Random Forest, dan XGBoost dengan beberapa penanganan data seperti random oversampling SMOTE untuk mengatasi ketidakseimbangan data, RandomSearchCV untuk tuning, dan normalisasi data menggunakan MinMaxScaler, dapat disimpulkan bahwa klasifikasi menggunakan Random Oversampling SMOTE pada model KNN menghasilkan akurasi 75.4%, model Random Forest mencapai akurasi 92%, dan model XGBoost menghasilkan akurasi 90.4%.\n",
        "\n",
        "Selanjutnya, klasifikasi menggunakan data yang sudah dinormalisasi dan diberikan SMOTE pada model KNN memberikan akurasi 75.4%, model Random Forest tetap pada akurasi 92%, dan model XGBoost mendapatkan akurasi 90.4%. Tidak terlihat perubahan antara penggunaan SMOTE saja dengan penggunaan normalisasi dan SMOTE.\n",
        "\n",
        "Terakhir, klasifikasi menggunakan data yang telah dituning, dinormalisasi, dan diberikan SMOTE pada model KNN memberikan akurasi 78.1%, model Random Forest mencapai akurasi 89.3%, dan model XGBoost dengan akurasi 88.2%.\n",
        "\n",
        "Dengan demikian, dapat disimpulkan bahwa penanganan data yang optimal untuk masalah ketidakseimbangan data melibatkan metode SMOTE bersamaan dengan tuning dan normalisasi data. Pendekatan ini dapat memberikan hasil yang signifikan dalam meningkatkan akurasi model klasifikasi, terutama pada model KNN dan XGBoost. Namun, penanganan tersebut tidak menghasilkan peningkatan akurasi pada model Random Forest."
      ]
    },
    {
      "cell_type": "markdown",
      "metadata": {
        "id": "mj4-bAVKfSnR"
      },
      "source": [
        "# 10) Streamlit"
      ]
    },
    {
      "cell_type": "code",
      "execution_count": 289,
      "metadata": {
        "id": "v3aR1bIOfWCK"
      },
      "outputs": [],
      "source": [
        "# Save model as pickle\n",
        "import pickle\n",
        "\n",
        "# Simpan model ke dalam file pickle\n",
        "# Random Forest\n",
        "# with open('model_rf.pickle', 'wb') as f:\n",
        "#    pickle.dump(rf_model, f)\n",
        "\n",
        "# XGB\n",
        "with open('model_rf_fix.pickle', 'wb') as f:\n",
        "    pickle.dump(rf_model_fix, f)\n",
        "\n",
        "# Simpan akurasi XGBoost dalam pickle\n",
        "model_info = {'df4MinMax':dfClean, 'accuracy':accuracy_rf_smote*100}\n",
        "with open('model_rf_fix_info.pickle', 'wb') as f:\n",
        "    pickle.dump(model_info, f)"
      ]
    },
    {
      "cell_type": "code",
      "execution_count": 290,
      "metadata": {
        "colab": {
          "base_uri": "https://localhost:8080/"
        },
        "id": "njf4OkwSi3Xw",
        "outputId": "a99f0854-ad4a-4cae-8426-419599b396b6"
      },
      "outputs": [
        {
          "name": "stdout",
          "output_type": "stream",
          "text": [
            "1.2.2\n"
          ]
        }
      ],
      "source": [
        "import sklearn\n",
        "print(sklearn.__version__)"
      ]
    },
    {
      "cell_type": "code",
      "execution_count": null,
      "metadata": {},
      "outputs": [],
      "source": []
    }
  ],
  "metadata": {
    "colab": {
      "gpuType": "T4",
      "provenance": []
    },
    "kaggle": {
      "accelerator": "nvidiaTeslaT4",
      "dataSources": [
        {
          "datasetId": 4086059,
          "sourceId": 7090782,
          "sourceType": "datasetVersion"
        },
        {
          "datasetId": 4166278,
          "sourceId": 7202256,
          "sourceType": "datasetVersion"
        }
      ],
      "dockerImageVersionId": 30627,
      "isGpuEnabled": true,
      "isInternetEnabled": true,
      "language": "python",
      "sourceType": "notebook"
    },
    "kernelspec": {
      "display_name": "Python 3",
      "name": "python3"
    },
    "language_info": {
      "codemirror_mode": {
        "name": "ipython",
        "version": 3
      },
      "file_extension": ".py",
      "mimetype": "text/x-python",
      "name": "python",
      "nbconvert_exporter": "python",
      "pygments_lexer": "ipython3",
      "version": "3.9.16"
    }
  },
  "nbformat": 4,
  "nbformat_minor": 0
}
